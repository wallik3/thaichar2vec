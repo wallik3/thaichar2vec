{
  "nbformat": 4,
  "nbformat_minor": 0,
  "metadata": {
    "colab": {
      "provenance": [],
      "gpuType": "T4",
      "machine_shape": "hm",
      "include_colab_link": true
    },
    "kernelspec": {
      "name": "python3",
      "display_name": "Python 3"
    },
    "language_info": {
      "name": "python"
    },
    "accelerator": "GPU"
  },
  "cells": [
    {
      "cell_type": "markdown",
      "metadata": {
        "id": "view-in-github",
        "colab_type": "text"
      },
      "source": [
        "<a href=\"https://colab.research.google.com/github/SaranAI/thaichar2vec/blob/main/notebooks/research/train_gloVe.ipynb\" target=\"_parent\"><img src=\"https://colab.research.google.com/assets/colab-badge.svg\" alt=\"Open In Colab\"/></a>"
      ]
    },
    {
      "cell_type": "markdown",
      "source": [
        "# About this notebook\n",
        "- This notebook implemented GloVe model on thai corpus to obtain thai embedding\n",
        "- Although most cases are better ะน use (sub)word over character embedding, however, it might be useful for some cases like\n",
        "1. name generation\n",
        "2. thai word cut"
      ],
      "metadata": {
        "id": "J1alD36aUFYl"
      }
    },
    {
      "cell_type": "markdown",
      "source": [
        "## Goal\n",
        "- To maximize the entropy of the work in corpus"
      ],
      "metadata": {
        "id": "fn_7WGu9SqVv"
      }
    },
    {
      "cell_type": "markdown",
      "source": [
        "## Method\n",
        "- Obtain Corpora\n",
        "  - name-surname corpus\n",
        "  - thai vocabulary ฉบับราชบั\n",
        "- Train\n",
        "  - skipgram\n",
        "  - cbow\n",
        "  - negative samples\n",
        "  - glove\n",
        "- Visualize"
      ],
      "metadata": {
        "id": "JK38kH54U9a_"
      }
    },
    {
      "cell_type": "markdown",
      "source": [
        "## Why GloVe\n",
        "\n",
        "The primary drawback of window-based methods is their limited scope; they focus on local context and do not consider global co-occurrences, which means they overlook valuable statistical information within the corpus. Consequently, they fail to harness the patterns of word repetition found throughout the corpus"
      ],
      "metadata": {
        "id": "GxbuO56pp45Z"
      }
    },
    {
      "cell_type": "code",
      "source": [
        "# Import Data\n",
        "%%capture\n",
        "\n",
        "# Name-surname corpus\n",
        "!wget -O male_name.txt https://raw.githubusercontent.com/SaranAI/thaichar2vec/main/artifacts/dataset/male_names_th.txt\n",
        "!wget -O female_name.txt https://raw.githubusercontent.com/SaranAI/thaichar2vec/main/artifacts/dataset/female_names_th.txt\n",
        "!wget -O surname.txt https://raw.githubusercontent.com/SaranAI/thaichar2vec/main/artifacts/dataset/surnames_th.txt\n",
        "\n",
        "# Thai Lexicon Vocabulary\n",
        "!wget -O lexicon.txt https://raw.githubusercontent.com/SaranAI/thaichar2vec/main/artifacts/dataset/lexicon_th.txt"
      ],
      "metadata": {
        "id": "uaWopysZUY7F"
      },
      "execution_count": null,
      "outputs": []
    },
    {
      "cell_type": "code",
      "source": [
        "from typing import List, Set, Union, Dict, Tuple\n",
        "import os\n",
        "\n",
        "# Define functions\n",
        "def open_txt(txt_file:str)->List:\n",
        "  \"\"\"\n",
        "  Read lines from txt file and return a list where\n",
        "  each list element represent each line\n",
        "  \"\"\"\n",
        "  output_list = []\n",
        "  with open(txt_file,\"r\") as f:\n",
        "    lines = f.readlines()\n",
        "    for line in lines:\n",
        "     output_list.append(line.strip())\n",
        "  return output_list\n",
        "\n",
        "def get_corpora(corpus_file_names:List[str],\n",
        "                root_dir:str=\"/content\",\n",
        "                verbose=True)->Set[str]:\n",
        "\n",
        "  \"\"\"\n",
        "  Import all corpus files\n",
        "\n",
        "  Output:\n",
        "    - set of all words (set)\n",
        "  \"\"\"\n",
        "\n",
        "  corpus_list = []\n",
        "  for corpus_file_name in corpus_file_names:\n",
        "    corpus = open_txt(os.path.join(root_dir,corpus_file_name))\n",
        "    print(f\"len({corpus_file_name})={len(corpus)}\") if verbose else None\n",
        "    corpus_list.append(corpus)\n",
        "\n",
        "  corpora = set()\n",
        "  for corpus in corpus_list:\n",
        "    corpora.update(corpus)\n",
        "\n",
        "  print(f\"{len(corpora)=}\") if verbose else None\n",
        "  return corpora"
      ],
      "metadata": {
        "id": "wZZ3U6U1VOrU"
      },
      "execution_count": null,
      "outputs": []
    },
    {
      "cell_type": "code",
      "source": [
        "corpus_file_name = [\"male_name.txt\",\n",
        "                    \"female_name.txt\",\n",
        "                    \"surname.txt\",\n",
        "                    \"lexicon.txt\"]\n",
        "\n",
        "corpora = get_corpora(corpus_file_name,verbose=True)"
      ],
      "metadata": {
        "colab": {
          "base_uri": "https://localhost:8080/"
        },
        "id": "tZi4A9BYgEv8",
        "outputId": "de996134-ccb5-40bd-fde6-8ca91f9a4b59"
      },
      "execution_count": null,
      "outputs": [
        {
          "output_type": "stream",
          "name": "stdout",
          "text": [
            "len(male_name.txt)=7124\n",
            "len(female_name.txt)=5098\n",
            "len(surname.txt)=9836\n",
            "len(lexicon.txt)=37675\n",
            "len(corpora)=56983\n"
          ]
        }
      ]
    },
    {
      "cell_type": "markdown",
      "source": [
        "- We found some of vocabulary word contain no thai character, so we will remove the word contain that out,"
      ],
      "metadata": {
        "id": "nXmx4QAVijaI"
      }
    },
    {
      "cell_type": "code",
      "source": [
        "WHITELIST = list(\"กขฃคฅฆงจฉชซฌญฎฏฐฑฒณดตถทธนบปผฝพฟภมยรลวศษสหฬอฮฤฦะัาำิีึืุูเแโใไๅํ็่้๊๋ฯฺๆ์ํ\")\n",
        "# Pop duplicated\n",
        "WHITELIST = sorted(list(set(WHITELIST)))\n",
        "\n",
        "def preprocess(corpus:Set[str],\n",
        "               whitelist:Union[List,str]=WHITELIST,\n",
        "               verbose:bool=True)->Set[str]:\n",
        "  \"\"\"\n",
        "  Perform preprocessing to the vocabulary inside corpus\n",
        "\n",
        "  Note:\n",
        "    This function mutates the corpus in-place\n",
        "  \"\"\"\n",
        "  # REF:Obtain and partially remove some from Pythainlp.thai_characters\n",
        "\n",
        "  for word in corpus.copy():\n",
        "    # Inspect in character level\n",
        "    for char in word:\n",
        "      if char not in whitelist:\n",
        "        corpus.remove(word)\n",
        "        print(f'Remove word \"{word}\" containing \"{char}\"') if verbose else None\n",
        "        break\n",
        "\n",
        "  print(f\"{len(corpus)=}\" if verbose else None)\n",
        "  return corpus"
      ],
      "metadata": {
        "id": "Uh_Ji_XgihvB"
      },
      "execution_count": null,
      "outputs": []
    },
    {
      "cell_type": "code",
      "source": [
        "corpora = preprocess(corpora, WHITELIST)"
      ],
      "metadata": {
        "colab": {
          "base_uri": "https://localhost:8080/"
        },
        "id": "LwRUORGSkCvP",
        "outputId": "84527531-8ae0-45da-eb98-3add7075b4f6"
      },
      "execution_count": null,
      "outputs": [
        {
          "output_type": "stream",
          "name": "stdout",
          "text": [
            "Remove word \"พสก-\" containing \"-\"\n",
            "Remove word \"ชาต-\" containing \"-\"\n",
            "Remove word \"เอาหูไปนา เอาตาไปไร่\" containing \" \"\n",
            "Remove word \"สิญจ-\" containing \"-\"\n",
            "Remove word \"สาณ-\" containing \"-\"\n",
            "Remove word \"เนือย ๆ\" containing \" \"\n",
            "Remove word \"บรม-\" containing \"-\"\n",
            "Remove word \"ยิบ ๆ\" containing \" \"\n",
            "Remove word \"ฝนตกก็แช่ง ฝนแล้งก็ด่า\" containing \" \"\n",
            "Remove word \"ปาฐ-\" containing \"-\"\n",
            "Remove word \"วาร-\" containing \"-\"\n",
            "Remove word \"คิก ๆ\" containing \" \"\n",
            "Remove word \"ด๊ก ๆ\" containing \" \"\n",
            "Remove word \"ภาร-\" containing \"-\"\n",
            "Remove word \"ลูก ๆ หลาน ๆ\" containing \" \"\n",
            "Remove word \"ชน-\" containing \"-\"\n",
            "Remove word \"หย็อย ๆ\" containing \" \"\n",
            "Remove word \"วันทน-\" containing \"-\"\n",
            "Remove word \"นิสภ-\" containing \"-\"\n",
            "Remove word \"ความวัวไม่ทันหาย ความควายเข้ามาแทรก\" containing \" \"\n",
            "Remove word \"ด่อง ๆ\" containing \" \"\n",
            "Remove word \"ดาด ๆ\" containing \" \"\n",
            "Remove word \"พิษ-\" containing \"-\"\n",
            "Remove word \"คร่าว ๆ\" containing \" \"\n",
            "Remove word \"อภินันท-\" containing \"-\"\n",
            "Remove word \"อัฐ-\" containing \"-\"\n",
            "Remove word \"โคจร-\" containing \"-\"\n",
            "Remove word \"เทห-\" containing \"-\"\n",
            "Remove word \"ปรม-\" containing \"-\"\n",
            "Remove word \"พิถย-\" containing \"-\"\n",
            "Remove word \"ศิว-\" containing \"-\"\n",
            "Remove word \"สูป-\" containing \"-\"\n",
            "Remove word \"วิเลป-\" containing \"-\"\n",
            "Remove word \"ศุภ-\" containing \"-\"\n",
            "Remove word \"สาร-\" containing \"-\"\n",
            "Remove word \"ศศ-\" containing \"-\"\n",
            "Remove word \"ศาสนีย-\" containing \"-\"\n",
            "Remove word \"บัณฑร-\" containing \"-\"\n",
            "Remove word \"สัลเลข-\" containing \"-\"\n",
            "Remove word \"ยุทธ-\" containing \"-\"\n",
            "Remove word \"มัว ๆ\" containing \" \"\n",
            "Remove word \"มิต-\" containing \"-\"\n",
            "Remove word \"ทฤฆ-\" containing \"-\"\n",
            "Remove word \"เทียรฆ-\" containing \"-\"\n",
            "Remove word \"เหยิบ ๆ\" containing \" \"\n",
            "Remove word \"วาท-\" containing \"-\"\n",
            "Remove word \"นาวิก-\" containing \"-\"\n",
            "Remove word \"ตาดำ ๆ\" containing \" \"\n",
            "Remove word \"หงิก ๆ งอ ๆ\" containing \" \"\n",
            "Remove word \"ไชย-\" containing \"-\"\n",
            "Remove word \"มูฬห-\" containing \"-\"\n",
            "Remove word \"วัปป-\" containing \"-\"\n",
            "Remove word \"หึ่ง ๆ\" containing \" \"\n",
            "Remove word \"หรุบ ๆ\" containing \" \"\n",
            "Remove word \"เกตุ-\" containing \"-\"\n",
            "Remove word \"อาโลก-\" containing \"-\"\n",
            "Remove word \"มธุร-\" containing \"-\"\n",
            "Remove word \"วัฏ-\" containing \"-\"\n",
            "Remove word \"ภังค-\" containing \"-\"\n",
            "Remove word \"เสต-\" containing \"-\"\n",
            "Remove word \"รวย ๆ\" containing \" \"\n",
            "Remove word \"มือไม่พาย เอาตีนราน้ำ\" containing \" \"\n",
            "Remove word \"กรรบาสิก-\" containing \"-\"\n",
            "Remove word \"ปุรพ-\" containing \"-\"\n",
            "Remove word \"บาท-\" containing \"-\"\n",
            "Remove word \"ผลิต-\" containing \"-\"\n",
            "Remove word \"รุ่น ๆ\" containing \" \"\n",
            "Remove word \"สาหัตถ-\" containing \"-\"\n",
            "Remove word \"ทวาทศม-\" containing \"-\"\n",
            "Remove word \"อุร-\" containing \"-\"\n",
            "Remove word \"ตจ-\" containing \"-\"\n",
            "Remove word \"คุยห-\" containing \"-\"\n",
            "Remove word \"สันถว-\" containing \"-\"\n",
            "Remove word \"แหมะ ๆ\" containing \" \"\n",
            "Remove word \"สามนต-\" containing \"-\"\n",
            "Remove word \"ดุลย-\" containing \"-\"\n",
            "Remove word \"รู้งู ๆ ปลา ๆ\" containing \" \"\n",
            "Remove word \"อภิชาต-\" containing \"-\"\n",
            "Remove word \"เสน-\" containing \"-\"\n",
            "Remove word \"แก่เพราะกินข้าว เฒ่าเพราะอยู่นาน\" containing \" \"\n",
            "Remove word \"นาฏย-\" containing \"-\"\n",
            "Remove word \"ปาณ-\" containing \"-\"\n",
            "Remove word \"เวจ-\" containing \"-\"\n",
            "Remove word \"กฏุก-\" containing \"-\"\n",
            "Remove word \"ควิว ๆ\" containing \" \"\n",
            "Remove word \"เขม-\" containing \"-\"\n",
            "Remove word \"เฉื่อย ๆ\" containing \" \"\n",
            "Remove word \"เร็ว ๆ\" containing \" \"\n",
            "Remove word \"ก ข ไม่กระดิกหู\" containing \" \"\n",
            "Remove word \"บูรณ-\" containing \"-\"\n",
            "Remove word \"มล-\" containing \"-\"\n",
            "Remove word \"หมุบ ๆ\" containing \" \"\n",
            "Remove word \"ญาติ-\" containing \"-\"\n",
            "Remove word \"ทาฐ-\" containing \"-\"\n",
            "Remove word \"อาศิร-\" containing \"-\"\n",
            "Remove word \"อิศรางกูร ณ อยุธยา\" containing \" \"\n",
            "Remove word \"อนัตถ-\" containing \"-\"\n",
            "Remove word \"ภัณฑ-\" containing \"-\"\n",
            "Remove word \"แป๊บ ๆ\" containing \" \"\n",
            "Remove word \"บุรพ-\" containing \"-\"\n",
            "Remove word \"ชังฆ-\" containing \"-\"\n",
            "Remove word \"มนท-\" containing \"-\"\n",
            "Remove word \"จั้ก ๆ\" containing \" \"\n",
            "Remove word \"จตุ-\" containing \"-\"\n",
            "Remove word \"ธรรมิก-\" containing \"-\"\n",
            "Remove word \"วิวัฒน-\" containing \"-\"\n",
            "Remove word \"หงก ๆ\" containing \" \"\n",
            "Remove word \"อาปาน-\" containing \"-\"\n",
            "Remove word \"ฉับ ๆ\" containing \" \"\n",
            "Remove word \"อักษร-\" containing \"-\"\n",
            "Remove word \"กล้วย ๆ\" containing \" \"\n",
            "Remove word \"คลั่ก ๆ\" containing \" \"\n",
            "Remove word \"ทอย ๆ\" containing \" \"\n",
            "Remove word \"ติณ-\" containing \"-\"\n",
            "Remove word \"ไบ่ ๆ\" containing \" \"\n",
            "Remove word \"ไปรษณีย-\" containing \"-\"\n",
            "Remove word \"ปาณก-\" containing \"-\"\n",
            "Remove word \"สัปปุริส-\" containing \"-\"\n",
            "Remove word \"ยอง ๆ\" containing \" \"\n",
            "Remove word \"สิร-\" containing \"-\"\n",
            "Remove word \"ห้วน ๆ\" containing \" \"\n",
            "Remove word \"ทวิช-\" containing \"-\"\n",
            "Remove word \"เปศัส-\" containing \"-\"\n",
            "Remove word \"ตุ ๆ\" containing \" \"\n",
            "Remove word \"เพชร-\" containing \"-\"\n",
            "Remove word \"ขย-\" containing \"-\"\n",
            "Remove word \"มิคสิร-\" containing \"-\"\n",
            "Remove word \"โพธิ-\" containing \"-\"\n",
            "Remove word \"สักการ-\" containing \"-\"\n",
            "Remove word \"ถิร-\" containing \"-\"\n",
            "Remove word \"อสุภ-\" containing \"-\"\n",
            "Remove word \"ผริต-\" containing \"-\"\n",
            "Remove word \"ณ น่าน\" containing \" \"\n",
            "Remove word \"ผีบ้านไม่ดี ผีป่าก็พลอย\" containing \" \"\n",
            "Remove word \"บ้านเคยอยู่ อู่เคยนอน\" containing \" \"\n",
            "Remove word \"อนุชาต-\" containing \"-\"\n",
            "Remove word \"หว็อย ๆ\" containing \" \"\n",
            "Remove word \"หล็อน ๆ\" containing \" \"\n",
            "Remove word \"ชย-\" containing \"-\"\n",
            "Remove word \"อักขร-\" containing \"-\"\n",
            "Remove word \"วีต-\" containing \"-\"\n",
            "Remove word \"อุตร-\" containing \"-\"\n",
            "Remove word \"อัคร-\" containing \"-\"\n",
            "Remove word \"ปาว ๆ\" containing \" \"\n",
            "Remove word \"ศูนย-\" containing \"-\"\n",
            "Remove word \"สก-\" containing \"-\"\n",
            "Remove word \"ต่อหน้ามะพลับ ลับหลังตะโก\" containing \" \"\n",
            "Remove word \"กริตย-\" containing \"-\"\n",
            "Remove word \"อนวัช-\" containing \"-\"\n",
            "Remove word \"บุษย-\" containing \"-\"\n",
            "Remove word \"ลูกขุน ณ ศาลา\" containing \" \"\n",
            "Remove word \"อาสน-\" containing \"-\"\n",
            "Remove word \"สูติ-\" containing \"-\"\n",
            "Remove word \"วัน ๆ\" containing \" \"\n",
            "Remove word \"กรัณฑ-\" containing \"-\"\n",
            "Remove word \"มังส-\" containing \"-\"\n",
            "Remove word \"วุฒิ-\" containing \"-\"\n",
            "Remove word \"ฆร-\" containing \"-\"\n",
            "Remove word \"พรหม-\" containing \"-\"\n",
            "Remove word \"จรรม-\" containing \"-\"\n",
            "Remove word \"พรำ ๆ\" containing \" \"\n",
            "Remove word \"บรรพต-\" containing \"-\"\n",
            "Remove word \"มาฆ-\" containing \"-\"\n",
            "Remove word \"ปริกรรม-\" containing \"-\"\n",
            "Remove word \"นีร-\" containing \"-\"\n",
            "Remove word \"ขิก ๆ\" containing \" \"\n",
            "Remove word \"อาทิตย-\" containing \"-\"\n",
            "Remove word \"สัมฤทธิ-\" containing \"-\"\n",
            "Remove word \"ไอศุริย-\" containing \"-\"\n",
            "Remove word \"รูป-\" containing \"-\"\n",
            "Remove word \"กระแด็ก ๆ\" containing \" \"\n",
            "Remove word \"ฐาน-\" containing \"-\"\n",
            "Remove word \"ทุก ๆ\" containing \" \"\n",
            "Remove word \"หงส-\" containing \"-\"\n",
            "Remove word \"บุคลิก-\" containing \"-\"\n",
            "Remove word \"ถับ ๆ\" containing \" \"\n",
            "Remove word \"วาล-\" containing \"-\"\n",
            "Remove word \"นิคห-\" containing \"-\"\n",
            "Remove word \"ราค-\" containing \"-\"\n",
            "Remove word \"รัส-\" containing \"-\"\n",
            "Remove word \"ภาค-\" containing \"-\"\n",
            "Remove word \"เงา ๆ\" containing \" \"\n",
            "Remove word \"วณ-\" containing \"-\"\n",
            "Remove word \"นฤ-\" containing \"-\"\n",
            "Remove word \"อกุศล-เจตนา\" containing \"-\"\n",
            "Remove word \"หีน-\" containing \"-\"\n",
            "Remove word \"อน-\" containing \"-\"\n",
            "Remove word \"นว-\" containing \"-\"\n",
            "Remove word \"ผลุบ ๆ โผล่ ๆ\" containing \" \"\n",
            "Remove word \"ไหน ๆ\" containing \" \"\n",
            "Remove word \"อร-\" containing \"-\"\n",
            "Remove word \"อึ้ก ๆ\" containing \" \"\n",
            "Remove word \"แผ่ว ๆ\" containing \" \"\n",
            "Remove word \"เสล-\" containing \"-\"\n",
            "Remove word \"เตาะ ๆ แตะ ๆ\" containing \" \"\n",
            "Remove word \"ทุษฐ-\" containing \"-\"\n",
            "Remove word \"วาฬ-\" containing \"-\"\n",
            "Remove word \"สิกขากาม-\" containing \"-\"\n",
            "Remove word \"ปัญจ-\" containing \"-\"\n",
            "Remove word \"สัตตาห-\" containing \"-\"\n",
            "Remove word \"ร้อน ๆ หนาว ๆ\" containing \" \"\n",
            "Remove word \"สาสน-\" containing \"-\"\n",
            "Remove word \"ชวน-\" containing \"-\"\n",
            "Remove word \"ภวังค-\" containing \"-\"\n",
            "Remove word \"สูรย-\" containing \"-\"\n",
            "Remove word \"วต-\" containing \"-\"\n",
            "Remove word \"อธิป-\" containing \"-\"\n",
            "Remove word \"โอร-\" containing \"-\"\n",
            "Remove word \"สัชฌ-\" containing \"-\"\n",
            "Remove word \"วิจารณ-\" containing \"-\"\n",
            "Remove word \"โปกขร-\" containing \"-\"\n",
            "Remove word \"ย้ำ ๆ\" containing \" \"\n",
            "Remove word \"พลั่ง ๆ\" containing \" \"\n",
            "Remove word \"หรอย ๆ\" containing \" \"\n",
            "Remove word \"กฤตย-\" containing \"-\"\n",
            "Remove word \"เรียบ ๆ\" containing \" \"\n",
            "Remove word \"ปะแล่ม ๆ\" containing \" \"\n",
            "Remove word \"ศาก-\" containing \"-\"\n",
            "Remove word \"ฆาน-\" containing \"-\"\n",
            "Remove word \"บ่อย ๆ\" containing \" \"\n",
            "Remove word \"อำมาตย-\" containing \"-\"\n",
            "Remove word \"สุต-\" containing \"-\"\n",
            "Remove word \"สิบห้าหยก ๆ สิบหกหย่อน ๆ\" containing \" \"\n",
            "Remove word \"อยู่ ๆ\" containing \" \"\n",
            "Remove word \"ปัจจุส-\" containing \"-\"\n",
            "Remove word \"เสถียร-\" containing \"-\"\n",
            "Remove word \"ชว-\" containing \"-\"\n",
            "Remove word \"รออิสบิซาตุลฮัจย์ อัลรัสมียะห์\" containing \" \"\n",
            "Remove word \"สัมพัจฉร-\" containing \"-\"\n",
            "Remove word \"กินเหมือนหมู อยู่เหมือนหมา\" containing \" \"\n",
            "Remove word \"พรอด ๆ\" containing \" \"\n",
            "Remove word \"คอหยัก ๆ สักแต่ว่าคน\" containing \" \"\n",
            "Remove word \"ฟุ ๆ\" containing \" \"\n",
            "Remove word \"วทานิย-\" containing \"-\"\n",
            "Remove word \"มือไม่พาย เอาเท้าราน้ำ\" containing \" \"\n",
            "Remove word \"อกัปปิย-\" containing \"-\"\n",
            "Remove word \"อดุลย-\" containing \"-\"\n",
            "Remove word \"โง่ง ๆ\" containing \" \"\n",
            "Remove word \"มน-\" containing \"-\"\n",
            "Remove word \"พฤติ-\" containing \"-\"\n",
            "Remove word \"อรณ-\" containing \"-\"\n",
            "Remove word \"ประทีป ณ ถลาง\" containing \" \"\n",
            "Remove word \"จาตุ-\" containing \"-\"\n",
            "Remove word \"วาต-\" containing \"-\"\n",
            "Remove word \"เขิน ๆ\" containing \" \"\n",
            "Remove word \"เลือน ๆ\" containing \" \"\n",
            "Remove word \"อรช-\" containing \"-\"\n",
            "Remove word \"พก-\" containing \"-\"\n",
            "Remove word \"โทส-\" containing \"-\"\n",
            "Remove word \"อิด ๆ ออด ๆ\" containing \" \"\n",
            "Remove word \"พาณ-\" containing \"-\"\n",
            "Remove word \"เศาจ-\" containing \"-\"\n",
            "Remove word \"ดิก ๆ\" containing \" \"\n",
            "Remove word \"ศราทธ-\" containing \"-\"\n",
            "Remove word \"อสัมภิน-\" containing \"-\"\n",
            "Remove word \"ปาสาณ-\" containing \"-\"\n",
            "Remove word \"กุมภัณฑ-\" containing \"-\"\n",
            "Remove word \"จิร-\" containing \"-\"\n",
            "Remove word \"โผฏฐัพ-\" containing \"-\"\n",
            "Remove word \"วับ ๆ หวำ ๆ\" containing \" \"\n",
            "Remove word \"ชร-\" containing \"-\"\n",
            "Remove word \"รงค-\" containing \"-\"\n",
            "Remove word \"งุบ ๆ\" containing \" \"\n",
            "Remove word \"คัพภ-\" containing \"-\"\n",
            "Remove word \"มฤค-\" containing \"-\"\n",
            "Remove word \"จดูร-\" containing \"-\"\n",
            "Remove word \"อิสร-\" containing \"-\"\n",
            "Remove word \"ปังสุกูลิก-\" containing \"-\"\n",
            "Remove word \"ลิบ ๆ\" containing \" \"\n",
            "Remove word \"หมู ๆ\" containing \" \"\n",
            "Remove word \"อจล-\" containing \"-\"\n",
            "Remove word \"เก้ ๆ กัง ๆ\" containing \" \"\n",
            "Remove word \"เสือทลายห้าง ช้างทลายโรง\" containing \" \"\n",
            "Remove word \"สังข-\" containing \"-\"\n",
            "Remove word \"รัชต-\" containing \"-\"\n",
            "Remove word \"นาค-\" containing \"-\"\n",
            "Remove word \"พิทย-\" containing \"-\"\n",
            "Remove word \"จู่ ๆ\" containing \" \"\n",
            "Remove word \"มือถือสาก ปากถือศีล\" containing \" \"\n",
            "Remove word \"อดิเรก-\" containing \"-\"\n",
            "Remove word \"เผยิบ ๆ\" containing \" \"\n",
            "Remove word \"เสกข-\" containing \"-\"\n",
            "Remove word \"อุท-\" containing \"-\"\n",
            "Remove word \"ภินท-\" containing \"-\"\n",
            "Remove word \"เยี่ยม ๆ มอง ๆ\" containing \" \"\n",
            "Remove word \"หวานเป็นลม ขมเป็นยา\" containing \" \"\n",
            "Remove word \"ฉินท-\" containing \"-\"\n",
            "Remove word \"อรรธ-\" containing \"-\"\n",
            "Remove word \"วิกาล-\" containing \"-\"\n",
            "Remove word \"นวก-\" containing \"-\"\n",
            "Remove word \"ตะคุ่ม ๆ\" containing \" \"\n",
            "Remove word \"ภินทน-\" containing \"-\"\n",
            "Remove word \"ผลุบโผล่ ๆ\" containing \" \"\n",
            "Remove word \"ศักดิ-\" containing \"-\"\n",
            "Remove word \"จิตต-\" containing \"-\"\n",
            "Remove word \"พักตร-\" containing \"-\"\n",
            "Remove word \"อวชาต-\" containing \"-\"\n",
            "Remove word \"หยาบ ๆ\" containing \" \"\n",
            "Remove word \"ณ สงขลา\" containing \" \"\n",
            "Remove word \"สุว-\" containing \"-\"\n",
            "Remove word \"นพ-\" containing \"-\"\n",
            "Remove word \"ข้าง ๆ\" containing \" \"\n",
            "Remove word \"ภาชนีย-\" containing \"-\"\n",
            "Remove word \"รัฐ-\" containing \"-\"\n",
            "Remove word \"สมุจเฉท-\" containing \"-\"\n",
            "Remove word \"ย็อก ๆ แย็ก ๆ\" containing \" \"\n",
            "Remove word \"กัณห-\" containing \"-\"\n",
            "Remove word \"นร-\" containing \"-\"\n",
            "Remove word \"โมกข-\" containing \"-\"\n",
            "Remove word \"เอก-\" containing \"-\"\n",
            "Remove word \"อันธ-\" containing \"-\"\n",
            "Remove word \"แขม็บ ๆ\" containing \" \"\n",
            "Remove word \"อันวย-\" containing \"-\"\n",
            "Remove word \"ทิช-\" containing \"-\"\n",
            "Remove word \"หน้าปูเลี่ยน ๆ\" containing \" \"\n",
            "Remove word \"กระเดิด ๆ\" containing \" \"\n",
            "Remove word \"เกรี้ยว ๆ\" containing \" \"\n",
            "Remove word \"กษัย-\" containing \"-\"\n",
            "Remove word \"โทร-\" containing \"-\"\n",
            "Remove word \"สะตึ ๆ\" containing \" \"\n",
            "Remove word \"อุษณ-\" containing \"-\"\n",
            "Remove word \"เผาะ ๆ\" containing \" \"\n",
            "Remove word \"เป็นพัก ๆ\" containing \" \"\n",
            "Remove word \"อติเรก-\" containing \"-\"\n",
            "Remove word \"เร็ว ๆ นี้\" containing \" \"\n",
            "Remove word \"กษีร-\" containing \"-\"\n",
            "Remove word \"ปรอด ๆ\" containing \" \"\n",
            "Remove word \"มยุร-\" containing \"-\"\n",
            "Remove word \"ลัย-\" containing \"-\"\n",
            "Remove word \"เบญจ-\" containing \"-\"\n",
            "Remove word \"คนในอยากออก คนนอกอยากเข้า\" containing \" \"\n",
            "Remove word \"ประสาท-\" containing \"-\"\n",
            "Remove word \"ทิพ-\" containing \"-\"\n",
            "Remove word \"ชิต-\" containing \"-\"\n",
            "Remove word \"บาน-\" containing \"-\"\n",
            "Remove word \"สารัตถ-\" containing \"-\"\n",
            "Remove word \"ผ้ำ ๆ\" containing \" \"\n",
            "Remove word \"โลกุตร-\" containing \"-\"\n",
            "Remove word \"ศานติก-\" containing \"-\"\n",
            "Remove word \"บัวไม่ช้ำ น้ำไม่ขุ่น\" containing \" \"\n",
            "Remove word \"สุ ๆ\" containing \" \"\n",
            "Remove word \"เจ้าไม่มีศาล สมภารไม่มีวัด\" containing \" \"\n",
            "Remove word \"อาตม-\" containing \"-\"\n",
            "Remove word \"พิชย-\" containing \"-\"\n",
            "Remove word \"ทาร-\" containing \"-\"\n",
            "Remove word \"ชุมสาย ณ อยุธยา\" containing \" \"\n",
            "Remove word \"หมับ ๆ\" containing \" \"\n",
            "Remove word \"อัป-\" containing \"-\"\n",
            "Remove word \"เป็นไหน ๆ\" containing \" \"\n",
            "Remove word \"ศุภร-\" containing \"-\"\n",
            "Remove word \"ผ็อย ๆ\" containing \" \"\n",
            "Remove word \"ล่ก ๆ\" containing \" \"\n",
            "Remove word \"ปัณรสม-\" containing \"-\"\n",
            "Remove word \"กรก-\" containing \"-\"\n",
            "Remove word \"ครุก-\" containing \"-\"\n",
            "Remove word \"รีบ ๆ\" containing \" \"\n",
            "Remove word \"หริ่ง ๆ\" containing \" \"\n",
            "Remove word \"ปสันน-\" containing \"-\"\n",
            "Remove word \"อสัญ-\" containing \"-\"\n",
            "Remove word \"อริย-\" containing \"-\"\n",
            "Remove word \"เหมื่อย ๆ\" containing \" \"\n",
            "Remove word \"มัณฑ-\" containing \"-\"\n",
            "Remove word \"ขัตติย-\" containing \"-\"\n",
            "Remove word \"อเนก-\" containing \"-\"\n",
            "Remove word \"มั่งมีในใจ แล่นใบบนบก\" containing \" \"\n",
            "Remove word \"สม-\" containing \"-\"\n",
            "Remove word \"เหนาะ ๆ\" containing \" \"\n",
            "Remove word \"งึก ๆ\" containing \" \"\n",
            "Remove word \"แหะ ๆ\" containing \" \"\n",
            "Remove word \"ธาตุ-\" containing \"-\"\n",
            "Remove word \"ยาบ ๆ\" containing \" \"\n",
            "Remove word \"ทิพย-\" containing \"-\"\n",
            "Remove word \"สกล-\" containing \"-\"\n",
            "Remove word \"ณ โกศิลป์\" containing \" \"\n",
            "Remove word \"อุตสาห-\" containing \"-\"\n",
            "Remove word \"ประวัติ-\" containing \"-\"\n",
            "Remove word \"เสียน้อยเสียยาก เสียมากเสียง่าย\" containing \" \"\n",
            "Remove word \"ขุนนางใช่พ่อแม่ หินแง่ใช่ตายาย\" containing \" \"\n",
            "Remove word \"รี ๆ รอ ๆ\" containing \" \"\n",
            "Remove word \"จันทร-\" containing \"-\"\n",
            "Remove word \"ป.เสฎฐวุฒิ\" containing \".\"\n",
            "Remove word \"รุกข-\" containing \"-\"\n",
            "Remove word \"กาล-\" containing \"-\"\n",
            "Remove word \"กิ๋ว ๆ\" containing \" \"\n",
            "Remove word \"เรื่อย ๆ\" containing \" \"\n",
            "Remove word \"ศีต-\" containing \"-\"\n",
            "Remove word \"ไปอย่างน้ำขุ่น ๆ\" containing \" \"\n",
            "Remove word \"ภูต-\" containing \"-\"\n",
            "Remove word \"เลียบ ๆ เคียง ๆ\" containing \" \"\n",
            "Remove word \"อุปการ-\" containing \"-\"\n",
            "Remove word \"ยาปน-\" containing \"-\"\n",
            "Remove word \"สด ๆ ร้อน ๆ\" containing \" \"\n",
            "Remove word \"อาจริย-\" containing \"-\"\n",
            "Remove word \"พิชิต-\" containing \"-\"\n",
            "Remove word \"พราก ๆ\" containing \" \"\n",
            "Remove word \"สังขาร-\" containing \"-\"\n",
            "Remove word \"ทันธ-\" containing \"-\"\n",
            "Remove word \"ก กา\" containing \" \"\n",
            "Remove word \"รัมก-\" containing \"-\"\n",
            "Remove word \"สร-\" containing \"-\"\n",
            "Remove word \"เปล่า ๆ ปลี้ ๆ\" containing \" \"\n",
            "Remove word \"ฉัททันต-\" containing \"-\"\n",
            "Remove word \"โชติก-\" containing \"-\"\n",
            "Remove word \"ทัศนีย-\" containing \"-\"\n",
            "Remove word \"นักษัตร-\" containing \"-\"\n",
            "Remove word \"เสมอ ๆ\" containing \" \"\n",
            "Remove word \"ฉุป-\" containing \"-\"\n",
            "Remove word \"เทว-\" containing \"-\"\n",
            "Remove word \"อกุศล-\" containing \"-\"\n",
            "Remove word \"กีฏ-\" containing \"-\"\n",
            "Remove word \"ยวบ ๆ\" containing \" \"\n",
            "Remove word \"มต-\" containing \"-\"\n",
            "Remove word \"นัค-\" containing \"-\"\n",
            "Remove word \"ศากย-\" containing \"-\"\n",
            "Remove word \"แสก ๆ\" containing \" \"\n",
            "Remove word \"ตักน้ำใส่กะโหลก ชะโงกดูเงา\" containing \" \"\n",
            "Remove word \"บนข้าวผี ตีข้าวพระ\" containing \" \"\n",
            "Remove word \"โมจน-\" containing \"-\"\n",
            "Remove word \"โคตร-\" containing \"-\"\n",
            "Remove word \"สุนทรีย-\" containing \"-\"\n",
            "Remove word \"หงิม ๆ หยิบชิ้นปลามัน\" containing \" \"\n",
            "Remove word \"โฮ ๆ\" containing \" \"\n",
            "Remove word \"กรรตุ-\" containing \"-\"\n",
            "Remove word \"ปฐม-\" containing \"-\"\n",
            "Remove word \"อัษฎ-\" containing \"-\"\n",
            "Remove word \"เร่า ๆ\" containing \" \"\n",
            "Remove word \"ตโม-\" containing \"-\"\n",
            "Remove word \"บาป-\" containing \"-\"\n",
            "Remove word \"ตติย-\" containing \"-\"\n",
            "Remove word \"เบญจางค-\" containing \"-\"\n",
            "Remove word \"โมห-\" containing \"-\"\n",
            "Remove word \"แผล็บ ๆ\" containing \" \"\n",
            "Remove word \"เจริญสมณ-ธรรม\" containing \"-\"\n",
            "Remove word \"สถิร-\" containing \"-\"\n",
            "Remove word \"คันธ-\" containing \"-\"\n",
            "Remove word \"ตุ่ย ๆ\" containing \" \"\n",
            "Remove word \"ชงฆ-\" containing \"-\"\n",
            "Remove word \"กนิษฐ-\" containing \"-\"\n",
            "Remove word \"บริเฉท-\" containing \"-\"\n",
            "Remove word \"รัชด-\" containing \"-\"\n",
            "Remove word \"ธีร-\" containing \"-\"\n",
            "Remove word \"บุษบ-\" containing \"-\"\n",
            "Remove word \"สยาม-\" containing \"-\"\n",
            "Remove word \"เทศ-\" containing \"-\"\n",
            "Remove word \"สูท-\" containing \"-\"\n",
            "Remove word \"เภสัช-\" containing \"-\"\n",
            "Remove word \"ฉันท-\" containing \"-\"\n",
            "Remove word \"คุณ-\" containing \"-\"\n",
            "Remove word \"อัศว-\" containing \"-\"\n",
            "Remove word \"ถุล-\" containing \"-\"\n",
            "Remove word \"บรรพ-\" containing \"-\"\n",
            "Remove word \"สีตล-\" containing \"-\"\n",
            "Remove word \"อึก ๆ อัก ๆ\" containing \" \"\n",
            "Remove word \"โย่ง ๆ\" containing \" \"\n",
            "Remove word \"อมร-\" containing \"-\"\n",
            "Remove word \"วิกฤติ-\" containing \"-\"\n",
            "Remove word \"ป่อง ๆ\" containing \" \"\n",
            "Remove word \"บร-\" containing \"-\"\n",
            "Remove word \"ภาว-\" containing \"-\"\n",
            "Remove word \"ประสิทธิ-\" containing \"-\"\n",
            "Remove word \"ตัดหนามอย่าไว้หน่อ ฆ่าพ่ออย่าไว้ลูก\" containing \" \"\n",
            "Remove word \"กิเลส-\" containing \"-\"\n",
            "Remove word \"กุกกุร-\" containing \"-\"\n",
            "Remove word \"ศิลป-\" containing \"-\"\n",
            "Remove word \"ธรรมา-ธิษฐาน\" containing \"-\"\n",
            "Remove word \"วาก-\" containing \"-\"\n",
            "Remove word \"ปะหงับ ๆ\" containing \" \"\n",
            "Remove word \"รัฐ-ประศาสโนบาย\" containing \"-\"\n",
            "Remove word \"พรรษ-\" containing \"-\"\n",
            "Remove word \"หงิง ๆ\" containing \" \"\n",
            "Remove word \"ชาล-\" containing \"-\"\n",
            "Remove word \"พนัส-\" containing \"-\"\n",
            "Remove word \"หังส-\" containing \"-\"\n",
            "Remove word \"โลม-\" containing \"-\"\n",
            "Remove word \"ซ่อง ๆ\" containing \" \"\n",
            "Remove word \"เยภุย-\" containing \"-\"\n",
            "Remove word \"อุดม-\" containing \"-\"\n",
            "Remove word \"ติก-\" containing \"-\"\n",
            "Remove word \"สิงหลก-\" containing \"-\"\n",
            "Remove word \"โกกิล-\" containing \"-\"\n",
            "Remove word \"หึงส-\" containing \"-\"\n",
            "Remove word \"อรูป-\" containing \"-\"\n",
            "Remove word \"ฉอด ๆ\" containing \" \"\n",
            "Remove word \"ตบหัวกลางศาลา ขอขมาที่บ้าน\" containing \" \"\n",
            "Remove word \"หวัด ๆ\" containing \" \"\n",
            "Remove word \"ปาษาณ-\" containing \"-\"\n",
            "Remove word \"หงึก ๆ\" containing \" \"\n",
            "Remove word \"ง่าย ๆ\" containing \" \"\n",
            "Remove word \"ปัจจันต-\" containing \"-\"\n",
            "Remove word \"สัตว-\" containing \"-\"\n",
            "Remove word \"ไถย-\" containing \"-\"\n",
            "Remove word \"เหม่ ๆ\" containing \" \"\n",
            "Remove word \"สุข-\" containing \"-\"\n",
            "Remove word \"ภูว-\" containing \"-\"\n",
            "Remove word \"จตุร-\" containing \"-\"\n",
            "Remove word \"สถาน-\" containing \"-\"\n",
            "Remove word \"บุพพ-\" containing \"-\"\n",
            "Remove word \"คฤห-\" containing \"-\"\n",
            "Remove word \"อภัย-\" containing \"-\"\n",
            "Remove word \"สุญ-\" containing \"-\"\n",
            "Remove word \"สัปต-\" containing \"-\"\n",
            "Remove word \"ณ นคร\" containing \" \"\n",
            "Remove word \"ซู่ ๆ\" containing \" \"\n",
            "Remove word \"จตุรถ-\" containing \"-\"\n",
            "Remove word \"ลูกขุน ณ ศาลหลวง\" containing \" \"\n",
            "Remove word \"พน-\" containing \"-\"\n",
            "Remove word \"บุตร-\" containing \"-\"\n",
            "Remove word \"ซึ่ง ๆ หน้า\" containing \" \"\n",
            "Remove word \"ลุ่น ๆ\" containing \" \"\n",
            "Remove word \"กัลป-\" containing \"-\"\n",
            "Remove word \"บงสุ-\" containing \"-\"\n",
            "Remove word \"พจน-\" containing \"-\"\n",
            "Remove word \"เอาเถอะ ๆ\" containing \" \"\n",
            "Remove word \"วับ ๆ แวม ๆ\" containing \" \"\n",
            "Remove word \"เสือจนท่า ข้าจนทาง\" containing \" \"\n",
            "Remove word \"เปต-\" containing \"-\"\n",
            "Remove word \"นค-\" containing \"-\"\n",
            "Remove word \"เพลิน ๆ\" containing \" \"\n",
            "Remove word \"ณ อุบล\" containing \" \"\n",
            "Remove word \"อุจจาร-\" containing \"-\"\n",
            "Remove word \"โม้ ๆ\" containing \" \"\n",
            "Remove word \"ลิ่ว ๆ\" containing \" \"\n",
            "Remove word \"ริก ๆ\" containing \" \"\n",
            "Remove word \"งัก ๆ\" containing \" \"\n",
            "Remove word \"ไสย-\" containing \"-\"\n",
            "Remove word \"วัฒน-\" containing \"-\"\n",
            "Remove word \"วิทย-\" containing \"-\"\n",
            "Remove word \"ปุม-\" containing \"-\"\n",
            "Remove word \"รณ-\" containing \"-\"\n",
            "Remove word \"ดุริยางค-\" containing \"-\"\n",
            "Remove word \"ศักย-\" containing \"-\"\n",
            "Remove word \"สันทิฐิก-\" containing \"-\"\n",
            "Remove word \"วินย-\" containing \"-\"\n",
            "Remove word \"วนัส-\" containing \"-\"\n",
            "Remove word \"ฆาต-\" containing \"-\"\n",
            "Remove word \"อวิญญาณก-\" containing \"-\"\n",
            "Remove word \"อัจฉริย-\" containing \"-\"\n",
            "Remove word \"ผิว ๆ\" containing \" \"\n",
            "Remove word \"เรียง ๆ\" containing \" \"\n",
            "Remove word \"บุษป-\" containing \"-\"\n",
            "Remove word \"คึ่ก ๆ\" containing \" \"\n",
            "Remove word \"พิพิธ-\" containing \"-\"\n",
            "Remove word \"เชษฐ-\" containing \"-\"\n",
            "Remove word \"วิกฤต-\" containing \"-\"\n",
            "Remove word \"หนักไม่เอา เบาไม่สู้\" containing \" \"\n",
            "Remove word \"ชุณห-\" containing \"-\"\n",
            "Remove word \"ทิว-\" containing \"-\"\n",
            "Remove word \"หยิม ๆ\" containing \" \"\n",
            "Remove word \"กาย-\" containing \"-\"\n",
            "Remove word \"สะดุด ๆ\" containing \" \"\n",
            "Remove word \"ปิงคล-\" containing \"-\"\n",
            "Remove word \"กิโล-\" containing \"-\"\n",
            "Remove word \"แง่น ๆ\" containing \" \"\n",
            "Remove word \"จริย-\" containing \"-\"\n",
            "Remove word \"ผีเรือนไม่ดี ผีป่าก็พลอย\" containing \" \"\n",
            "Remove word \"อาทิตย-วาร\" containing \"-\"\n",
            "Remove word \"คว้าง ๆ\" containing \" \"\n",
            "Remove word \"เปศล-\" containing \"-\"\n",
            "Remove word \"รัช-\" containing \"-\"\n",
            "Remove word \"อาด ๆ\" containing \" \"\n",
            "Remove word \"อุปัชฌาย-\" containing \"-\"\n",
            "Remove word \"พัฒน-\" containing \"-\"\n",
            "Remove word \"แก่มะพร้าว เฒ่ามะละกอ\" containing \" \"\n",
            "Remove word \"ป้อม ๆ\" containing \" \"\n",
            "Remove word \"กาก-\" containing \"-\"\n",
            "Remove word \"อุบ ๆ อิบ ๆ\" containing \" \"\n",
            "Remove word \"เขียว ๆ แดง ๆ\" containing \" \"\n",
            "Remove word \"ดี ๆ\" containing \" \"\n",
            "Remove word \"เปรต-\" containing \"-\"\n",
            "Remove word \"โชติ-\" containing \"-\"\n",
            "Remove word \"โขม-\" containing \"-\"\n",
            "Remove word \"อารัมภ-\" containing \"-\"\n",
            "Remove word \"อินทรีย-\" containing \"-\"\n",
            "Remove word \"อาสาฬห-\" containing \"-\"\n",
            "Remove word \"เลป-\" containing \"-\"\n",
            "Remove word \"ช้าเป็นการ นานเป็นคุณ\" containing \" \"\n",
            "Remove word \"สมาน-\" containing \"-\"\n",
            "Remove word \"เกียรติ-\" containing \"-\"\n",
            "Remove word \"ปักษ-\" containing \"-\"\n",
            "Remove word \"ปาน-\" containing \"-\"\n",
            "Remove word \"อดีต-ชาติ\" containing \"-\"\n",
            "Remove word \"สมุทร-\" containing \"-\"\n",
            "Remove word \"หา…ไม่\" containing \"…\"\n",
            "Remove word \"เปสุญ-\" containing \"-\"\n",
            "Remove word \"จร-\" containing \"-\"\n",
            "Remove word \"ฌาปน-\" containing \"-\"\n",
            "Remove word \"โยธ-\" containing \"-\"\n",
            "Remove word \"ประสัยห-\" containing \"-\"\n",
            "Remove word \"นวม-\" containing \"-\"\n",
            "Remove word \"ตัตว-\" containing \"-\"\n",
            "Remove word \"ต๊อก ๆ\" containing \" \"\n",
            "Remove word \"ฝนสั่งฟ้า ปลาสั่งหนอง\" containing \" \"\n",
            "Remove word \"หลัว ๆ\" containing \" \"\n",
            "Remove word \"ตึ ๆ\" containing \" \"\n",
            "Remove word \"อุสุภ-\" containing \"-\"\n",
            "Remove word \"ทึม ๆ\" containing \" \"\n",
            "Remove word \"อัฒ-\" containing \"-\"\n",
            "Remove word \"ภย-\" containing \"-\"\n",
            "Remove word \"กฤด-\" containing \"-\"\n",
            "Remove word \"มุขย-\" containing \"-\"\n",
            "Remove word \"จาตุร-\" containing \"-\"\n",
            "Remove word \"อ้อมแอ้ม ๆ\" containing \" \"\n",
            "Remove word \"หสน-\" containing \"-\"\n",
            "Remove word \"ทุม-\" containing \"-\"\n",
            "Remove word \"พันธน-\" containing \"-\"\n",
            "Remove word \"คาม-\" containing \"-\"\n",
            "Remove word \"ภีรุก-\" containing \"-\"\n",
            "Remove word \"โหย่ง ๆ\" containing \" \"\n",
            "Remove word \"ยิ้มด้วยปาก ถากด้วยตา\" containing \" \"\n",
            "Remove word \"ติ๋ง ๆ\" containing \" \"\n",
            "Remove word \"ศานต-\" containing \"-\"\n",
            "Remove word \"ทั่ว ๆ ไป\" containing \" \"\n",
            "Remove word \"เปรย ๆ\" containing \" \"\n",
            "Remove word \"จตุตถ-\" containing \"-\"\n",
            "Remove word \"ช้า ๆ ได้พร้าสองเล่มงาม\" containing \" \"\n",
            "Remove word \"ปัจเจก-\" containing \"-\"\n",
            "Remove word \"สาธารณ-\" containing \"-\"\n",
            "Remove word \"ดาร-\" containing \"-\"\n",
            "Remove word \"ยิก ๆ\" containing \" \"\n",
            "Remove word \"ขุก ๆ\" containing \" \"\n",
            "Remove word \"อสังหาริม-\" containing \"-\"\n",
            "Remove word \"ฆน-\" containing \"-\"\n",
            "Remove word \"จัตุร-\" containing \"-\"\n",
            "Remove word \"อนงค-\" containing \"-\"\n",
            "Remove word \"มหัคฆ-\" containing \"-\"\n",
            "Remove word \"วิหาร-\" containing \"-\"\n",
            "Remove word \"น้อง ๆ\" containing \" \"\n",
            "Remove word \"อปร-\" containing \"-\"\n",
            "Remove word \"สาว-\" containing \"-\"\n",
            "Remove word \"พันธุ-\" containing \"-\"\n",
            "Remove word \"บุริม-\" containing \"-\"\n",
            "Remove word \"สวนีย-\" containing \"-\"\n",
            "Remove word \"โอทน-\" containing \"-\"\n",
            "Remove word \"มนุษย-\" containing \"-\"\n",
            "Remove word \"ชั่วช่างชี ดีช่างสงฆ์\" containing \" \"\n",
            "Remove word \"แอบ ๆ\" containing \" \"\n",
            "Remove word \"กระซิก ๆ\" containing \" \"\n",
            "Remove word \"ดูช้างให้ดูหาง ดูนางให้ดูแม่\" containing \" \"\n",
            "Remove word \"มร-\" containing \"-\"\n",
            "Remove word \"ดุล-\" containing \"-\"\n",
            "Remove word \"นิจ-\" containing \"-\"\n",
            "Remove word \"สวรรค-\" containing \"-\"\n",
            "Remove word \"ลอย ๆ\" containing \" \"\n",
            "Remove word \"อาปณ-\" containing \"-\"\n",
            "Remove word \"สีฆ-\" containing \"-\"\n",
            "Remove word \"ผัคคุณ-\" containing \"-\"\n",
            "Remove word \"ปาร-\" containing \"-\"\n",
            "Remove word \"เสข-\" containing \"-\"\n",
            "Remove word \"ซิบ ๆ\" containing \" \"\n",
            "Remove word \"ปาลกะวงศ์ ณ อยุธยา\" containing \" \"\n",
            "Remove word \"อนิล-\" containing \"-\"\n",
            "Remove word \"ณ เชียงใหม่\" containing \" \"\n",
            "Remove word \"อมฤต-\" containing \"-\"\n",
            "Remove word \"สถล-\" containing \"-\"\n",
            "Remove word \"ฐาปน-\" containing \"-\"\n",
            "Remove word \"เป็นวัน ๆ\" containing \" \"\n",
            "Remove word \"คำศัพท์หมวดอักษร \"ค\"\" containing \" \"\n",
            "Remove word \"ราว ๆ\" containing \" \"\n",
            "Remove word \"โทง ๆ\" containing \" \"\n",
            "Remove word \"อเสข-บุคคล\" containing \"-\"\n",
            "Remove word \"พยาล-\" containing \"-\"\n",
            "Remove word \"งก ๆ\" containing \" \"\n",
            "Remove word \"รื้อแต่หลังคาเขา หลังคาเราไม่รื้อ\" containing \" \"\n",
            "Remove word \"วากย-\" containing \"-\"\n",
            "Remove word \"มัช-\" containing \"-\"\n",
            "Remove word \"เยิบ ๆ\" containing \" \"\n",
            "Remove word \"หวย ก ข\" containing \" \"\n",
            "Remove word \"โจร-\" containing \"-\"\n",
            "Remove word \"ตุรงค-\" containing \"-\"\n",
            "Remove word \"กุ๊ก ๆ กิ๊ก ๆ\" containing \" \"\n",
            "Remove word \"จริง ๆ\" containing \" \"\n",
            "Remove word \"ปริย-\" containing \"-\"\n",
            "Remove word \"ตูม ๆ\" containing \" \"\n",
            "Remove word \"รถตุ๊ก ๆ\" containing \" \"\n",
            "Remove word \"เจติย-\" containing \"-\"\n",
            "Remove word \"ส่ง ๆ\" containing \" \"\n",
            "Remove word \"นาฏ-\" containing \"-\"\n",
            "Remove word \"อาน-\" containing \"-\"\n",
            "Remove word \"สุญญ-\" containing \"-\"\n",
            "Remove word \"อิฐ-\" containing \"-\"\n",
            "Remove word \"แสนย-\" containing \"-\"\n",
            "Remove word \"ยันตร-\" containing \"-\"\n",
            "Remove word \"เงียบ ๆ\" containing \" \"\n",
            "Remove word \"ภุกต-\" containing \"-\"\n",
            "Remove word \"นิสีทน-\" containing \"-\"\n",
            "Remove word \"เสาว-\" containing \"-\"\n",
            "Remove word \"รถ-\" containing \"-\"\n",
            "Remove word \"ไทย-\" containing \"-\"\n",
            "Remove word \"งก ๆ เงิ่น ๆ\" containing \" \"\n",
            "Remove word \"ที่ดินส.ป.ก.\" containing \".\"\n",
            "Remove word \"ปริบ ๆ\" containing \" \"\n",
            "Remove word \"หมดเนื้อ หมดตัว\" containing \" \"\n",
            "Remove word \"ปาหุณ-\" containing \"-\"\n",
            "Remove word \"แฮก ๆ\" containing \" \"\n",
            "Remove word \"ตรรก-\" containing \"-\"\n",
            "Remove word \"ตงิด ๆ\" containing \" \"\n",
            "Remove word \"แด่ว ๆ\" containing \" \"\n",
            "Remove word \"หงัก ๆ\" containing \" \"\n",
            "Remove word \"แง่ง ๆ\" containing \" \"\n",
            "Remove word \"ปูชนีย-\" containing \"-\"\n",
            "Remove word \"เหราะ ๆ\" containing \" \"\n",
            "Remove word \"นคร-\" containing \"-\"\n",
            "Remove word \"บ๊อง ๆ\" containing \" \"\n",
            "Remove word \"ดุ่ย ๆ\" containing \" \"\n",
            "Remove word \"กรรณ-\" containing \"-\"\n",
            "Remove word \"เมื่อพีเนื้อหอม เมื่อผอมเนื้อเหม็น\" containing \" \"\n",
            "Remove word \"๑,๕๑๐ รายการ\" containing \"๑\"\n",
            "Remove word \"วิสาข-\" containing \"-\"\n",
            "Remove word \"อิทธิ-\" containing \"-\"\n",
            "Remove word \"อรหันต-\" containing \"-\"\n",
            "Remove word \"หิต-\" containing \"-\"\n",
            "Remove word \"หฤทัย-\" containing \"-\"\n",
            "Remove word \"เทพย-\" containing \"-\"\n",
            "Remove word \"สุขี ๆ\" containing \" \"\n",
            "Remove word \"ทั้ง ๆ ที่\" containing \" \"\n",
            "Remove word \"สาหัตถิก-\" containing \"-\"\n",
            "Remove word \"เย ๆ\" containing \" \"\n",
            "Remove word \"คมน-\" containing \"-\"\n",
            "Remove word \"น้ำสั่งฟ้า ปลาสั่งฝน\" containing \" \"\n",
            "Remove word \"สาทิส-\" containing \"-\"\n",
            "Remove word \"สัลลาป-\" containing \"-\"\n",
            "Remove word \"ปอน ๆ\" containing \" \"\n",
            "Remove word \"ผาด ๆ\" containing \" \"\n",
            "Remove word \"อารย-\" containing \"-\"\n",
            "Remove word \"โทษ-\" containing \"-\"\n",
            "Remove word \"ว่าง ๆ\" containing \" \"\n",
            "Remove word \"มิตร-\" containing \"-\"\n",
            "Remove word \"อามิส-\" containing \"-\"\n",
            "Remove word \"ห่าง ๆ\" containing \" \"\n",
            "Remove word \"อเสกข-\" containing \"-\"\n",
            "Remove word \"ยาวบั่น สั้นต่อ\" containing \" \"\n",
            "Remove word \"มัญชีร-\" containing \"-\"\n",
            "Remove word \"โอษฐ-\" containing \"-\"\n",
            "Remove word \"ยัญ-\" containing \"-\"\n",
            "Remove word \"เหมันต-\" containing \"-\"\n",
            "Remove word \"สวบ ๆ\" containing \" \"\n",
            "Remove word \"ธน-\" containing \"-\"\n",
            "Remove word \"อิด ๆ เอื้อน ๆ\" containing \" \"\n",
            "Remove word \"ศาสตร-\" containing \"-\"\n",
            "Remove word \"งุด ๆ\" containing \" \"\n",
            "Remove word \"วิศว-\" containing \"-\"\n",
            "Remove word \"วิศาข-\" containing \"-\"\n",
            "Remove word \"กามท-\" containing \"-\"\n",
            "Remove word \"รักดีหามจั่ว รักชั่วหามเสา\" containing \" \"\n",
            "Remove word \"ผ่าง ๆ\" containing \" \"\n",
            "Remove word \"อาเศียร-\" containing \"-\"\n",
            "Remove word \"ภูมิ-\" containing \"-\"\n",
            "Remove word \"ทีฆ-\" containing \"-\"\n",
            "Remove word \"หิรัณย-\" containing \"-\"\n",
            "Remove word \"โกญจ-\" containing \"-\"\n",
            "Remove word \"โขลก ๆ\" containing \" \"\n",
            "Remove word \"ทักษ-\" containing \"-\"\n",
            "Remove word \"คนเดียวหัวหาย สองคนเพื่อนตาย\" containing \" \"\n",
            "Remove word \"ทิ้ง ๆ ขว้าง ๆ\" containing \" \"\n",
            "Remove word \"จุล-\" containing \"-\"\n",
            "Remove word \"อ่อย ๆ\" containing \" \"\n",
            "Remove word \"ครรภ-\" containing \"-\"\n",
            "Remove word \"โชก ๆ\" containing \" \"\n",
            "Remove word \"โมกษ-\" containing \"-\"\n",
            "Remove word \"เสนห-\" containing \"-\"\n",
            "Remove word \"ปริกัลป-\" containing \"-\"\n",
            "Remove word \"คืบก็ทะเล ศอกก็ทะเล\" containing \" \"\n",
            "Remove word \"โลกิย-\" containing \"-\"\n",
            "Remove word \"สุบรรณ ณ อยุธยา\" containing \" \"\n",
            "Remove word \"อบาย-\" containing \"-\"\n",
            "Remove word \"แด็ก ๆ\" containing \" \"\n",
            "Remove word \"ทุติย-\" containing \"-\"\n",
            "Remove word \"ทร-\" containing \"-\"\n",
            "Remove word \"ชีรณ-\" containing \"-\"\n",
            "Remove word \"รุม ๆ\" containing \" \"\n",
            "Remove word \"กระเดือก ๆ\" containing \" \"\n",
            "Remove word \"เนิบ ๆ\" containing \" \"\n",
            "Remove word \"ณ กาฬสินธุ์\" containing \" \"\n",
            "Remove word \"วัช-\" containing \"-\"\n",
            "Remove word \"แง ๆ\" containing \" \"\n",
            "Remove word \"ปาส-\" containing \"-\"\n",
            "Remove word \"ฉพีสติม-\" containing \"-\"\n",
            "Remove word \"สังขต-\" containing \"-\"\n",
            "Remove word \"โสณ-\" containing \"-\"\n",
            "Remove word \"ลม ๆ แล้ง ๆ\" containing \" \"\n",
            "Remove word \"ภาส-\" containing \"-\"\n",
            "Remove word \"ปริวรรต-\" containing \"-\"\n",
            "Remove word \"วิลย-\" containing \"-\"\n",
            "Remove word \"บุรุษ-\" containing \"-\"\n",
            "Remove word \"กาม-\" containing \"-\"\n",
            "Remove word \"ไล่ ๆ กัน\" containing \" \"\n",
            "Remove word \"อด ๆ อยาก ๆ\" containing \" \"\n",
            "Remove word \"แม่สื่อแม่ชัก ไม่ได้เจ้าตัว เอาวัวพันหลัก\" containing \" \"\n",
            "Remove word \"ปราบ ณ ศักดิ์\" containing \" \"\n",
            "Remove word \"มูล-\" containing \"-\"\n",
            "Remove word \"วิสม-\" containing \"-\"\n",
            "Remove word \"เนมิตก-\" containing \"-\"\n",
            "Remove word \"คัมภีร-\" containing \"-\"\n",
            "Remove word \"อุบอิบ ๆ\" containing \" \"\n",
            "Remove word \"สุทธ-\" containing \"-\"\n",
            "Remove word \"อัต-\" containing \"-\"\n",
            "Remove word \"ไพศาข-\" containing \"-\"\n",
            "Remove word \"โสต-\" containing \"-\"\n",
            "Remove word \"สห-\" containing \"-\"\n",
            "Remove word \"วิร-\" containing \"-\"\n",
            "Remove word \"ปร-\" containing \"-\"\n",
            "Remove word \"ทาน-\" containing \"-\"\n",
            "Remove word \"อาการ-\" containing \"-\"\n",
            "Remove word \"ธุม-\" containing \"-\"\n",
            "Remove word \"ป้ำ ๆ เป๋อ ๆ\" containing \" \"\n",
            "Remove word \"อันโยนย-\" containing \"-\"\n",
            "Remove word \"วารณ-\" containing \"-\"\n",
            "Remove word \"สุคนธ-\" containing \"-\"\n",
            "Remove word \"ราช-\" containing \"-\"\n",
            "Remove word \"ภูวน-\" containing \"-\"\n",
            "Remove word \"ศุลก-\" containing \"-\"\n",
            "Remove word \"จดุร-\" containing \"-\"\n",
            "Remove word \"หยก ๆ\" containing \" \"\n",
            "Remove word \"โบราณ-\" containing \"-\"\n",
            "Remove word \"ทิน-\" containing \"-\"\n",
            "Remove word \"ชค-\" containing \"-\"\n",
            "Remove word \"ตม-\" containing \"-\"\n",
            "Remove word \"บุพ-\" containing \"-\"\n",
            "Remove word \"สุก-\" containing \"-\"\n",
            "Remove word \"กฐิน-\" containing \"-\"\n",
            "Remove word \"สรีร-\" containing \"-\"\n",
            "Remove word \"กิจ-\" containing \"-\"\n",
            "Remove word \"หย่อง ๆ\" containing \" \"\n",
            "Remove word \"เจดีย-\" containing \"-\"\n",
            "Remove word \"คณิต-\" containing \"-\"\n",
            "Remove word \"หลุน ๆ\" containing \" \"\n",
            "Remove word \"อมต-\" containing \"-\"\n",
            "Remove word \"เมรย-\" containing \"-\"\n",
            "Remove word \"จีวร-\" containing \"-\"\n",
            "Remove word \"ภว-\" containing \"-\"\n",
            "Remove word \"มาร-\" containing \"-\"\n",
            "Remove word \"นาม-\" containing \"-\"\n",
            "Remove word \"ทุกร-\" containing \"-\"\n",
            "Remove word \"พัทธ-\" containing \"-\"\n",
            "Remove word \"ไก่เห็นตีนงู งูเห็นนมไก่\" containing \" \"\n",
            "Remove word \"สาธย-\" containing \"-\"\n",
            "Remove word \"อนุตร-\" containing \"-\"\n",
            "Remove word \"มุบ ๆ\" containing \" \"\n",
            "Remove word \"มีฬห-\" containing \"-\"\n",
            "Remove word \"ตะลอน ๆ\" containing \" \"\n",
            "Remove word \"ไร ๆ\" containing \" \"\n",
            "Remove word \"เทิบ ๆ\" containing \" \"\n",
            "Remove word \"สามัญ-\" containing \"-\"\n",
            "Remove word \"ผรุส-\" containing \"-\"\n",
            "Remove word \"ผลิก-\" containing \"-\"\n",
            "Remove word \"โฮ่ง ๆ\" containing \" \"\n",
            "Remove word \"อนธ-\" containing \"-\"\n",
            "Remove word \"ขัณฑ-\" containing \"-\"\n",
            "Remove word \"สิว-\" containing \"-\"\n",
            "Remove word \"ตะบุ้ย ๆ\" containing \" \"\n",
            "Remove word \"ตรึงศ-\" containing \"-\"\n",
            "Remove word \"กระเส่า ๆ\" containing \" \"\n",
            "Remove word \"วงศ-\" containing \"-\"\n",
            "Remove word \"อปราธ-\" containing \"-\"\n",
            "Remove word \"พะงาบ ๆ\" containing \" \"\n",
            "Remove word \"หรับ ๆ\" containing \" \"\n",
            "Remove word \"นิรย-\" containing \"-\"\n",
            "Remove word \"เออ ๆ คะ ๆ\" containing \" \"\n",
            "Remove word \"มิส-\" containing \"-\"\n",
            "Remove word \"อนิยม-\" containing \"-\"\n",
            "Remove word \"ณ ลำพูน\" containing \" \"\n",
            "Remove word \"หย่อม ๆ\" containing \" \"\n",
            "Remove word \"น.ส. ๓\" containing \".\"\n",
            "Remove word \"วาม ๆ\" containing \" \"\n",
            "Remove word \"เบาะ ๆ\" containing \" \"\n",
            "Remove word \"พะเยิบ ๆ\" containing \" \"\n",
            "Remove word \"กรรม-\" containing \"-\"\n",
            "Remove word \"หมาด ๆ\" containing \" \"\n",
            "Remove word \"โมฆ-\" containing \"-\"\n",
            "Remove word \"มัธย-\" containing \"-\"\n",
            "Remove word \"ทรัพย์ในดิน สินในน้ำ\" containing \" \"\n",
            "Remove word \"สมุห-\" containing \"-\"\n",
            "Remove word \"สุงก-\" containing \"-\"\n",
            "Remove word \"วิสย-\" containing \"-\"\n",
            "Remove word \"รู้หลบเป็นปีก รู้หลีกเป็นหาง\" containing \" \"\n",
            "Remove word \"หยวบ ๆ\" containing \" \"\n",
            "Remove word \"วิภว-\" containing \"-\"\n",
            "Remove word \"ประติ-\" containing \"-\"\n",
            "Remove word \"กุ๋ย ๆ\" containing \" \"\n",
            "Remove word \"เนือง ๆ\" containing \" \"\n",
            "Remove word \"อัส-\" containing \"-\"\n",
            "Remove word \"อจิร-\" containing \"-\"\n",
            "Remove word \"โชติ ณ ภาลัย\" containing \" \"\n",
            "Remove word \"ว่าส่ง ๆ\" containing \" \"\n",
            "Remove word \"คเนจร ณ อยุธยา\" containing \" \"\n",
            "Remove word \"จ้อย ๆ\" containing \" \"\n",
            "Remove word \"นิร-\" containing \"-\"\n",
            "Remove word \"อัชฌัตติก-\" containing \"-\"\n",
            "Remove word \"สุนทร-\" containing \"-\"\n",
            "Remove word \"จาร-\" containing \"-\"\n",
            "Remove word \"หรรษ-\" containing \"-\"\n",
            "Remove word \"อนันตร-\" containing \"-\"\n",
            "Remove word \"ภรต-\" containing \"-\"\n",
            "Remove word \"บิณฑ-\" containing \"-\"\n",
            "Remove word \"โต้ง ๆ\" containing \" \"\n",
            "Remove word \"ตึก ๆ\" containing \" \"\n",
            "Remove word \"สหัส-\" containing \"-\"\n",
            "Remove word \"กัมปน-\" containing \"-\"\n",
            "Remove word \"หิม-\" containing \"-\"\n",
            "Remove word \"พรรค-\" containing \"-\"\n",
            "Remove word \"ปฏิภาณ-\" containing \"-\"\n",
            "Remove word \"ข้าง ๆ คู ๆ\" containing \" \"\n",
            "Remove word \"ยุพ-\" containing \"-\"\n",
            "Remove word \"โดด ๆ\" containing \" \"\n",
            "Remove word \"ดล-\" containing \"-\"\n",
            "Remove word \"วิชย-\" containing \"-\"\n",
            "Remove word \"มาคสิร-\" containing \"-\"\n",
            "Remove word \"ทาส-\" containing \"-\"\n",
            "Remove word \"อุทก-\" containing \"-\"\n",
            "Remove word \"จัณฑ-\" containing \"-\"\n",
            "Remove word \"วัชร-\" containing \"-\"\n",
            "Remove word \"อนารย-\" containing \"-\"\n",
            "Remove word \"ตรง ๆ\" containing \" \"\n",
            "Remove word \"สมมติ-\" containing \"-\"\n",
            "Remove word \"ปลูกเรือนพอตัว หวีหัวพอเกล้า\" containing \" \"\n",
            "Remove word \"คห-\" containing \"-\"\n",
            "Remove word \"ปัทม-\" containing \"-\"\n",
            "Remove word \"พยัคฆ-\" containing \"-\"\n",
            "Remove word \"ล้วน ๆ\" containing \" \"\n",
            "Remove word \"มหันต-\" containing \"-\"\n",
            "Remove word \"พาณิชย-\" containing \"-\"\n",
            "Remove word \"อภิลักขิต-\" containing \"-\"\n",
            "Remove word \"ทุก-\" containing \"-\"\n",
            "Remove word \"จริม-\" containing \"-\"\n",
            "Remove word \"ศัลย-\" containing \"-\"\n",
            "Remove word \"ประสูติ-\" containing \"-\"\n",
            "Remove word \"อัตถ-\" containing \"-\"\n",
            "Remove word \"อิสริย-\" containing \"-\"\n",
            "Remove word \"ระยะ ๆ\" containing \" \"\n",
            "Remove word \"กาสาว-\" containing \"-\"\n",
            "Remove word \"ตุ่น ๆ\" containing \" \"\n",
            "Remove word \"ทำนาออมกล้า ทำปลาออมเกลือ\" containing \" \"\n",
            "Remove word \"ไจ้ ๆ\" containing \" \"\n",
            "Remove word \"สักกาย-\" containing \"-\"\n",
            "Remove word \"มิสก-\" containing \"-\"\n",
            "Remove word \"หลอก ๆ\" containing \" \"\n",
            "Remove word \"เหยาะ ๆ\" containing \" \"\n",
            "Remove word \"ทั้ง...ทั้ง\" containing \".\"\n",
            "Remove word \"เถร-\" containing \"-\"\n",
            "Remove word \"ทูร-\" containing \"-\"\n",
            "Remove word \"อาจิณ-\" containing \"-\"\n",
            "Remove word \"โสภ-\" containing \"-\"\n",
            "Remove word \"งาบ ๆ\" containing \" \"\n",
            "Remove word \"จ้อก ๆ\" containing \" \"\n",
            "Remove word \"ดี ๆ ชั่ว ๆ\" containing \" \"\n",
            "Remove word \"ทศม-\" containing \"-\"\n",
            "Remove word \"สัจ-\" containing \"-\"\n",
            "Remove word \"แปร๋น ๆ\" containing \" \"\n",
            "Remove word \"หัตถ-\" containing \"-\"\n",
            "Remove word \"สวยแต่รูป จูบไม่หอม\" containing \" \"\n",
            "Remove word \"ธุร-\" containing \"-\"\n",
            "Remove word \"มิศรก-\" containing \"-\"\n",
            "Remove word \"สังค-\" containing \"-\"\n",
            "Remove word \"เปลาะ ๆ\" containing \" \"\n",
            "Remove word \"อุบัติ-\" containing \"-\"\n",
            "Remove word \"อ้อม ๆ แอ้ม ๆ\" containing \" \"\n",
            "Remove word \"ฮือ ๆ\" containing \" \"\n",
            "Remove word \"ลับ ๆ ล่อ ๆ\" containing \" \"\n",
            "Remove word \"ภูษณ-\" containing \"-\"\n",
            "Remove word \"กล-\" containing \"-\"\n",
            "Remove word \"หย่ง ๆ\" containing \" \"\n",
            "Remove word \"หุต-\" containing \"-\"\n",
            "Remove word \"ดูวัวให้ดูหาง ดูนางให้ดูแม่\" containing \" \"\n",
            "Remove word \"ดุบ ๆ\" containing \" \"\n",
            "Remove word \"แปลก ๆ\" containing \" \"\n",
            "Remove word \"หลง ๆ ลืม ๆ\" containing \" \"\n",
            "Remove word \"วัจ-\" containing \"-\"\n",
            "Remove word \"นิรันตร-\" containing \"-\"\n",
            "Remove word \"อันตร-\" containing \"-\"\n",
            "Remove word \"สัญชาต-\" containing \"-\"\n",
            "Remove word \"อัมพ-\" containing \"-\"\n",
            "Remove word \"ภารต-\" containing \"-\"\n",
            "Remove word \"นข-\" containing \"-\"\n",
            "Remove word \"กะตั้ก ๆ\" containing \" \"\n",
            "Remove word \"สรณ-\" containing \"-\"\n",
            "Remove word \"แปลบ ๆ\" containing \" \"\n",
            "Remove word \"ภราตฤ-\" containing \"-\"\n",
            "Remove word \"สมร-\" containing \"-\"\n",
            "Remove word \"หย-\" containing \"-\"\n",
            "Remove word \"โลก-\" containing \"-\"\n",
            "Remove word \"ศาป-\" containing \"-\"\n",
            "Remove word \"แซ่ด ๆ\" containing \" \"\n",
            "Remove word \"อัณฑ-\" containing \"-\"\n",
            "Remove word \"ลักษณ-\" containing \"-\"\n",
            "Remove word \"ดัก ๆ\" containing \" \"\n",
            "Remove word \"นิโรธ-\" containing \"-\"\n",
            "Remove word \"มหัจฉริย-\" containing \"-\"\n",
            "Remove word \"วัตร-\" containing \"-\"\n",
            "Remove word \"สภาว-\" containing \"-\"\n",
            "Remove word \"หึ ๆ\" containing \" \"\n",
            "Remove word \"กาญจน-\" containing \"-\"\n",
            "Remove word \"ปกิณก-\" containing \"-\"\n",
            "Remove word \"ขลุก ๆ\" containing \" \"\n",
            "Remove word \"หงิม ๆ\" containing \" \"\n",
            "Remove word \"แว็บ ๆ\" containing \" \"\n",
            "Remove word \"หยุบ ๆ\" containing \" \"\n",
            "Remove word \"พลว-\" containing \"-\"\n",
            "Remove word \"ชิรณ-\" containing \"-\"\n",
            "Remove word \"สะบัด ๆ\" containing \" \"\n",
            "Remove word \"มุต-\" containing \"-\"\n",
            "Remove word \"จริงอยู่...แต่\" containing \".\"\n",
            "Remove word \"แขย็ก ๆ\" containing \" \"\n",
            "Remove word \"ถาวร-\" containing \"-\"\n",
            "Remove word \"สีต-\" containing \"-\"\n",
            "Remove word \"ปักข-\" containing \"-\"\n",
            "Remove word \"มรณ-\" containing \"-\"\n",
            "Remove word \"กุก ๆ กัก ๆ\" containing \" \"\n",
            "Remove word \"โยค-\" containing \"-\"\n",
            "Remove word \"ตามพ-\" containing \"-\"\n",
            "Remove word \"อปาน-\" containing \"-\"\n",
            "Remove word \"กินอยู่กับปาก อยากอยู่กับท้อง\" containing \" \"\n",
            "Remove word \"คณ-\" containing \"-\"\n",
            "Remove word \"ปปัญจ-\" containing \"-\"\n",
            "Remove word \"พำ ๆ\" containing \" \"\n",
            "Remove word \"นิเวศ-\" containing \"-\"\n",
            "Remove word \"ราง ๆ\" containing \" \"\n",
            "Remove word \"ลัคน-\" containing \"-\"\n",
            "Remove word \"รัว ๆ\" containing \" \"\n",
            "Remove word \"มรณันติก-\" containing \"-\"\n",
            "Remove word \"งู ๆ ปลา ๆ\" containing \" \"\n",
            "Remove word \"บงก-\" containing \"-\"\n",
            "Remove word \"ศาสน-\" containing \"-\"\n",
            "Remove word \"ลิ้นกระดาษทราย น้ำลายเชลแล็ก\" containing \" \"\n",
            "Remove word \"ปุพพ-\" containing \"-\"\n",
            "Remove word \"ปรสิต-\" containing \"-\"\n",
            "Remove word \"คช-\" containing \"-\"\n",
            "Remove word \"กระดิบ ๆ\" containing \" \"\n",
            "Remove word \"ปัญญาส-\" containing \"-\"\n",
            "Remove word \"เคห-\" containing \"-\"\n",
            "Remove word \"ทุส-\" containing \"-\"\n",
            "Remove word \"ก ข\" containing \" \"\n",
            "Remove word \"เฮือก ๆ\" containing \" \"\n",
            "Remove word \"ติด ๆ\" containing \" \"\n",
            "Remove word \"ปวัตน-\" containing \"-\"\n",
            "Remove word \"กุมาร-ลฬิตา\" containing \"-\"\n",
            "Remove word \"เกน ๆ\" containing \" \"\n",
            "Remove word \"ต่าง ๆ\" containing \" \"\n",
            "Remove word \"ลุ่ม ๆ ดอน ๆ\" containing \" \"\n",
            "Remove word \"มิญช-\" containing \"-\"\n",
            "Remove word \"พลั้งปากเสียศีล พลั้งตีนตกต้นไม้\" containing \" \"\n",
            "Remove word \"อาจาร-\" containing \"-\"\n",
            "Remove word \"มัธยม-\" containing \"-\"\n",
            "Remove word \"อนิจ-\" containing \"-\"\n",
            "Remove word \"ปลวังค-\" containing \"-\"\n",
            "Remove word \"ประ-\" containing \"-\"\n",
            "Remove word \"หรัสว-\" containing \"-\"\n",
            "Remove word \"เง้า ๆ งอด ๆ\" containing \" \"\n",
            "Remove word \"จุ ๆ\" containing \" \"\n",
            "Remove word \"วิเศษณ-\" containing \"-\"\n",
            "Remove word \"ตาแดง ๆ\" containing \" \"\n",
            "Remove word \"รัมณีย-\" containing \"-\"\n",
            "Remove word \"ทั้ง...และ\" containing \".\"\n",
            "Remove word \"อภิชน-\" containing \"-\"\n",
            "Remove word \"ศิร-\" containing \"-\"\n",
            "Remove word \"เห็นเขาขึ้นคานหาม เอามือประสานก้น\" containing \" \"\n",
            "Remove word \"เบี้ยว ๆ บูด ๆ\" containing \" \"\n",
            "Remove word \"เผน-\" containing \"-\"\n",
            "Remove word \"ศิษย-\" containing \"-\"\n",
            "Remove word \"มัณฑน-\" containing \"-\"\n",
            "Remove word \"เบญจม-\" containing \"-\"\n",
            "Remove word \"จักขุ-\" containing \"-\"\n",
            "Remove word \"กัมพุช-\" containing \"-\"\n",
            "Remove word \"ญาณ-\" containing \"-\"\n",
            "Remove word \"อัม-\" containing \"-\"\n",
            "Remove word \"พิริย-\" containing \"-\"\n",
            "Remove word \"กรณีย-\" containing \"-\"\n",
            "Remove word \"สลัว ๆ\" containing \" \"\n",
            "Remove word \"สิต-\" containing \"-\"\n",
            "Remove word \"ผัสส-\" containing \"-\"\n",
            "Remove word \"รมณีย-\" containing \"-\"\n",
            "Remove word \"พาฬ-\" containing \"-\"\n",
            "Remove word \"จาว ๆ\" containing \" \"\n",
            "Remove word \"ปานีย-\" containing \"-\"\n",
            "Remove word \"แวม ๆ\" containing \" \"\n",
            "Remove word \"เหม-\" containing \"-\"\n",
            "Remove word \"กาศิก-\" containing \"-\"\n",
            "Remove word \"คลุม ๆ\" containing \" \"\n",
            "Remove word \"คั่ก ๆ\" containing \" \"\n",
            "Remove word \"แฉก ๆ\" containing \" \"\n",
            "Remove word \"วิทยาศาสตร์ เทคโนโลยีและสิ่งแวดล้อม\" containing \" \"\n",
            "Remove word \"นฤตย-\" containing \"-\"\n",
            "Remove word \"เหียน ๆ\" containing \" \"\n",
            "Remove word \"วิตก-\" containing \"-\"\n",
            "Remove word \"ใคร ๆ\" containing \" \"\n",
            "Remove word \"เวช-\" containing \"-\"\n",
            "Remove word \"ปริต-\" containing \"-\"\n",
            "Remove word \"ไปย-\" containing \"-\"\n",
            "Remove word \"วัย-\" containing \"-\"\n",
            "Remove word \"โภค-\" containing \"-\"\n",
            "Remove word \"ยุคันต-\" containing \"-\"\n",
            "Remove word \"อาวาห-\" containing \"-\"\n",
            "Remove word \"ป้าน ๆ\" containing \" \"\n",
            "Remove word \"วัส-\" containing \"-\"\n",
            "Remove word \"ปริ-\" containing \"-\"\n",
            "Remove word \"กร่อม ๆ\" containing \" \"\n",
            "Remove word \"ทุกข-\" containing \"-\"\n",
            "Remove word \"คีต-\" containing \"-\"\n",
            "Remove word \"จินต-\" containing \"-\"\n",
            "Remove word \"อิฏฐ-\" containing \"-\"\n",
            "Remove word \"บวร-\" containing \"-\"\n",
            "Remove word \"พยุห-\" containing \"-\"\n",
            "Remove word \"หย็องแหย็ง ๆ\" containing \" \"\n",
            "Remove word \"กสิ-\" containing \"-\"\n",
            "Remove word \"นั่งยอง ๆ\" containing \" \"\n",
            "Remove word \"มัณฑุก-\" containing \"-\"\n",
            "Remove word \"กลาย ๆ\" containing \" \"\n",
            "Remove word \"ธรรม-\" containing \"-\"\n",
            "Remove word \"อุทก-ธาร\" containing \"-\"\n",
            "Remove word \"กมล-\" containing \"-\"\n",
            "Remove word \"ฮัก ๆ\" containing \" \"\n",
            "Remove word \"อสุร-\" containing \"-\"\n",
            "Remove word \"เงื่อง ๆ\" containing \" \"\n",
            "Remove word \"อภัพ-\" containing \"-\"\n",
            "Remove word \"ไศล-\" containing \"-\"\n",
            "Remove word \"อุคห-\" containing \"-\"\n",
            "Remove word \"ใฝ่ร้อนจะนอนเย็น ใฝ่เย็นจะดิ้นตาย\" containing \" \"\n",
            "Remove word \"เสนีวงศ์ ณ อยุธยา\" containing \" \"\n",
            "Remove word \"กัลยาณ-\" containing \"-\"\n",
            "Remove word \"โตมร-\" containing \"-\"\n",
            "Remove word \"มูรธ-\" containing \"-\"\n",
            "Remove word \"ธนุร-\" containing \"-\"\n",
            "Remove word \"เปิง ๆ\" containing \" \"\n",
            "Remove word \"วัสสาน-\" containing \"-\"\n",
            "Remove word \"สต-\" containing \"-\"\n",
            "Remove word \"โหม-\" containing \"-\"\n",
            "Remove word \"ทิฐ-\" containing \"-\"\n",
            "Remove word \"สวัสดิ-\" containing \"-\"\n",
            "Remove word \"ภุช-\" containing \"-\"\n",
            "Remove word \"ดุ่ม ๆ\" containing \" \"\n",
            "Remove word \"มับ ๆ\" containing \" \"\n",
            "Remove word \"ปสัยห-\" containing \"-\"\n",
            "Remove word \"หงุบ ๆ\" containing \" \"\n",
            "Remove word \"เอ้ ๆ แอ่น ๆ\" containing \" \"\n",
            "Remove word \"กาฬ-\" containing \"-\"\n",
            "Remove word \"ปฏิ-\" containing \"-\"\n",
            "Remove word \"ทวาร-\" containing \"-\"\n",
            "Remove word \"อานาปาน-\" containing \"-\"\n",
            "Remove word \"หนุบหนับ ๆ\" containing \" \"\n",
            "Remove word \"รัตน-\" containing \"-\"\n",
            "Remove word \"สุริย-\" containing \"-\"\n",
            "Remove word \"คล้าย ๆ\" containing \" \"\n",
            "Remove word \"โบกขร-\" containing \"-\"\n",
            "Remove word \"ริน ๆ\" containing \" \"\n",
            "Remove word \"สังเวช-\" containing \"-\"\n",
            "Remove word \"มงคล-\" containing \"-\"\n",
            "Remove word \"กระจองงอง ๆ\" containing \" \"\n",
            "Remove word \"ชัย-\" containing \"-\"\n",
            "Remove word \"ก้ม ๆ เงย ๆ\" containing \" \"\n",
            "Remove word \"ก หัน\" containing \" \"\n",
            "Remove word \"มิค-\" containing \"-\"\n",
            "Remove word \"งานหลวงไม่ให้ขาด งานราษฎร์ไม่ให้เสีย\" containing \" \"\n",
            "Remove word \"วาทย-\" containing \"-\"\n",
            "Remove word \"วีร-\" containing \"-\"\n",
            "Remove word \"ปัด ๆ เป๋ ๆ\" containing \" \"\n",
            "Remove word \"ตื่นแต่ดึก สึกแต่หนุ่ม\" containing \" \"\n",
            "Remove word \"ดุริย-\" containing \"-\"\n",
            "Remove word \"ศัสตร-\" containing \"-\"\n",
            "Remove word \"สิงห-\" containing \"-\"\n",
            "Remove word \"เลือก ๆ\" containing \" \"\n",
            "Remove word \"สาม-\" containing \"-\"\n",
            "Remove word \"นอนหลับไม่รู้ นอนคู้ไม่เห็น\" containing \" \"\n",
            "Remove word \"แพ้เป็นพระ ชนะเป็นมาร\" containing \" \"\n",
            "Remove word \"สามานย-\" containing \"-\"\n",
            "Remove word \"ตลาด ๆ\" containing \" \"\n",
            "Remove word \"ไว ๆ\" containing \" \"\n",
            "Remove word \"ติงสติม-\" containing \"-\"\n",
            "Remove word \"วชิร-\" containing \"-\"\n",
            "Remove word \"บ้า ๆ\" containing \" \"\n",
            "Remove word \"รัต-\" containing \"-\"\n",
            "Remove word \"อุปัทว-\" containing \"-\"\n",
            "Remove word \"เล่นกับหมา หมาเลียปาก\" containing \" \"\n",
            "Remove word \"ปฏิภาค-\" containing \"-\"\n",
            "Remove word \"อยู่ดี ๆ\" containing \" \"\n",
            "Remove word \"ยับ ๆ\" containing \" \"\n",
            "Remove word \"แท้ ๆ\" containing \" \"\n",
            "Remove word \"มกร-\" containing \"-\"\n",
            "Remove word \"บุคคล-\" containing \"-\"\n",
            "Remove word \"อันติม-\" containing \"-\"\n",
            "Remove word \"ทุร-\" containing \"-\"\n",
            "Remove word \"อัตหิต-\" containing \"-\"\n",
            "Remove word \"บุปผ-\" containing \"-\"\n",
            "Remove word \"กุกกุฏ-\" containing \"-\"\n",
            "Remove word \"พิมพ-\" containing \"-\"\n",
            "Remove word \"เมรุ-\" containing \"-\"\n",
            "Remove word \"ศต-\" containing \"-\"\n",
            "Remove word \"อรัญ-\" containing \"-\"\n",
            "Remove word \"๒,๕๔๐ รายการ\" containing \"๒\"\n",
            "Remove word \"ชนก-\" containing \"-\"\n",
            "Remove word \"รี ๆ ขวาง ๆ\" containing \" \"\n",
            "Remove word \"ธัญ-\" containing \"-\"\n",
            "Remove word \"กรร-\" containing \"-\"\n",
            "Remove word \"กุสุม-\" containing \"-\"\n",
            "Remove word \"หยัก ๆ\" containing \" \"\n",
            "Remove word \"วร-\" containing \"-\"\n",
            "Remove word \"สมถ-\" containing \"-\"\n",
            "Remove word \"อาคันตุก-\" containing \"-\"\n",
            "Remove word \"กุล-\" containing \"-\"\n",
            "Remove word \"อนุชาต-บุตร\" containing \"-\"\n",
            "Remove word \"อินทร-\" containing \"-\"\n",
            "Remove word \"วน-\" containing \"-\"\n",
            "Remove word \"ปิย-\" containing \"-\"\n",
            "Remove word \"เอก-ภริยา\" containing \"-\"\n",
            "Remove word \"ออด ๆ แอด ๆ\" containing \" \"\n",
            "Remove word \"กูรม-\" containing \"-\"\n",
            "Remove word \"มัชฌ-\" containing \"-\"\n",
            "Remove word \"พีร-\" containing \"-\"\n",
            "Remove word \"ตุบ ๆ\" containing \" \"\n",
            "Remove word \"หิน-\" containing \"-\"\n",
            "Remove word \"พันธ-\" containing \"-\"\n",
            "Remove word \"สุพรรณ-\" containing \"-\"\n",
            "Remove word \"วาม-\" containing \"-\"\n",
            "Remove word \"ประดัก ๆ\" containing \" \"\n",
            "Remove word \"อุณห-\" containing \"-\"\n",
            "Remove word \"ธุดงค-\" containing \"-\"\n",
            "Remove word \"มัชฌันติก-\" containing \"-\"\n",
            "Remove word \"ชล-\" containing \"-\"\n",
            "Remove word \"ทิวส-\" containing \"-\"\n",
            "Remove word \"กินอย่างหมู อยู่อย่างหมา\" containing \" \"\n",
            "Remove word \"ภบท.\" containing \".\"\n",
            "Remove word \"ซื้องัวหน้านา ซื้อผ้าหน้าหนาว\" containing \" \"\n",
            "Remove word \"ขึ้น ๆ ล่อง ๆ\" containing \" \"\n",
            "Remove word \"ไหว ๆ\" containing \" \"\n",
            "Remove word \"สาราณีย-\" containing \"-\"\n",
            "Remove word \"เกศ-\" containing \"-\"\n",
            "Remove word \"เลา ๆ\" containing \" \"\n",
            "Remove word \"ปฏิคหิต-\" containing \"-\"\n",
            "Remove word \"อภิณห-\" containing \"-\"\n",
            "Remove word \"วอม ๆ แวม ๆ\" containing \" \"\n",
            "Remove word \"สสาร-\" containing \"-\"\n",
            "Remove word \"นันท-\" containing \"-\"\n",
            "Remove word \"พึม ๆ\" containing \" \"\n",
            "Remove word \"เห็นเขาขึ้นคานหาม เอามือประสานรัดก้น\" containing \" \"\n",
            "Remove word \"ไพรัช-\" containing \"-\"\n",
            "Remove word \"แต่ ๆ\" containing \" \"\n",
            "Remove word \"ศุกร-\" containing \"-\"\n",
            "Remove word \"ดำ ๆ แดง ๆ\" containing \" \"\n",
            "Remove word \"แหยะ ๆ\" containing \" \"\n",
            "Remove word \"ก้าบ ๆ\" containing \" \"\n",
            "Remove word \"สัมพันธ-\" containing \"-\"\n",
            "Remove word \"คนรักเท่าผืนหนัง คนชังเท่าผืนเสื่อ\" containing \" \"\n",
            "Remove word \"ค่อย ๆ\" containing \" \"\n",
            "Remove word \"ท้วม ๆ\" containing \" \"\n",
            "Remove word \"มัค-\" containing \"-\"\n",
            "Remove word \"ตรังค-\" containing \"-\"\n",
            "Remove word \"สัต-\" containing \"-\"\n",
            "Remove word \"จิตร-\" containing \"-\"\n",
            "Remove word \"มรรค-\" containing \"-\"\n",
            "Remove word \"ธัมม-\" containing \"-\"\n",
            "Remove word \"พงศ-\" containing \"-\"\n",
            "Remove word \"เหย่า ๆ\" containing \" \"\n",
            "Remove word \"เที่ยง ๆ\" containing \" \"\n",
            "Remove word \"ทำคุณแก่ใคร เหมือนไฟตกน้ำ\" containing \" \"\n",
            "Remove word \"โมฆีย-\" containing \"-\"\n",
            "Remove word \"คคน-\" containing \"-\"\n",
            "Remove word \"สังคม-\" containing \"-\"\n",
            "Remove word \"อดีต-\" containing \"-\"\n",
            "Remove word \"แพทย-\" containing \"-\"\n",
            "Remove word \"ทาย-\" containing \"-\"\n",
            "Remove word \"อุจเฉท-\" containing \"-\"\n",
            "Remove word \"กระแหม็บ ๆ\" containing \" \"\n",
            "Remove word \"อุตม-\" containing \"-\"\n",
            "Remove word \"อังส-\" containing \"-\"\n",
            "Remove word \"ยุติ-\" containing \"-\"\n",
            "Remove word \"กษัตริย-\" containing \"-\"\n",
            "Remove word \"สวะ ๆ\" containing \" \"\n",
            "Remove word \"ดามพ-\" containing \"-\"\n",
            "Remove word \"ตฤตีย-\" containing \"-\"\n",
            "Remove word \"นิตย-\" containing \"-\"\n",
            "Remove word \"งัง ๆ\" containing \" \"\n",
            "Remove word \"ปาป-\" containing \"-\"\n",
            "Remove word \"โมร-\" containing \"-\"\n",
            "Remove word \"อย-\" containing \"-\"\n",
            "Remove word \"ชุษณ-\" containing \"-\"\n",
            "Remove word \"ปัด ๆ\" containing \" \"\n",
            "Remove word \"ชาติ-\" containing \"-\"\n",
            "Remove word \"สมรรถ-\" containing \"-\"\n",
            "Remove word \"อธิก-\" containing \"-\"\n",
            "Remove word \"โศก-\" containing \"-\"\n",
            "Remove word \"ฮึย ๆ\" containing \" \"\n",
            "Remove word \"ปฏิรูป-\" containing \"-\"\n",
            "Remove word \"โครงการส่วนพระองค์ สวนจิตรลดา\" containing \" \"\n",
            "Remove word \"มุข-\" containing \"-\"\n",
            "Remove word \"สีห-\" containing \"-\"\n",
            "Remove word \"บรรณ-\" containing \"-\"\n",
            "Remove word \"สรรพ-\" containing \"-\"\n",
            "Remove word \"ภาพ-\" containing \"-\"\n",
            "Remove word \"เป็นลม ๆ\" containing \" \"\n",
            "Remove word \"โตง ๆ เตง ๆ\" containing \" \"\n",
            "Remove word \"ขนมรู ๆ\" containing \" \"\n",
            "Remove word \"อติชาต-\" containing \"-\"\n",
            "Remove word \"อุปาณ-\" containing \"-\"\n",
            "Remove word \"วิภัช-\" containing \"-\"\n",
            "Remove word \"ไล่มาติด ๆ\" containing \" \"\n",
            "Remove word \"ลม ๆ\" containing \" \"\n",
            "Remove word \"นักขัต-\" containing \"-\"\n",
            "Remove word \"ท่อม ๆ\" containing \" \"\n",
            "Remove word \"ปัจฉิม-\" containing \"-\"\n",
            "Remove word \"อัญ-\" containing \"-\"\n",
            "Remove word \"เพลา ๆ\" containing \" \"\n",
            "Remove word \"แล้ว ๆ เล่า ๆ\" containing \" \"\n",
            "Remove word \"วัณ-\" containing \"-\"\n",
            "Remove word \"ประดิ-\" containing \"-\"\n",
            "Remove word \"คันถ-\" containing \"-\"\n",
            "Remove word \"นิพัทธ-\" containing \"-\"\n",
            "Remove word \"แพล็บ ๆ\" containing \" \"\n",
            "Remove word \"ศักร-\" containing \"-\"\n",
            "Remove word \"แข่งเรือแข่งแพแข่งได้ แข่งบุญแข่งวาสนาแข่งไม่ได้\" containing \" \"\n",
            "Remove word \"ภิน-\" containing \"-\"\n",
            "Remove word \"เอื่อย ๆ\" containing \" \"\n",
            "Remove word \"หงุง ๆ หงิง ๆ\" containing \" \"\n",
            "Remove word \"เนาว-\" containing \"-\"\n",
            "Remove word \"อั้ก ๆ\" containing \" \"\n",
            "Remove word \"ปาหุไณย-\" containing \"-\"\n",
            "Remove word \"ประจักษ-\" containing \"-\"\n",
            "Remove word \"ชิน-\" containing \"-\"\n",
            "Remove word \"เหวย ๆ\" containing \" \"\n",
            "Remove word \"กัณฐ-\" containing \"-\"\n",
            "Remove word \"ยาม-\" containing \"-\"\n",
            "Remove word \"อนุรักษ-\" containing \"-\"\n",
            "Remove word \"ย็อกแย็ก ๆ\" containing \" \"\n",
            "Remove word \"สุก ๆ ดิบ ๆ\" containing \" \"\n",
            "Remove word \"ศัพท-\" containing \"-\"\n",
            "Remove word \"กระดุบ ๆ\" containing \" \"\n",
            "Remove word \"เพื่อน ๆ\" containing \" \"\n",
            "Remove word \"สัสต-\" containing \"-\"\n",
            "Remove word \"หง่อง ๆ\" containing \" \"\n",
            "Remove word \"กัมป-\" containing \"-\"\n",
            "Remove word \"สว-\" containing \"-\"\n",
            "Remove word \"ซื่อ ๆ\" containing \" \"\n",
            "Remove word \"พฤกษ-\" containing \"-\"\n",
            "Remove word \"วับ ๆ\" containing \" \"\n",
            "Remove word \"วันทย-\" containing \"-\"\n",
            "Remove word \"ทะแม่ง ๆ\" containing \" \"\n",
            "Remove word \"องค-\" containing \"-\"\n",
            "Remove word \"มาตร-\" containing \"-\"\n",
            "Remove word \"ถั่น ๆ\" containing \" \"\n",
            "Remove word \"เด่า ๆ\" containing \" \"\n",
            "Remove word \"คนธรรพ-\" containing \"-\"\n",
            "Remove word \"โภชน-\" containing \"-\"\n",
            "Remove word \"เรี่ย ๆ\" containing \" \"\n",
            "Remove word \"ทัศน-\" containing \"-\"\n",
            "Remove word \"สาฏิก-\" containing \"-\"\n",
            "Remove word \"นิ่ง ๆ\" containing \" \"\n",
            "Remove word \"พฤฒิ-\" containing \"-\"\n",
            "Remove word \"พราหมณ-\" containing \"-\"\n",
            "Remove word \"เจต-\" containing \"-\"\n",
            "Remove word \"ติงส-\" containing \"-\"\n",
            "Remove word \"เรือง ๆ\" containing \" \"\n",
            "Remove word \"โอสถ-\" containing \"-\"\n",
            "Remove word \"ทีรฆ-\" containing \"-\"\n",
            "Remove word \"พราด ๆ\" containing \" \"\n",
            "Remove word \"ครึ่ง ๆ กลาง ๆ\" containing \" \"\n",
            "Remove word \"ภัทร-\" containing \"-\"\n",
            "Remove word \"สากิย-\" containing \"-\"\n",
            "Remove word \"หยับ ๆ\" containing \" \"\n",
            "Remove word \"มูสิก-\" containing \"-\"\n",
            "Remove word \"พอ ๆ กัน\" containing \" \"\n",
            "Remove word \"มัชฌิม-\" containing \"-\"\n",
            "Remove word \"คัคน-\" containing \"-\"\n",
            "Remove word \"หงอด ๆ\" containing \" \"\n",
            "Remove word \"อันต-\" containing \"-\"\n",
            "Remove word \"วธ-\" containing \"-\"\n",
            "Remove word \"ผรณ-\" containing \"-\"\n",
            "Remove word \"อกุศล-กรรม\" containing \"-\"\n",
            "Remove word \"เนิ่น ๆ\" containing \" \"\n",
            "Remove word \"นภ-\" containing \"-\"\n",
            "Remove word \"มนัส-\" containing \"-\"\n",
            "Remove word \"ซ่อก ๆ\" containing \" \"\n",
            "Remove word \"อภว-\" containing \"-\"\n",
            "Remove word \"ครือ ๆ\" containing \" \"\n",
            "Remove word \"หลัด ๆ\" containing \" \"\n",
            "Remove word \"นิล-\" containing \"-\"\n",
            "Remove word \"ภาณ-\" containing \"-\"\n",
            "Remove word \"ปะงาบ ๆ\" containing \" \"\n",
            "Remove word \"สัปด-\" containing \"-\"\n",
            "Remove word \"เวท-\" containing \"-\"\n",
            "Remove word \"จิต-\" containing \"-\"\n",
            "Remove word \"สงสาร-\" containing \"-\"\n",
            "Remove word \"สัมพุทธ-\" containing \"-\"\n",
            "Remove word \"เยาว-\" containing \"-\"\n",
            "Remove word \"บท-\" containing \"-\"\n",
            "Remove word \"อนีก-\" containing \"-\"\n",
            "Remove word \"โรค-\" containing \"-\"\n",
            "Remove word \"เหยง ๆ\" containing \" \"\n",
            "Remove word \"นิยต-\" containing \"-\"\n",
            "Remove word \"กะเตง ๆ\" containing \" \"\n",
            "Remove word \"นิยยานิก-\" containing \"-\"\n",
            "Remove word \"มิศร-\" containing \"-\"\n",
            "Remove word \"หวิว ๆ\" containing \" \"\n",
            "Remove word \"พุทธ-\" containing \"-\"\n",
            "Remove word \"อัฏฐ-\" containing \"-\"\n",
            "Remove word \"ง่ำ ๆ\" containing \" \"\n",
            "Remove word \"อุปริม-\" containing \"-\"\n",
            "Remove word \"กัปปิย-\" containing \"-\"\n",
            "Remove word \"ยุว-\" containing \"-\"\n",
            "Remove word \"อคาร-\" containing \"-\"\n",
            "Remove word \"ฟังไม่ได้ศัพท์ จับไปกระเดียด\" containing \" \"\n",
            "Remove word \"สกฏ-\" containing \"-\"\n",
            "Remove word \"ตะแหง่ว ๆ\" containing \" \"\n",
            "Remove word \"หนุบ ๆ หนับ ๆ\" containing \" \"\n",
            "Remove word \"นย-\" containing \"-\"\n",
            "Remove word \"เฉาะ ๆ\" containing \" \"\n",
            "Remove word \"ว็อบ ๆ แว็บ ๆ\" containing \" \"\n",
            "Remove word \"เถะ ๆ\" containing \" \"\n",
            "Remove word \"ภักษ-\" containing \"-\"\n",
            "Remove word \"สวน-\" containing \"-\"\n",
            "Remove word \"คิลาน-\" containing \"-\"\n",
            "Remove word \"ปฏิการ-\" containing \"-\"\n",
            "Remove word \"ทันต-\" containing \"-\"\n",
            "Remove word \"อัญมัญ-\" containing \"-\"\n",
            "Remove word \"เทพ-\" containing \"-\"\n",
            "Remove word \"นม-\" containing \"-\"\n",
            "Remove word \"วามน-\" containing \"-\"\n",
            "Remove word \"นฬ-\" containing \"-\"\n",
            "Remove word \"อนัญ-\" containing \"-\"\n",
            "Remove word \"หนุบ ๆ\" containing \" \"\n",
            "Remove word \"ก๊อก ๆ แก็ก ๆ\" containing \" \"\n",
            "Remove word \"สุวรรณ-\" containing \"-\"\n",
            "Remove word \"ถี่ลอดตาช้าง ห่างลอดตาเล็น\" containing \" \"\n",
            "Remove word \"องค-วิเกษป\" containing \"-\"\n",
            "Remove word \"สุร-\" containing \"-\"\n",
            "Remove word \"โอฆ-\" containing \"-\"\n",
            "Remove word \"ตึง ๆ\" containing \" \"\n",
            "Remove word \"อรหัต-\" containing \"-\"\n",
            "Remove word \"ชนม-\" containing \"-\"\n",
            "Remove word \"อรรถ-\" containing \"-\"\n",
            "Remove word \"เยาวน-\" containing \"-\"\n",
            "Remove word \"อัทธ-\" containing \"-\"\n",
            "Remove word \"จักร-\" containing \"-\"\n",
            "Remove word \"สด ๆ\" containing \" \"\n",
            "Remove word \"โลห-\" containing \"-\"\n",
            "Remove word \"ผับ ๆ\" containing \" \"\n",
            "Remove word \"ลาป-\" containing \"-\"\n",
            "Remove word \"ข้าม ๆ\" containing \" \"\n",
            "Remove word \"อัฐม-\" containing \"-\"\n",
            "Remove word \"กช-\" containing \"-\"\n",
            "Remove word \"เผิน ๆ\" containing \" \"\n",
            "Remove word \"สมณ-\" containing \"-\"\n",
            "Remove word \"มหรรฆ-\" containing \"-\"\n",
            "Remove word \"นิคาหก-\" containing \"-\"\n",
            "Remove word \"แหง ๆ\" containing \" \"\n",
            "Remove word \"พื้น ๆ\" containing \" \"\n",
            "Remove word \"อากาศ-\" containing \"-\"\n",
            "Remove word \"สุ่ม ๆ\" containing \" \"\n",
            "Remove word \"ต้อย ๆ\" containing \" \"\n",
            "Remove word \"ทัณฑ-\" containing \"-\"\n",
            "Remove word \"จด ๆ จ้อง ๆ\" containing \" \"\n",
            "Remove word \"กุมภ-\" containing \"-\"\n",
            "Remove word \"โกญจ-นาท\" containing \"-\"\n",
            "Remove word \"อาชีว-\" containing \"-\"\n",
            "Remove word \"ธุว-\" containing \"-\"\n",
            "Remove word \"ศุกล-\" containing \"-\"\n",
            "Remove word \"อเสข-\" containing \"-\"\n",
            "Remove word \"บุญ-\" containing \"-\"\n",
            "Remove word \"อายุร-\" containing \"-\"\n",
            "Remove word \"สิทธ-\" containing \"-\"\n",
            "Remove word \"วสันต-\" containing \"-\"\n",
            "Remove word \"ภัต-\" containing \"-\"\n",
            "Remove word \"สัตย-\" containing \"-\"\n",
            "Remove word \"เอาเถิด ๆ\" containing \" \"\n",
            "Remove word \"สมมุติ-\" containing \"-\"\n",
            "Remove word \"หนาว ๆ ร้อน ๆ\" containing \" \"\n",
            "Remove word \"รักยาวให้บั่น รักสั้นให้ต่อ\" containing \" \"\n",
            "Remove word \"เห็นช้างขี้ ขี้ตามช้าง\" containing \" \"\n",
            "Remove word \"สัตถ-\" containing \"-\"\n",
            "Remove word \"ลวก ๆ\" containing \" \"\n",
            "Remove word \"ฉัตร-\" containing \"-\"\n",
            "Remove word \"ขวาง ๆ รี ๆ\" containing \" \"\n",
            "Remove word \"ณ ราชสีมา\" containing \" \"\n",
            "Remove word \"ภราตร-\" containing \"-\"\n",
            "Remove word \"มานุษย-\" containing \"-\"\n",
            "Remove word \"หรบ ๆ\" containing \" \"\n",
            "Remove word \"ชีว-\" containing \"-\"\n",
            "Remove word \"หิรัญ-\" containing \"-\"\n",
            "Remove word \"ซิก ๆ\" containing \" \"\n",
            "Remove word \"แอด ๆ\" containing \" \"\n",
            "Remove word \"สค.\" containing \".\"\n",
            "Remove word \"ภักต-\" containing \"-\"\n",
            "Remove word \"วิวาห-\" containing \"-\"\n",
            "Remove word \"อปจายน-\" containing \"-\"\n",
            "Remove word \"ทศ-\" containing \"-\"\n",
            "Remove word \"เหมียว ๆ\" containing \" \"\n",
            "Remove word \"ทรัพย-\" containing \"-\"\n",
            "Remove word \"ชุ่ย ๆ\" containing \" \"\n",
            "Remove word \"ตฤณ-\" containing \"-\"\n",
            "Remove word \"จาตุรงค-\" containing \"-\"\n",
            "Remove word \"ทัพ-\" containing \"-\"\n",
            "Remove word \"ปัณรส-\" containing \"-\"\n",
            "Remove word \"ไป ๆ มา ๆ\" containing \" \"\n",
            "Remove word \"สังฆ-\" containing \"-\"\n",
            "Remove word \"ออด ๆ\" containing \" \"\n",
            "Remove word \"เฉย ๆ\" containing \" \"\n",
            "Remove word \"ถี่ ๆ\" containing \" \"\n",
            "Remove word \"อนันต-\" containing \"-\"\n",
            "Remove word \"ผล็อย ๆ\" containing \" \"\n",
            "Remove word \"กรรม-กรณ์\" containing \"-\"\n",
            "Remove word \"เฉิบ ๆ\" containing \" \"\n",
            "Remove word \"ทารุณ-\" containing \"-\"\n",
            "Remove word \"ชักน้ำเข้าลึก ชักศึกเข้าบ้าน\" containing \" \"\n",
            "Remove word \"สัตม-\" containing \"-\"\n",
            "Remove word \"อยน-\" containing \"-\"\n",
            "Remove word \"รู้ไว้ใช่ว่า ใส่บ่าแบกหาม\" containing \" \"\n",
            "Remove word \"อนาคต-\" containing \"-\"\n",
            "Remove word \"สุภ-\" containing \"-\"\n",
            "Remove word \"สวรรค์อยู่ในอก นรกอยู่ในใจ\" containing \" \"\n",
            "Remove word \"วรรณ-\" containing \"-\"\n",
            "Remove word \"ภุม-\" containing \"-\"\n",
            "Remove word \"ชีพ-\" containing \"-\"\n",
            "Remove word \"เวมัติก-\" containing \"-\"\n",
            "Remove word \"คายก-\" containing \"-\"\n",
            "Remove word \"ธูป-\" containing \"-\"\n",
            "Remove word \"เศรษฐ-\" containing \"-\"\n",
            "Remove word \"ชัค-\" containing \"-\"\n",
            "Remove word \"ปัญจม-\" containing \"-\"\n",
            "Remove word \"หงับ ๆ\" containing \" \"\n",
            "Remove word \"ลื้น ๆ\" containing \" \"\n",
            "Remove word \"อัพภันตร-\" containing \"-\"\n",
            "Remove word \"รอน ๆ\" containing \" \"\n",
            "Remove word \"ทนต-\" containing \"-\"\n",
            "Remove word \"ยม-\" containing \"-\"\n",
            "Remove word \"แจ้ว ๆ\" containing \" \"\n",
            "Remove word \"วินาศ-\" containing \"-\"\n",
            "Remove word \"พล-\" containing \"-\"\n",
            "Remove word \"สังคห-\" containing \"-\"\n",
            "Remove word \"กระแด่ว ๆ\" containing \" \"\n",
            "Remove word \"ประดิษฐ-\" containing \"-\"\n",
            "Remove word \"หัส-\" containing \"-\"\n",
            "Remove word \"อป-\" containing \"-\"\n",
            "len(corpus)=55455\n"
          ]
        }
      ]
    },
    {
      "cell_type": "markdown",
      "source": [
        "- Make sure that the all characters from whitelist was contained in this corpus"
      ],
      "metadata": {
        "id": "TrP2hQ5xojyR"
      }
    },
    {
      "cell_type": "code",
      "source": [
        "def check_diff_charset(corpus:Set[str],\n",
        "                       whitelist:Union[List[str],str])->Set[str]:\n",
        "  \"\"\"\n",
        "    Check and return the difference in character sets between a corpus of words and a whitelist.\n",
        "\n",
        "    Args:\n",
        "        corpus (Set[str]): A set of words to examine for character set differences.\n",
        "        whitelist (Union[List[str], str]): A whitelist of characters (either a list of characters or a string).\n",
        "\n",
        "    Returns:\n",
        "        Set[str]: A set of characters present in the whitelist but not in the corpus.\n",
        "    \"\"\"\n",
        "  whitelist_charset = set(whitelist)\n",
        "  corpus_charset = set()\n",
        "  for word in corpus:\n",
        "    # Inspect in character level\n",
        "    for char in word:\n",
        "      corpus_charset.add(char)\n",
        "\n",
        "  diff_charset = whitelist_charset.difference(corpus_charset)\n",
        "  return diff_charset\n"
      ],
      "metadata": {
        "id": "T5XZtS1zorcS"
      },
      "execution_count": null,
      "outputs": []
    },
    {
      "cell_type": "code",
      "source": [
        "diff_charset = check_diff_charset(corpora,WHITELIST)\n",
        "\n",
        "# Since our corpus does not contain\n",
        "# Get Corpus Char list\n",
        "CHARLIST = WHITELIST.copy()\n",
        "for diff_char in diff_charset:\n",
        "  CHARLIST.remove(diff_char)"
      ],
      "metadata": {
        "id": "O9j4kUR5qi5_"
      },
      "execution_count": null,
      "outputs": []
    },
    {
      "cell_type": "code",
      "source": [
        "# Initiate some type hint\n",
        "from typing import TypedDict\n",
        "from collections import OrderedDict\n",
        "\n",
        "def make_vocabulary(charlist:List[str],\n",
        "                    add_special_token:bool=True)->Dict[str,int]:\n",
        "  \"\"\"\n",
        "  Make vocabulary where a key represent character token and a value represent id token from character list\n",
        "\n",
        "  Args:\n",
        "  1. charlist\n",
        "    A list of character token derived from the corpus\n",
        "  2. add_special_token :\n",
        "    adding the special tokn which does not derived from input containing <UNK>\n",
        "\n",
        "  Example:\n",
        "    vocabulary = {\"ก\" : 0,\n",
        "                  \"ข\" : 1,\n",
        "                  \"ค\" : 2}\n",
        "  \"\"\"\n",
        "  vocabulary = OrderedDict()\n",
        "\n",
        "  # Add Special Token\n",
        "  if add_special_token:\n",
        "    special_token_list = [\"<pad>\",\"<unk>\"]\n",
        "    for i,char in enumerate(special_token_list):\n",
        "      vocabulary.update({char : i})\n",
        "\n",
        "  # Add char from charlist\n",
        "  start_idx = len(vocabulary)\n",
        "  for i,char in enumerate(charlist,start_idx):\n",
        "    vocabulary.update({char : i})\n",
        "\n",
        "  return vocabulary"
      ],
      "metadata": {
        "id": "q-b3ZO4POX3i"
      },
      "execution_count": null,
      "outputs": []
    },
    {
      "cell_type": "code",
      "source": [
        "vocabulary = make_vocabulary(CHARLIST)\n",
        "reverse_vocabulary = {v: k for k, v in vocabulary.items()}\n",
        "print(f\"{len(vocabulary)=}\")\n",
        "# vocab"
      ],
      "metadata": {
        "colab": {
          "base_uri": "https://localhost:8080/"
        },
        "id": "CHqJlyu2OTo6",
        "outputId": "42945105-3b30-4e06-b447-aba638d7d416"
      },
      "execution_count": null,
      "outputs": [
        {
          "output_type": "stream",
          "name": "stdout",
          "text": [
            "len(vocabulary)=71\n"
          ]
        }
      ]
    },
    {
      "cell_type": "code",
      "source": [
        "# Let check total characters\n",
        "from functools import reduce\n",
        "total_char_sum = reduce(lambda x, y: x + len(y), corpora, 0)\n",
        "print(f\"Total characters in corpus : {total_char_sum}\")"
      ],
      "metadata": {
        "colab": {
          "base_uri": "https://localhost:8080/"
        },
        "id": "kBTkYPWKmDxV",
        "outputId": "71d90edc-4d4c-4efd-f9b2-40f1202147ce"
      },
      "execution_count": null,
      "outputs": [
        {
          "output_type": "stream",
          "name": "stdout",
          "text": [
            "Total characters in corpus : 416715\n"
          ]
        }
      ]
    },
    {
      "cell_type": "markdown",
      "source": [
        "## Make Dataset for each architecture\n",
        "- GloVe Co-occurence matrix\n",
        "\n"
      ],
      "metadata": {
        "id": "l8vjTsv1SJeU"
      }
    },
    {
      "cell_type": "markdown",
      "source": [
        "### 1. GloVe ▶\n"
      ],
      "metadata": {
        "id": "4oEd-yjuV0cm"
      }
    },
    {
      "cell_type": "markdown",
      "source": [
        "\n",
        "#### Make DataFrame"
      ],
      "metadata": {
        "id": "c4TFyvyKV1b2"
      }
    },
    {
      "cell_type": "code",
      "source": [
        "# We need sparse matrix with size 70x70\n",
        "def token_to_id_string(string,\n",
        "                       vocabulary:Dict[str,int])->List[int]:\n",
        "  \"\"\"\n",
        "    Map word to id\n",
        "  \"\"\"\n",
        "  lst = list(string)\n",
        "  unk_id = vocabulary.get(\"<unk>\")\n",
        "  tok_lst = list(map(lambda x :vocabulary.get(x,unk_id),lst))\n",
        "  return tok_lst"
      ],
      "metadata": {
        "id": "yEuE8vPeY8L2"
      },
      "execution_count": null,
      "outputs": []
    },
    {
      "cell_type": "code",
      "source": [
        "token_to_id_string(\"กินนี่\",vocabulary)"
      ],
      "metadata": {
        "colab": {
          "base_uri": "https://localhost:8080/"
        },
        "id": "OJ5lZhduaz7G",
        "outputId": "ed03b344-88f4-4bf6-b414-b877d3ee57a4"
      },
      "execution_count": null,
      "outputs": [
        {
          "output_type": "execute_result",
          "data": {
            "text/plain": [
              "[2, 52, 26, 26, 53, 65]"
            ]
          },
          "metadata": {},
          "execution_count": 12
        }
      ]
    },
    {
      "cell_type": "code",
      "source": [
        "import numpy as np\n",
        "def make_glove_dataset(corpus:str,\n",
        "                       vocabulary,\n",
        "                       window_size:int=2,\n",
        "                       laplace_smoothing:bool=False)->np.ndarray:\n",
        "\n",
        "  \"\"\"\n",
        "  Laplace smoothing is not recommended to counter log of zero problem, it's still have weight problem\n",
        "  \"\"\"\n",
        "  # {(2,4) : 3, (1,10) : 4}\n",
        "  num_tokens = len(vocabulary)\n",
        "  co_occurrence_matrix = (np.ones((num_tokens, num_tokens), dtype=int) if laplace_smoothing\n",
        "                          else np.zeros((num_tokens, num_tokens), dtype=int))\n",
        "\n",
        "  for word in corpus:\n",
        "    co_counts:Dict[tuple,int] = make_glove_row(word,\n",
        "                                               vocabulary,\n",
        "                                               window_size)\n",
        "\n",
        "    for (char_pair,count) in co_counts.items():\n",
        "      context_id, target_id = char_pair\n",
        "      co_occurrence_matrix[context_id][target_id] += count\n",
        "\n",
        "  return co_occurrence_matrix\n",
        "\n",
        "def make_glove_row(word:str,\n",
        "                   vocabulary:Dict[str,int],\n",
        "                   window_size:int=2)->Dict[tuple,int]:\n",
        "\n",
        "  \"\"\"\n",
        "  Return a pair of co-occurence count of word i and j\n",
        "  \"\"\"\n",
        "  add_pad_token = \"<pad>\" in vocabulary.keys()\n",
        "  co_counts = dict()\n",
        "\n",
        "  for idx in range(len(word)):\n",
        "    # assign the current char\n",
        "    char = word[idx]\n",
        "\n",
        "    # Get prior index\n",
        "    prev_idx = idx - window_size\n",
        "    next_idx = idx + window_size\n",
        "\n",
        "    # Create new instance where context as previous\n",
        "    for i in range(prev_idx,idx):\n",
        "      # Context as pad if out of border\n",
        "      if i < 0:\n",
        "        if add_pad_token:\n",
        "          char_pair = (char,\"<pad>\")\n",
        "        else:\n",
        "          # Skip if not add_pad_token\n",
        "          continue\n",
        "      else:\n",
        "        char_pair = (char,word[i])\n",
        "\n",
        "      # Turn token to id\n",
        "      char_pair = tuple(map(vocabulary.get,char_pair))\n",
        "      # Update count\n",
        "      if co_counts.get(char_pair):\n",
        "        co_counts[char_pair] += 1\n",
        "      else:\n",
        "        co_counts[char_pair] = 1\n",
        "\n",
        "    # Create new instance where context as next\n",
        "    for i in range(idx+1,next_idx+1):\n",
        "      # Create new instance\n",
        "      if i > len(word)-1:\n",
        "        if add_pad_token:\n",
        "          char_pair = (char,\"<pad>\")\n",
        "        else:\n",
        "          # Skip if not add_pad_token\n",
        "          continue\n",
        "      else:\n",
        "        char_pair = (char,word[i])\n",
        "\n",
        "      # Turn token to id\n",
        "      char_pair = tuple(map(vocabulary.get,char_pair)) # (vocabulary[char_pair[0]],vocabulary[char_pair[1]])\n",
        "      # Update count\n",
        "      if co_counts.get(char_pair):\n",
        "        co_counts[char_pair] += 1\n",
        "      else:\n",
        "        co_counts[char_pair] = 1\n",
        "  return co_counts"
      ],
      "metadata": {
        "id": "hXYGpdAnmoIe"
      },
      "execution_count": null,
      "outputs": []
    },
    {
      "cell_type": "code",
      "source": [
        "from scipy import sparse\n",
        "\n",
        "sample_corpus = [\"กินไก่\",\"ไอนน\"]\n",
        "co_occurrence_matrix = make_glove_dataset(sample_corpus,vocabulary,1)\n",
        "sparse = sparse.csr_matrix(co_occurrence_matrix)\n",
        "print(sparse)"
      ],
      "metadata": {
        "colab": {
          "base_uri": "https://localhost:8080/"
        },
        "id": "yntxp47braUC",
        "outputId": "ebe2a440-1685-47c1-a2fd-996cbf2977d1"
      },
      "execution_count": null,
      "outputs": [
        {
          "output_type": "stream",
          "name": "stdout",
          "text": [
            "  (2, 0)\t1\n",
            "  (2, 52)\t1\n",
            "  (2, 62)\t1\n",
            "  (2, 65)\t1\n",
            "  (26, 0)\t1\n",
            "  (26, 26)\t2\n",
            "  (26, 46)\t1\n",
            "  (26, 52)\t1\n",
            "  (26, 62)\t1\n",
            "  (46, 26)\t1\n",
            "  (46, 62)\t1\n",
            "  (52, 2)\t1\n",
            "  (52, 26)\t1\n",
            "  (62, 0)\t1\n",
            "  (62, 2)\t1\n",
            "  (62, 26)\t1\n",
            "  (62, 46)\t1\n",
            "  (65, 0)\t1\n",
            "  (65, 2)\t1\n"
          ]
        }
      ]
    },
    {
      "cell_type": "code",
      "source": [
        "co_occurrence_matrix = make_glove_dataset(corpora,vocabulary,1,laplace_smoothing=False)\n",
        "co_occurrence_matrix"
      ],
      "metadata": {
        "id": "apYECxzftxke",
        "colab": {
          "base_uri": "https://localhost:8080/"
        },
        "outputId": "52e7cc76-4ed7-4158-c9a4-91b4931c4f79"
      },
      "execution_count": null,
      "outputs": [
        {
          "output_type": "execute_result",
          "data": {
            "text/plain": [
              "array([[   0,    0,    0, ...,    0,    0,    0],\n",
              "       [   0,    0,    0, ...,    0,    0,    0],\n",
              "       [6242,    0,  578, ...,   21,  142,    0],\n",
              "       ...,\n",
              "       [  27,    0,   21, ...,    0,    0,    0],\n",
              "       [7484,    0,  142, ...,    0,    2,    0],\n",
              "       [   0,    0,    0, ...,    0,    0,    0]])"
            ]
          },
          "metadata": {},
          "execution_count": 15
        }
      ]
    },
    {
      "cell_type": "code",
      "source": [
        "import matplotlib.pyplot as plt\n",
        "\n",
        "# Setup Thai font first\n",
        "import matplotlib as mpl\n",
        "!wget -q https://github.com/Phonbopit/sarabun-webfont/raw/master/fonts/thsarabunnew-webfont.ttf\n",
        "mpl.font_manager.fontManager.addfont(\"/content/thsarabunnew-webfont.ttf\")\n",
        "mpl.rc(\"font\",family=\"TH Sarabun New\", size=20)\n",
        "\n",
        "def visualize_co_occurence_matrix(co_occurrence_matrix,\n",
        "                                  vocabulary):\n",
        "    assert co_occurrence_matrix.shape[0] == len(vocabulary), \"Make sure the width and height are equal to len(vocabulary)\"\n",
        "    plt.figure(figsize=(25, 22))\n",
        "    plt.imshow(co_occurrence_matrix, cmap='viridis')  # You can change the colormap ('viridis' in this example)\n",
        "    plt.colorbar()  # Add a colorbar for reference\n",
        "\n",
        "    # Set custom tick labels\n",
        "    tick_positions = np.arange(len(vocabulary))\n",
        "    tick_labels = vocabulary\n",
        "\n",
        "    # Set the tick positions and labels on both axes\n",
        "    plt.xticks(tick_positions, tick_labels, rotation=90)\n",
        "    plt.yticks(tick_positions, tick_labels)\n",
        "    plt.tight_layout()\n",
        "\n",
        "    plt.show()"
      ],
      "metadata": {
        "id": "EQeKj6p3rpvw"
      },
      "execution_count": null,
      "outputs": []
    },
    {
      "cell_type": "code",
      "source": [
        "visualize_co_occurence_matrix(co_occurrence_matrix,vocabulary)"
      ],
      "metadata": {
        "colab": {
          "base_uri": "https://localhost:8080/",
          "height": 1000
        },
        "id": "BnNyIBSotRMv",
        "outputId": "2240196d-80b5-4c80-8cf0-9f7d78301b48"
      },
      "execution_count": null,
      "outputs": [
        {
          "output_type": "display_data",
          "data": {
            "text/plain": [
              "<Figure size 2500x2200 with 2 Axes>"
            ],
            "image/png": "[encoded data removed]"
          },
          "metadata": {}
        }
      ]
    },
    {
      "cell_type": "markdown",
      "source": [
        "#### Make Torch Dataset & Loader"
      ],
      "metadata": {
        "id": "QJBiUZ-9VhRC"
      }
    },
    {
      "cell_type": "code",
      "source": [
        "# Define a custom dataset\n",
        "import torch\n",
        "from torch.utils.data import DataLoader, Dataset\n",
        "# Do we need ?\n",
        "class GloveDataset(Dataset):\n",
        "    # We only need labels as cooccurrence matrix\n",
        "    def __init__(self,\n",
        "                 co_occurrence_matrix:np.ndarray,\n",
        "                 transform=None):\n",
        "        self.co_occurrence_matrix = co_occurrence_matrix\n",
        "\n",
        "    def __len__(self):\n",
        "        return self.co_occurrence_matrix.size\n",
        "\n",
        "    def __getitem__(self, index):\n",
        "        # NOTE : The maximum number of index is (vocab_size x vocab_size)\n",
        "        # Calculate the context_idx and target_idx based on the index\n",
        "        num_rows, num_cols = self.co_occurrence_matrix.shape\n",
        "        context_idx = index // num_cols\n",
        "        target_idx = index % num_cols\n",
        "\n",
        "        # Retrieve the co-occurrence count\n",
        "        co_count = self.co_occurrence_matrix[context_idx][target_idx]\n",
        "\n",
        "        return {\"context_idx\" : context_idx,\n",
        "                \"target_idx\" : target_idx,\n",
        "                \"co_count\" : co_count}\n"
      ],
      "metadata": {
        "id": "FTU0_GEmSD1z"
      },
      "execution_count": null,
      "outputs": []
    },
    {
      "cell_type": "code",
      "source": [
        "glove_dataset = GloveDataset(co_occurrence_matrix)\n",
        "print(f\"{len(glove_dataset) = }\")"
      ],
      "metadata": {
        "colab": {
          "base_uri": "https://localhost:8080/"
        },
        "id": "qtJdGQ2z4-NE",
        "outputId": "3c4231c8-0c41-4345-ca12-53bbc69747c9"
      },
      "execution_count": null,
      "outputs": [
        {
          "output_type": "stream",
          "name": "stdout",
          "text": [
            "len(glove_dataset) = 5041\n"
          ]
        }
      ]
    },
    {
      "cell_type": "code",
      "source": [
        "# See the data of some indixes\n",
        "print(f\"{glove_dataset[5011] = }\")\n",
        "print(f\"{glove_dataset[100] = }\")\n",
        "print(f\"{glove_dataset[2400] = }\")"
      ],
      "metadata": {
        "colab": {
          "base_uri": "https://localhost:8080/"
        },
        "id": "J0XVUPdVgINP",
        "outputId": "17ce5a4a-75c6-421e-9e85-727ec164ab81"
      },
      "execution_count": null,
      "outputs": [
        {
          "output_type": "stream",
          "name": "stdout",
          "text": [
            "glove_dataset[5011] = {'context_idx': 70, 'target_idx': 41, 'co_count': 0}\n",
            "glove_dataset[100] = {'context_idx': 1, 'target_idx': 29, 'co_count': 0}\n",
            "glove_dataset[2400] = {'context_idx': 33, 'target_idx': 57, 'co_count': 446}\n"
          ]
        }
      ]
    },
    {
      "cell_type": "code",
      "source": [
        "batch_size = 128\n",
        "glove_loader = DataLoader(glove_dataset, batch_size, shuffle=True)"
      ],
      "metadata": {
        "id": "XleKDV8JUoWp"
      },
      "execution_count": null,
      "outputs": []
    },
    {
      "cell_type": "code",
      "source": [
        "# Instantiate function which return whole final dataloader from corpora and vocabulary\n",
        "def make_glove_loader(corpora,\n",
        "                      vocabulary,\n",
        "                      window_size=2,\n",
        "                      batch_size=128,\n",
        "                      laplace_smoothing=False):\n",
        "    co_occurrence_matrix = make_glove_dataset(corpora,vocabulary,1,laplace_smoothing)\n",
        "    glove_dataset = GloveDataset(co_occurrence_matrix)\n",
        "    glove_loader = DataLoader(glove_dataset, batch_size, shuffle=True)\n",
        "    return glove_loader"
      ],
      "metadata": {
        "id": "vSEuTBMr8PQW"
      },
      "execution_count": null,
      "outputs": []
    },
    {
      "cell_type": "code",
      "source": [
        "glove_loader = make_glove_loader(corpora, vocabulary, batch_size=128, laplace_smoothing=False)"
      ],
      "metadata": {
        "id": "uTzTAvqi8uHc"
      },
      "execution_count": null,
      "outputs": []
    },
    {
      "cell_type": "markdown",
      "source": [
        "#### Make Architecture\n",
        "\n",
        "- Since our dataset split into a pair of context and target individually\n",
        "  - Instead of (1 -> (0,3))\n",
        "    We split into (1,0), (1,3)\n",
        "  - So, the architecture for both method `skipgram` and `cbow` are the same\n",
        "\n",
        "  ![skipgram](https://www.researchgate.net/publication/322905432/figure/fig1/AS:614314310373461@1523475353979/The-architecture-of-Skip-gram-model-20.png)\n",
        "\n",
        "  - We treat each pair of target and different context as different instance\n",
        "  - Hence, let's called word2vec architecture"
      ],
      "metadata": {
        "id": "qQ8YErFSi3Dn"
      }
    },
    {
      "cell_type": "code",
      "source": [
        "# Define a simple neural network model\n",
        "import torch.nn as nn\n",
        "import torch.nn.functional as F\n",
        "import torch\n",
        "\n",
        "class GloveModel(nn.Module):\n",
        "    def __init__(self,vocab_size, emb_size):\n",
        "      # Input as context and target embedding matrix\n",
        "      super(GloveModel, self).__init__()\n",
        "      self.context_embedding = nn.Embedding(vocab_size, emb_size)\n",
        "      self.target_embedding = nn.Embedding(vocab_size, emb_size)\n",
        "\n",
        "      # Each character have its own bias\n",
        "      self.context_bias = nn.Embedding(vocab_size,1)\n",
        "      self.target_bias = nn.Embedding(vocab_size,1)\n",
        "\n",
        "    def forward(self,context,target):\n",
        "        # Find similarity between context embedding of word i and target embedding of word j first\n",
        "        x = self.context_embedding(context) @ self.target_embedding(target).T\n",
        "\n",
        "        # Add bias of context and target\n",
        "        x = x + self.context_bias(context) + self.target_bias(target)\n",
        "        return x"
      ],
      "metadata": {
        "id": "8OjLdRb5iENq"
      },
      "execution_count": null,
      "outputs": []
    },
    {
      "cell_type": "markdown",
      "source": [
        "- ⚠ Note : embedding layer take input token as input not the one hot encoding unlike linear layer\n",
        "- This is why our dataset does not convert id token into one hot"
      ],
      "metadata": {
        "id": "AEeARe_exybh"
      }
    },
    {
      "cell_type": "code",
      "source": [
        "def test_forward_glove():\n",
        "  # Generate two one-hot vector : One hot for class 2 and 10 with size 71\n",
        "  context_id = torch.tensor(2,dtype=torch.long)\n",
        "  target_id = torch.tensor(50,dtype=torch.long)\n",
        "  vocab_size = 71\n",
        "\n",
        "  # Initiate model\n",
        "  glove_model = GloveModel(vocab_size,32)\n",
        "  # Test Forward\n",
        "  out = glove_model(context_id,target_id)\n",
        "  return out\n",
        "\n",
        "out = test_forward_glove()\n",
        "out"
      ],
      "metadata": {
        "colab": {
          "base_uri": "https://localhost:8080/"
        },
        "id": "GL17O0lHkIW4",
        "outputId": "0823b420-f0b2-4753-f72d-3cd6bad9cf1c"
      },
      "execution_count": null,
      "outputs": [
        {
          "output_type": "stream",
          "name": "stderr",
          "text": [
            "<ipython-input-24-3fc8122f8cf5>:19: UserWarning: The use of `x.T` on tensors of dimension other than 2 to reverse their shape is deprecated and it will throw an error in a future release. Consider `x.mT` to transpose batches of matrices or `x.permute(*torch.arange(x.ndim - 1, -1, -1))` to reverse the dimensions of a tensor. (Triggered internally at ../aten/src/ATen/native/TensorShape.cpp:3571.)\n",
            "  x = self.context_embedding(context) @ self.target_embedding(target).T\n"
          ]
        },
        {
          "output_type": "execute_result",
          "data": {
            "text/plain": [
              "tensor([-1.8205], grad_fn=<AddBackward0>)"
            ]
          },
          "metadata": {},
          "execution_count": 25
        }
      ]
    },
    {
      "cell_type": "markdown",
      "source": [
        "#### Make Trainer\n",
        "- Use to be a medium for training data and architecture\n",
        "- Input (X) will be forwarding propogation via our architecture and return a scalar ( which hopefully near the log of co-count of context and target word)"
      ],
      "metadata": {
        "id": "QKJB7GDdynLW"
      }
    },
    {
      "cell_type": "code",
      "source": [
        "device = torch.device(\"cuda\" if torch.cuda.is_available() else \"cpu\")\n",
        "print(f\"{device=}\")"
      ],
      "metadata": {
        "colab": {
          "base_uri": "https://localhost:8080/"
        },
        "id": "I6VDiWWh8If1",
        "outputId": "13b16e06-e7d4-4b77-cb8a-3d70e4527cf8"
      },
      "execution_count": null,
      "outputs": [
        {
          "output_type": "stream",
          "name": "stdout",
          "text": [
            "device=device(type='cuda')\n"
          ]
        }
      ]
    },
    {
      "cell_type": "markdown",
      "source": [
        "##### Make Loss function (Criterion)\n",
        "\n",
        "- For simplicity, The loss is equal to scalar - log(X_ij) for a context word i and target word j\n",
        "- Since it assigns equal importance to all instances of co-occurrence, even those that occur infrequently or never occur at all. These infrequent co-occurrences are considered to be less informative and can introduce noise, to tackle this problem, We need a weight for each different pair of context and target word, hence our loss function for all pairs of word is $\\sum_{i\\in\\mathcal{V}} \\sum_{j\\in\\mathcal{V}} f(x_{ij}) \\left(\\mathbf{u}_j^\\top \\mathbf{v}_i + b_i + c_j - \\log\\,x_{ij}\\right)^2$\n",
        "\n",
        "    - The pair of word with high co-count deserve to be more focus than low co-count, hence we need a weight function (f(x_ij)) which take co-count frequency (X_ij) as input, i.e. higher X_ij -> higher weight, lower X_ij -> lower weight\n",
        "\n",
        "    - From [GloVe Paper](https://nlp.stanford.edu/pubs/glove.pdf), the weight function they used is the following piecewise function\n",
        "    ![](https://i.ibb.co/hWHX2Sy/Screenshot-2023-10-14-121531.png)\n",
        "\n",
        "    ![](https://i.ibb.co/8Kr9Fq8/Screenshot-2023-10-14-121216.png)"
      ],
      "metadata": {
        "id": "wB1ClhiDoW1F"
      }
    },
    {
      "cell_type": "code",
      "source": [
        "from functools import partial\n",
        "# Let's define our loss function (criterion)\n",
        "\n",
        "def weighted_mse_loss(input, target, weight):\n",
        "    # weight will be corresponding to target\n",
        "    return (weight * (input - target) ** 2).mean()\n",
        "\n",
        "def glove_weight_function(x, xmax = 100, alpha=0.75):\n",
        "    \"\"\"\n",
        "    Return weight from the given x (co-occurence frequency)\n",
        "    \"\"\"\n",
        "    # Ignore if these words are not co-count\n",
        "    if x <= 0:\n",
        "        return 0\n",
        "\n",
        "    # Saturated\n",
        "    elif x < xmax:\n",
        "        return 1\n",
        "\n",
        "    else:\n",
        "        return (x/xmax)**alpha"
      ],
      "metadata": {
        "id": "zYdoUNeMoO82"
      },
      "execution_count": null,
      "outputs": []
    },
    {
      "cell_type": "markdown",
      "source": [
        "##### Make trainer"
      ],
      "metadata": {
        "id": "3BHRLQ2prydh"
      }
    },
    {
      "cell_type": "code",
      "source": [
        "import torch.optim as optim\n",
        "from tqdm import tqdm\n",
        "import numpy as np\n",
        "import os\n",
        "\n",
        "def train_step(model, inputs, labels, criterion, optimizer, device):\n",
        "  optimizer.zero_grad()\n",
        "  context_idx, target_idx = inputs\n",
        "\n",
        "  # Move data to device\n",
        "  weights = labels.apply_(glove_weight_function)\n",
        "  context_idx = context_idx.to(device)\n",
        "  target_idx = target_idx.to(device)\n",
        "  labels = labels.to(device)\n",
        "  weights = weights.to(device)\n",
        "\n",
        "  # Forward\n",
        "  outputs = model(context_idx, target_idx)  # Scalar\n",
        "\n",
        "  # Backward\n",
        "  loss = criterion(outputs, labels, weights)\n",
        "  loss.backward()\n",
        "  optimizer.step()\n",
        "\n",
        "  return loss.item()\n",
        "\n",
        "def train_epoch(model, train_loader, criterion, optimizer, device):\n",
        "  total_loss = 0.0\n",
        "  loop = tqdm(train_loader,desc=\"Training\")\n",
        "\n",
        "  for i, data in enumerate(loop):\n",
        "    context_idx = data[\"context_idx\"]\n",
        "    target_idx = data[\"target_idx\"]\n",
        "    co_count = data[\"co_count\"]\n",
        "    inputs = (context_idx, target_idx)\n",
        "    labels = co_count\n",
        "    loss = train_step(model, inputs, labels, criterion, optimizer, device)\n",
        "    total_loss += loss\n",
        "    loop.set_postfix(loss=loss)\n",
        "  return total_loss\n",
        "\n",
        "def train(model,\n",
        "          train_loader,\n",
        "          criterion,\n",
        "          optimizer,\n",
        "          model_path:str,\n",
        "          num_epochs=5,\n",
        "          device='cuda'):\n",
        "  \"\"\"\n",
        "\n",
        "  Arg:\n",
        "    model_path - the destination path that store best model as best.pt and final model as final.pt\n",
        "  \"\"\"\n",
        "  best_loss = np.inf\n",
        "  model.to(device)\n",
        "  for epoch in range(num_epochs):\n",
        "    total_loss = train_epoch(model, train_loader, criterion, optimizer, device)\n",
        "    mean_loss = total_loss / len(train_loader)\n",
        "    print(f\"Epoch [{epoch + 1}/{num_epochs}] Loss: {mean_loss}\")\n",
        "    # Save best model\n",
        "    if best_loss > mean_loss:\n",
        "      best_loss = mean_loss\n",
        "      print(f\"Best model saved at epoch {epoch + 1}\")\n",
        "      torch.save(model.state_dict(), os.path.join(model_path,'best.pth'))\n",
        "\n",
        "  # Save Final model\n",
        "  print(f\"Final model saved at epoch {epoch + 1}\")\n",
        "  torch.save(model.state_dict(), os.path.join(model_path,'final.pth'))\n",
        "  final_loss = mean_loss\n",
        "  return model, best_loss, final_loss"
      ],
      "metadata": {
        "id": "NvrFU_e5yU2R"
      },
      "execution_count": null,
      "outputs": []
    },
    {
      "cell_type": "markdown",
      "source": [
        "#### Start training CBOW"
      ],
      "metadata": {
        "id": "OkauC3LUfUxY"
      }
    },
    {
      "cell_type": "code",
      "source": [
        "# Mount to store model in here\n",
        "from google.colab import drive\n",
        "drive.mount('/content/drive')"
      ],
      "metadata": {
        "colab": {
          "base_uri": "https://localhost:8080/"
        },
        "id": "xd0Jkib_l3OT",
        "outputId": "ad4ad6ba-bc9e-42a1-85ff-c0e188437e17"
      },
      "execution_count": null,
      "outputs": [
        {
          "output_type": "stream",
          "name": "stdout",
          "text": [
            "Mounted at /content/drive\n"
          ]
        }
      ]
    },
    {
      "cell_type": "code",
      "source": [
        "from datetime import datetime\n",
        "now = datetime.now()\n",
        "now = now.strftime(\"%Y-%m-%d %H:%M:%S\")"
      ],
      "metadata": {
        "id": "i7DYgd60uUYY"
      },
      "execution_count": null,
      "outputs": []
    },
    {
      "cell_type": "code",
      "source": [
        "import os\n",
        "import json\n",
        "from datetime import datetime\n",
        "\n",
        "# Initiate meta\n",
        "vocab_size = len(vocabulary)\n",
        "now = datetime.now().strftime(\"%Y-%m-%d %H:%M:%S\")\n",
        "model_path = f'/content/drive/MyDrive/thaichar2vec/glove/{now}'\n",
        "if not os.path.exists(model_path): os.makedirs(model_path) # Make directory if not exist\n",
        "\n",
        "# Define Hyperparameter\n",
        "add_special_token = False\n",
        "laplace_smoothing = False\n",
        "batch_size = 256\n",
        "emb_size = 32\n",
        "num_epochs = 300\n",
        "learning_rate = 1e-3\n",
        "window_size = 1\n",
        "\n",
        "# Create Vocabulary\n",
        "vocabulary = make_vocabulary(CHARLIST,add_special_token)\n",
        "reverse_vocabulary = {v: k for k, v in vocabulary.items()}\n",
        "print(f\"{len(vocabulary)=}\")\n",
        "\n",
        "# Create Loader\n",
        "glove_loader = make_glove_loader(corpora,\n",
        "                                vocabulary,\n",
        "                                window_size,\n",
        "                                batch_size,\n",
        "                                 device)\n",
        "\n",
        "# Define LOAD\n",
        "vocab_size = len(vocabulary)\n",
        "model = GloveModel(vocab_size,emb_size).to(device)\n",
        "criterion = weighted_mse_loss\n",
        "\n",
        "# Criterion as sigmoid if isNegativeSampling\n",
        "optimizer = optim.Adam(model.parameters(), lr=learning_rate)\n",
        "\n",
        "# Write model metadata\n",
        "with open(os.path.join(model_path,\"hyperparameter.json\"),\"w\") as f:\n",
        "  dictionary = dict(add_special_token=add_special_token,\n",
        "                    batch_size=batch_size,\n",
        "                    emb_size=emb_size,\n",
        "                    num_epochs=num_epochs,\n",
        "                    learning_rate=learning_rate,\n",
        "                    window_size=window_size)\n",
        "\n",
        "  json_object = json.dumps(dictionary, indent=4)\n",
        "  f.write(json_object)\n",
        "\n",
        "# Start training CBOW\n",
        "model, best_loss, final_loss = train(model,\n",
        "                                    glove_loader,\n",
        "                                    criterion,\n",
        "                                    optimizer,\n",
        "                                    model_path,\n",
        "                                    num_epochs)\n",
        "\n",
        "# Submit Result\n",
        "with open(os.path.join(model_path,\"result.json\"),\"w\") as f:\n",
        "  dictionary = dict(best_loss=best_loss,\n",
        "                    final_loss=final_loss)\n",
        "\n",
        "  json_object = json.dumps(dictionary, indent=4)\n",
        "  f.write(json_object)"
      ],
      "metadata": {
        "colab": {
          "base_uri": "https://localhost:8080/"
        },
        "id": "hqz49ULtEWSi",
        "outputId": "596c7259-202d-4ae4-d5fc-5ef335337e13"
      },
      "execution_count": null,
      "outputs": [
        {
          "output_type": "stream",
          "name": "stdout",
          "text": [
            "len(vocabulary)=69\n"
          ]
        },
        {
          "output_type": "stream",
          "name": "stderr",
          "text": [
            "Training: 100%|██████████| 19/19 [00:00<00:00, 291.77it/s, loss=126]\n"
          ]
        },
        {
          "output_type": "stream",
          "name": "stdout",
          "text": [
            "Epoch [1/300] Loss: 84.41888146651418\n",
            "Best model saved at epoch 1\n"
          ]
        },
        {
          "output_type": "stream",
          "name": "stderr",
          "text": [
            "Training: 100%|██████████| 19/19 [00:00<00:00, 307.50it/s, loss=72.9]\n"
          ]
        },
        {
          "output_type": "stream",
          "name": "stdout",
          "text": [
            "Epoch [2/300] Loss: 79.71367103175113\n",
            "Best model saved at epoch 2\n"
          ]
        },
        {
          "output_type": "stream",
          "name": "stderr",
          "text": [
            "Training: 100%|██████████| 19/19 [00:00<00:00, 292.77it/s, loss=66.7]\n"
          ]
        },
        {
          "output_type": "stream",
          "name": "stdout",
          "text": [
            "Epoch [3/300] Loss: 76.98688386615954\n",
            "Best model saved at epoch 3\n"
          ]
        },
        {
          "output_type": "stream",
          "name": "stderr",
          "text": [
            "Training: 100%|██████████| 19/19 [00:00<00:00, 285.86it/s, loss=67.1]\n"
          ]
        },
        {
          "output_type": "stream",
          "name": "stdout",
          "text": [
            "Epoch [4/300] Loss: 74.544804824026\n",
            "Best model saved at epoch 4\n"
          ]
        },
        {
          "output_type": "stream",
          "name": "stderr",
          "text": [
            "Training: 100%|██████████| 19/19 [00:00<00:00, 312.06it/s, loss=106]\n"
          ]
        },
        {
          "output_type": "stream",
          "name": "stdout",
          "text": [
            "Epoch [5/300] Loss: 72.55808940686677\n",
            "Best model saved at epoch 5\n"
          ]
        },
        {
          "output_type": "stream",
          "name": "stderr",
          "text": [
            "Training: 100%|██████████| 19/19 [00:00<00:00, 290.88it/s, loss=56.4]\n"
          ]
        },
        {
          "output_type": "stream",
          "name": "stdout",
          "text": [
            "Epoch [6/300] Loss: 68.94166303935803\n",
            "Best model saved at epoch 6\n"
          ]
        },
        {
          "output_type": "stream",
          "name": "stderr",
          "text": [
            "Training: 100%|██████████| 19/19 [00:00<00:00, 292.94it/s, loss=41.2]\n"
          ]
        },
        {
          "output_type": "stream",
          "name": "stdout",
          "text": [
            "Epoch [7/300] Loss: 66.51010714079204\n",
            "Best model saved at epoch 7\n"
          ]
        },
        {
          "output_type": "stream",
          "name": "stderr",
          "text": [
            "Training: 100%|██████████| 19/19 [00:00<00:00, 307.55it/s, loss=54.4]\n"
          ]
        },
        {
          "output_type": "stream",
          "name": "stdout",
          "text": [
            "Epoch [8/300] Loss: 64.47284015856292\n",
            "Best model saved at epoch 8\n"
          ]
        },
        {
          "output_type": "stream",
          "name": "stderr",
          "text": [
            "Training: 100%|██████████| 19/19 [00:00<00:00, 311.59it/s, loss=44.4]\n"
          ]
        },
        {
          "output_type": "stream",
          "name": "stdout",
          "text": [
            "Epoch [9/300] Loss: 62.29140251561215\n",
            "Best model saved at epoch 9\n"
          ]
        },
        {
          "output_type": "stream",
          "name": "stderr",
          "text": [
            "Training: 100%|██████████| 19/19 [00:00<00:00, 299.77it/s, loss=42.2]\n"
          ]
        },
        {
          "output_type": "stream",
          "name": "stdout",
          "text": [
            "Epoch [10/300] Loss: 60.0890834206029\n",
            "Best model saved at epoch 10\n"
          ]
        },
        {
          "output_type": "stream",
          "name": "stderr",
          "text": [
            "Training: 100%|██████████| 19/19 [00:00<00:00, 315.04it/s, loss=50.7]\n"
          ]
        },
        {
          "output_type": "stream",
          "name": "stdout",
          "text": [
            "Epoch [11/300] Loss: 58.54291474191766\n",
            "Best model saved at epoch 11\n"
          ]
        },
        {
          "output_type": "stream",
          "name": "stderr",
          "text": [
            "Training: 100%|██████████| 19/19 [00:00<00:00, 292.89it/s, loss=39.4]\n"
          ]
        },
        {
          "output_type": "stream",
          "name": "stdout",
          "text": [
            "Epoch [12/300] Loss: 56.39019594694439\n",
            "Best model saved at epoch 12\n"
          ]
        },
        {
          "output_type": "stream",
          "name": "stderr",
          "text": [
            "Training: 100%|██████████| 19/19 [00:00<00:00, 288.72it/s, loss=69.8]\n"
          ]
        },
        {
          "output_type": "stream",
          "name": "stdout",
          "text": [
            "Epoch [13/300] Loss: 55.461010581568665\n",
            "Best model saved at epoch 13\n"
          ]
        },
        {
          "output_type": "stream",
          "name": "stderr",
          "text": [
            "Training: 100%|██████████| 19/19 [00:00<00:00, 311.52it/s, loss=53.8]\n"
          ]
        },
        {
          "output_type": "stream",
          "name": "stdout",
          "text": [
            "Epoch [14/300] Loss: 53.10780475014135\n",
            "Best model saved at epoch 14\n"
          ]
        },
        {
          "output_type": "stream",
          "name": "stderr",
          "text": [
            "Training: 100%|██████████| 19/19 [00:00<00:00, 290.87it/s, loss=67.3]\n"
          ]
        },
        {
          "output_type": "stream",
          "name": "stdout",
          "text": [
            "Epoch [15/300] Loss: 51.85571309139854\n",
            "Best model saved at epoch 15\n"
          ]
        },
        {
          "output_type": "stream",
          "name": "stderr",
          "text": [
            "Training: 100%|██████████| 19/19 [00:00<00:00, 308.32it/s, loss=37.6]\n"
          ]
        },
        {
          "output_type": "stream",
          "name": "stdout",
          "text": [
            "Epoch [16/300] Loss: 49.81673632170025\n",
            "Best model saved at epoch 16\n"
          ]
        },
        {
          "output_type": "stream",
          "name": "stderr",
          "text": [
            "Training: 100%|██████████| 19/19 [00:00<00:00, 311.48it/s, loss=61.6]\n"
          ]
        },
        {
          "output_type": "stream",
          "name": "stdout",
          "text": [
            "Epoch [17/300] Loss: 48.727485154804434\n",
            "Best model saved at epoch 17\n"
          ]
        },
        {
          "output_type": "stream",
          "name": "stderr",
          "text": [
            "Training: 100%|██████████| 19/19 [00:00<00:00, 294.39it/s, loss=40.7]\n"
          ]
        },
        {
          "output_type": "stream",
          "name": "stdout",
          "text": [
            "Epoch [18/300] Loss: 46.71237142462479\n",
            "Best model saved at epoch 18\n"
          ]
        },
        {
          "output_type": "stream",
          "name": "stderr",
          "text": [
            "Training: 100%|██████████| 19/19 [00:00<00:00, 317.37it/s, loss=81.3]\n"
          ]
        },
        {
          "output_type": "stream",
          "name": "stdout",
          "text": [
            "Epoch [19/300] Loss: 46.3193503931949\n",
            "Best model saved at epoch 19\n"
          ]
        },
        {
          "output_type": "stream",
          "name": "stderr",
          "text": [
            "Training: 100%|██████████| 19/19 [00:00<00:00, 291.66it/s, loss=25.2]\n"
          ]
        },
        {
          "output_type": "stream",
          "name": "stdout",
          "text": [
            "Epoch [20/300] Loss: 43.867420497693516\n",
            "Best model saved at epoch 20\n"
          ]
        },
        {
          "output_type": "stream",
          "name": "stderr",
          "text": [
            "Training: 100%|██████████| 19/19 [00:00<00:00, 307.14it/s, loss=51.3]\n"
          ]
        },
        {
          "output_type": "stream",
          "name": "stdout",
          "text": [
            "Epoch [21/300] Loss: 43.035079554507604\n",
            "Best model saved at epoch 21\n"
          ]
        },
        {
          "output_type": "stream",
          "name": "stderr",
          "text": [
            "Training: 100%|██████████| 19/19 [00:00<00:00, 294.86it/s, loss=28.9]\n"
          ]
        },
        {
          "output_type": "stream",
          "name": "stdout",
          "text": [
            "Epoch [22/300] Loss: 41.16259002685547\n",
            "Best model saved at epoch 22\n"
          ]
        },
        {
          "output_type": "stream",
          "name": "stderr",
          "text": [
            "Training: 100%|██████████| 19/19 [00:00<00:00, 307.30it/s, loss=39]\n"
          ]
        },
        {
          "output_type": "stream",
          "name": "stdout",
          "text": [
            "Epoch [23/300] Loss: 40.26107828240646\n",
            "Best model saved at epoch 23\n"
          ]
        },
        {
          "output_type": "stream",
          "name": "stderr",
          "text": [
            "Training: 100%|██████████| 19/19 [00:00<00:00, 304.02it/s, loss=37.1]\n"
          ]
        },
        {
          "output_type": "stream",
          "name": "stdout",
          "text": [
            "Epoch [24/300] Loss: 39.28783336438631\n",
            "Best model saved at epoch 24\n"
          ]
        },
        {
          "output_type": "stream",
          "name": "stderr",
          "text": [
            "Training: 100%|██████████| 19/19 [00:00<00:00, 275.88it/s, loss=26.1]\n"
          ]
        },
        {
          "output_type": "stream",
          "name": "stdout",
          "text": [
            "Epoch [25/300] Loss: 37.6604713640715\n",
            "Best model saved at epoch 25\n"
          ]
        },
        {
          "output_type": "stream",
          "name": "stderr",
          "text": [
            "Training: 100%|██████████| 19/19 [00:00<00:00, 270.22it/s, loss=67.7]\n"
          ]
        },
        {
          "output_type": "stream",
          "name": "stdout",
          "text": [
            "Epoch [26/300] Loss: 37.4832225598787\n",
            "Best model saved at epoch 26\n"
          ]
        },
        {
          "output_type": "stream",
          "name": "stderr",
          "text": [
            "Training: 100%|██████████| 19/19 [00:00<00:00, 267.09it/s, loss=54.3]\n"
          ]
        },
        {
          "output_type": "stream",
          "name": "stdout",
          "text": [
            "Epoch [27/300] Loss: 36.23695373535156\n",
            "Best model saved at epoch 27\n"
          ]
        },
        {
          "output_type": "stream",
          "name": "stderr",
          "text": [
            "Training: 100%|██████████| 19/19 [00:00<00:00, 270.71it/s, loss=22.1]\n"
          ]
        },
        {
          "output_type": "stream",
          "name": "stdout",
          "text": [
            "Epoch [28/300] Loss: 34.60135208932977\n",
            "Best model saved at epoch 28\n"
          ]
        },
        {
          "output_type": "stream",
          "name": "stderr",
          "text": [
            "Training: 100%|██████████| 19/19 [00:00<00:00, 267.30it/s, loss=42.5]\n"
          ]
        },
        {
          "output_type": "stream",
          "name": "stdout",
          "text": [
            "Epoch [29/300] Loss: 33.923423265155996\n",
            "Best model saved at epoch 29\n"
          ]
        },
        {
          "output_type": "stream",
          "name": "stderr",
          "text": [
            "Training: 100%|██████████| 19/19 [00:00<00:00, 266.69it/s, loss=20.1]\n"
          ]
        },
        {
          "output_type": "stream",
          "name": "stdout",
          "text": [
            "Epoch [30/300] Loss: 32.3022787194503\n",
            "Best model saved at epoch 30\n"
          ]
        },
        {
          "output_type": "stream",
          "name": "stderr",
          "text": [
            "Training: 100%|██████████| 19/19 [00:00<00:00, 269.65it/s, loss=24.2]\n"
          ]
        },
        {
          "output_type": "stream",
          "name": "stdout",
          "text": [
            "Epoch [31/300] Loss: 31.608456360666377\n",
            "Best model saved at epoch 31\n"
          ]
        },
        {
          "output_type": "stream",
          "name": "stderr",
          "text": [
            "Training: 100%|██████████| 19/19 [00:00<00:00, 264.60it/s, loss=43.5]\n"
          ]
        },
        {
          "output_type": "stream",
          "name": "stdout",
          "text": [
            "Epoch [32/300] Loss: 31.238738009804173\n",
            "Best model saved at epoch 32\n"
          ]
        },
        {
          "output_type": "stream",
          "name": "stderr",
          "text": [
            "Training: 100%|██████████| 19/19 [00:00<00:00, 267.62it/s, loss=51.6]\n"
          ]
        },
        {
          "output_type": "stream",
          "name": "stdout",
          "text": [
            "Epoch [33/300] Loss: 30.44213696529991\n",
            "Best model saved at epoch 33\n"
          ]
        },
        {
          "output_type": "stream",
          "name": "stderr",
          "text": [
            "Training: 100%|██████████| 19/19 [00:00<00:00, 273.93it/s, loss=25.3]\n"
          ]
        },
        {
          "output_type": "stream",
          "name": "stdout",
          "text": [
            "Epoch [34/300] Loss: 29.003230496456748\n",
            "Best model saved at epoch 34\n"
          ]
        },
        {
          "output_type": "stream",
          "name": "stderr",
          "text": [
            "Training: 100%|██████████| 19/19 [00:00<00:00, 297.15it/s, loss=48.9]\n"
          ]
        },
        {
          "output_type": "stream",
          "name": "stdout",
          "text": [
            "Epoch [35/300] Loss: 28.773682644492702\n",
            "Best model saved at epoch 35\n"
          ]
        },
        {
          "output_type": "stream",
          "name": "stderr",
          "text": [
            "Training: 100%|██████████| 19/19 [00:00<00:00, 268.69it/s, loss=14.6]\n"
          ]
        },
        {
          "output_type": "stream",
          "name": "stdout",
          "text": [
            "Epoch [36/300] Loss: 27.360753460934287\n",
            "Best model saved at epoch 36\n"
          ]
        },
        {
          "output_type": "stream",
          "name": "stderr",
          "text": [
            "Training: 100%|██████████| 19/19 [00:00<00:00, 286.62it/s, loss=14.9]\n"
          ]
        },
        {
          "output_type": "stream",
          "name": "stdout",
          "text": [
            "Epoch [37/300] Loss: 26.694211608485173\n",
            "Best model saved at epoch 37\n"
          ]
        },
        {
          "output_type": "stream",
          "name": "stderr",
          "text": [
            "Training: 100%|██████████| 19/19 [00:00<00:00, 303.86it/s, loss=22]\n"
          ]
        },
        {
          "output_type": "stream",
          "name": "stdout",
          "text": [
            "Epoch [38/300] Loss: 25.992884585731908\n",
            "Best model saved at epoch 38\n"
          ]
        },
        {
          "output_type": "stream",
          "name": "stderr",
          "text": [
            "Training: 100%|██████████| 19/19 [00:00<00:00, 250.77it/s, loss=29.4]\n"
          ]
        },
        {
          "output_type": "stream",
          "name": "stdout",
          "text": [
            "Epoch [39/300] Loss: 25.43477921736868\n",
            "Best model saved at epoch 39\n"
          ]
        },
        {
          "output_type": "stream",
          "name": "stderr",
          "text": [
            "Training: 100%|██████████| 19/19 [00:00<00:00, 270.73it/s, loss=51.5]\n"
          ]
        },
        {
          "output_type": "stream",
          "name": "stdout",
          "text": [
            "Epoch [40/300] Loss: 25.40222002330579\n",
            "Best model saved at epoch 40\n"
          ]
        },
        {
          "output_type": "stream",
          "name": "stderr",
          "text": [
            "Training: 100%|██████████| 19/19 [00:00<00:00, 254.65it/s, loss=43.5]\n"
          ]
        },
        {
          "output_type": "stream",
          "name": "stdout",
          "text": [
            "Epoch [41/300] Loss: 24.478728193985788\n",
            "Best model saved at epoch 41\n"
          ]
        },
        {
          "output_type": "stream",
          "name": "stderr",
          "text": [
            "Training: 100%|██████████| 19/19 [00:00<00:00, 299.58it/s, loss=17]\n"
          ]
        },
        {
          "output_type": "stream",
          "name": "stdout",
          "text": [
            "Epoch [42/300] Loss: 23.41666020845112\n",
            "Best model saved at epoch 42\n"
          ]
        },
        {
          "output_type": "stream",
          "name": "stderr",
          "text": [
            "Training: 100%|██████████| 19/19 [00:00<00:00, 292.74it/s, loss=24.4]\n"
          ]
        },
        {
          "output_type": "stream",
          "name": "stdout",
          "text": [
            "Epoch [43/300] Loss: 22.957264147306745\n",
            "Best model saved at epoch 43\n"
          ]
        },
        {
          "output_type": "stream",
          "name": "stderr",
          "text": [
            "Training: 100%|██████████| 19/19 [00:00<00:00, 260.40it/s, loss=16.3]\n"
          ]
        },
        {
          "output_type": "stream",
          "name": "stdout",
          "text": [
            "Epoch [44/300] Loss: 22.319172558031585\n",
            "Best model saved at epoch 44\n"
          ]
        },
        {
          "output_type": "stream",
          "name": "stderr",
          "text": [
            "Training: 100%|██████████| 19/19 [00:00<00:00, 277.43it/s, loss=13.8]\n"
          ]
        },
        {
          "output_type": "stream",
          "name": "stdout",
          "text": [
            "Epoch [45/300] Loss: 21.746672931470368\n",
            "Best model saved at epoch 45\n"
          ]
        },
        {
          "output_type": "stream",
          "name": "stderr",
          "text": [
            "Training: 100%|██████████| 19/19 [00:00<00:00, 273.29it/s, loss=15.8]\n"
          ]
        },
        {
          "output_type": "stream",
          "name": "stdout",
          "text": [
            "Epoch [46/300] Loss: 21.1914936868768\n",
            "Best model saved at epoch 46\n"
          ]
        },
        {
          "output_type": "stream",
          "name": "stderr",
          "text": [
            "Training: 100%|██████████| 19/19 [00:00<00:00, 256.72it/s, loss=17.9]\n"
          ]
        },
        {
          "output_type": "stream",
          "name": "stdout",
          "text": [
            "Epoch [47/300] Loss: 20.909714196857653\n",
            "Best model saved at epoch 47\n"
          ]
        },
        {
          "output_type": "stream",
          "name": "stderr",
          "text": [
            "Training: 100%|██████████| 19/19 [00:00<00:00, 271.82it/s, loss=14]\n"
          ]
        },
        {
          "output_type": "stream",
          "name": "stdout",
          "text": [
            "Epoch [48/300] Loss: 20.317752838134766\n",
            "Best model saved at epoch 48\n"
          ]
        },
        {
          "output_type": "stream",
          "name": "stderr",
          "text": [
            "Training: 100%|██████████| 19/19 [00:00<00:00, 301.19it/s, loss=41.3]\n"
          ]
        },
        {
          "output_type": "stream",
          "name": "stdout",
          "text": [
            "Epoch [49/300] Loss: 20.575496121456748\n"
          ]
        },
        {
          "output_type": "stream",
          "name": "stderr",
          "text": [
            "Training: 100%|██████████| 19/19 [00:00<00:00, 285.44it/s, loss=14]\n"
          ]
        },
        {
          "output_type": "stream",
          "name": "stdout",
          "text": [
            "Epoch [50/300] Loss: 19.606795060007197\n",
            "Best model saved at epoch 50\n"
          ]
        },
        {
          "output_type": "stream",
          "name": "stderr",
          "text": [
            "Training: 100%|██████████| 19/19 [00:00<00:00, 303.31it/s, loss=17.3]\n"
          ]
        },
        {
          "output_type": "stream",
          "name": "stdout",
          "text": [
            "Epoch [51/300] Loss: 19.14557040365119\n",
            "Best model saved at epoch 51\n"
          ]
        },
        {
          "output_type": "stream",
          "name": "stderr",
          "text": [
            "Training: 100%|██████████| 19/19 [00:00<00:00, 285.81it/s, loss=17.7]\n"
          ]
        },
        {
          "output_type": "stream",
          "name": "stdout",
          "text": [
            "Epoch [52/300] Loss: 18.905106594688014\n",
            "Best model saved at epoch 52\n"
          ]
        },
        {
          "output_type": "stream",
          "name": "stderr",
          "text": [
            "Training: 100%|██████████| 19/19 [00:00<00:00, 270.94it/s, loss=16.5]\n"
          ]
        },
        {
          "output_type": "stream",
          "name": "stdout",
          "text": [
            "Epoch [53/300] Loss: 18.42212902872186\n",
            "Best model saved at epoch 53\n"
          ]
        },
        {
          "output_type": "stream",
          "name": "stderr",
          "text": [
            "Training: 100%|██████████| 19/19 [00:00<00:00, 278.22it/s, loss=22.8]\n"
          ]
        },
        {
          "output_type": "stream",
          "name": "stdout",
          "text": [
            "Epoch [54/300] Loss: 18.268131256103516\n",
            "Best model saved at epoch 54\n"
          ]
        },
        {
          "output_type": "stream",
          "name": "stderr",
          "text": [
            "Training: 100%|██████████| 19/19 [00:00<00:00, 271.67it/s, loss=18.6]\n"
          ]
        },
        {
          "output_type": "stream",
          "name": "stdout",
          "text": [
            "Epoch [55/300] Loss: 17.874950910869398\n",
            "Best model saved at epoch 55\n"
          ]
        },
        {
          "output_type": "stream",
          "name": "stderr",
          "text": [
            "Training: 100%|██████████| 19/19 [00:00<00:00, 252.07it/s, loss=18.3]\n"
          ]
        },
        {
          "output_type": "stream",
          "name": "stdout",
          "text": [
            "Epoch [56/300] Loss: 17.579943305567692\n",
            "Best model saved at epoch 56\n"
          ]
        },
        {
          "output_type": "stream",
          "name": "stderr",
          "text": [
            "Training: 100%|██████████| 19/19 [00:00<00:00, 258.83it/s, loss=10.3]\n"
          ]
        },
        {
          "output_type": "stream",
          "name": "stdout",
          "text": [
            "Epoch [57/300] Loss: 17.234135979100277\n",
            "Best model saved at epoch 57\n"
          ]
        },
        {
          "output_type": "stream",
          "name": "stderr",
          "text": [
            "Training: 100%|██████████| 19/19 [00:00<00:00, 274.29it/s, loss=18.6]\n"
          ]
        },
        {
          "output_type": "stream",
          "name": "stdout",
          "text": [
            "Epoch [58/300] Loss: 17.10619961588006\n",
            "Best model saved at epoch 58\n"
          ]
        },
        {
          "output_type": "stream",
          "name": "stderr",
          "text": [
            "Training: 100%|██████████| 19/19 [00:00<00:00, 278.93it/s, loss=15]\n"
          ]
        },
        {
          "output_type": "stream",
          "name": "stdout",
          "text": [
            "Epoch [59/300] Loss: 16.754765058818617\n",
            "Best model saved at epoch 59\n"
          ]
        },
        {
          "output_type": "stream",
          "name": "stderr",
          "text": [
            "Training: 100%|██████████| 19/19 [00:00<00:00, 296.20it/s, loss=13.6]\n"
          ]
        },
        {
          "output_type": "stream",
          "name": "stdout",
          "text": [
            "Epoch [60/300] Loss: 16.464846360056026\n",
            "Best model saved at epoch 60\n"
          ]
        },
        {
          "output_type": "stream",
          "name": "stderr",
          "text": [
            "Training: 100%|██████████| 19/19 [00:00<00:00, 287.54it/s, loss=11.8]\n"
          ]
        },
        {
          "output_type": "stream",
          "name": "stdout",
          "text": [
            "Epoch [61/300] Loss: 16.19832626142\n",
            "Best model saved at epoch 61\n"
          ]
        },
        {
          "output_type": "stream",
          "name": "stderr",
          "text": [
            "Training: 100%|██████████| 19/19 [00:00<00:00, 291.73it/s, loss=15.4]\n"
          ]
        },
        {
          "output_type": "stream",
          "name": "stdout",
          "text": [
            "Epoch [62/300] Loss: 15.995132596869217\n",
            "Best model saved at epoch 62\n"
          ]
        },
        {
          "output_type": "stream",
          "name": "stderr",
          "text": [
            "Training: 100%|██████████| 19/19 [00:00<00:00, 311.43it/s, loss=10.1]\n"
          ]
        },
        {
          "output_type": "stream",
          "name": "stdout",
          "text": [
            "Epoch [63/300] Loss: 15.744699578536185\n",
            "Best model saved at epoch 63\n"
          ]
        },
        {
          "output_type": "stream",
          "name": "stderr",
          "text": [
            "Training: 100%|██████████| 19/19 [00:00<00:00, 294.03it/s, loss=7.83]\n"
          ]
        },
        {
          "output_type": "stream",
          "name": "stdout",
          "text": [
            "Epoch [64/300] Loss: 15.43923054243389\n",
            "Best model saved at epoch 64\n"
          ]
        },
        {
          "output_type": "stream",
          "name": "stderr",
          "text": [
            "Training: 100%|██████████| 19/19 [00:00<00:00, 284.51it/s, loss=9.61]\n"
          ]
        },
        {
          "output_type": "stream",
          "name": "stdout",
          "text": [
            "Epoch [65/300] Loss: 15.287269291124845\n",
            "Best model saved at epoch 65\n"
          ]
        },
        {
          "output_type": "stream",
          "name": "stderr",
          "text": [
            "Training: 100%|██████████| 19/19 [00:00<00:00, 287.42it/s, loss=13]\n"
          ]
        },
        {
          "output_type": "stream",
          "name": "stdout",
          "text": [
            "Epoch [66/300] Loss: 15.204589392009535\n",
            "Best model saved at epoch 66\n"
          ]
        },
        {
          "output_type": "stream",
          "name": "stderr",
          "text": [
            "Training: 100%|██████████| 19/19 [00:00<00:00, 299.45it/s, loss=14]\n"
          ]
        },
        {
          "output_type": "stream",
          "name": "stdout",
          "text": [
            "Epoch [67/300] Loss: 15.102492056394878\n",
            "Best model saved at epoch 67\n"
          ]
        },
        {
          "output_type": "stream",
          "name": "stderr",
          "text": [
            "Training: 100%|██████████| 19/19 [00:00<00:00, 299.01it/s, loss=11.2]\n"
          ]
        },
        {
          "output_type": "stream",
          "name": "stdout",
          "text": [
            "Epoch [68/300] Loss: 14.833189111006888\n",
            "Best model saved at epoch 68\n"
          ]
        },
        {
          "output_type": "stream",
          "name": "stderr",
          "text": [
            "Training: 100%|██████████| 19/19 [00:00<00:00, 298.68it/s, loss=8.92]\n"
          ]
        },
        {
          "output_type": "stream",
          "name": "stdout",
          "text": [
            "Epoch [69/300] Loss: 14.6642999147114\n",
            "Best model saved at epoch 69\n"
          ]
        },
        {
          "output_type": "stream",
          "name": "stderr",
          "text": [
            "Training: 100%|██████████| 19/19 [00:00<00:00, 288.63it/s, loss=22.1]\n"
          ]
        },
        {
          "output_type": "stream",
          "name": "stdout",
          "text": [
            "Epoch [70/300] Loss: 14.724922933076558\n"
          ]
        },
        {
          "output_type": "stream",
          "name": "stderr",
          "text": [
            "Training: 100%|██████████| 19/19 [00:00<00:00, 292.53it/s, loss=20]\n"
          ]
        },
        {
          "output_type": "stream",
          "name": "stdout",
          "text": [
            "Epoch [71/300] Loss: 14.621939458345112\n",
            "Best model saved at epoch 71\n"
          ]
        },
        {
          "output_type": "stream",
          "name": "stderr",
          "text": [
            "Training: 100%|██████████| 19/19 [00:00<00:00, 291.18it/s, loss=15.4]\n"
          ]
        },
        {
          "output_type": "stream",
          "name": "stdout",
          "text": [
            "Epoch [72/300] Loss: 14.348002734937166\n",
            "Best model saved at epoch 72\n"
          ]
        },
        {
          "output_type": "stream",
          "name": "stderr",
          "text": [
            "Training: 100%|██████████| 19/19 [00:00<00:00, 290.82it/s, loss=15.5]\n"
          ]
        },
        {
          "output_type": "stream",
          "name": "stdout",
          "text": [
            "Epoch [73/300] Loss: 14.172135905215615\n",
            "Best model saved at epoch 73\n"
          ]
        },
        {
          "output_type": "stream",
          "name": "stderr",
          "text": [
            "Training: 100%|██████████| 19/19 [00:00<00:00, 297.62it/s, loss=17.1]\n"
          ]
        },
        {
          "output_type": "stream",
          "name": "stdout",
          "text": [
            "Epoch [74/300] Loss: 14.094266791092721\n",
            "Best model saved at epoch 74\n"
          ]
        },
        {
          "output_type": "stream",
          "name": "stderr",
          "text": [
            "Training: 100%|██████████| 19/19 [00:00<00:00, 293.86it/s, loss=7.85]\n"
          ]
        },
        {
          "output_type": "stream",
          "name": "stdout",
          "text": [
            "Epoch [75/300] Loss: 13.702121257781982\n",
            "Best model saved at epoch 75\n"
          ]
        },
        {
          "output_type": "stream",
          "name": "stderr",
          "text": [
            "Training: 100%|██████████| 19/19 [00:00<00:00, 296.87it/s, loss=15.1]\n"
          ]
        },
        {
          "output_type": "stream",
          "name": "stdout",
          "text": [
            "Epoch [76/300] Loss: 13.799941564861097\n"
          ]
        },
        {
          "output_type": "stream",
          "name": "stderr",
          "text": [
            "Training: 100%|██████████| 19/19 [00:00<00:00, 304.18it/s, loss=9.91]\n"
          ]
        },
        {
          "output_type": "stream",
          "name": "stdout",
          "text": [
            "Epoch [77/300] Loss: 13.566731804295591\n",
            "Best model saved at epoch 77\n"
          ]
        },
        {
          "output_type": "stream",
          "name": "stderr",
          "text": [
            "Training: 100%|██████████| 19/19 [00:00<00:00, 280.47it/s, loss=10.5]\n"
          ]
        },
        {
          "output_type": "stream",
          "name": "stdout",
          "text": [
            "Epoch [78/300] Loss: 13.526429778651186\n",
            "Best model saved at epoch 78\n"
          ]
        },
        {
          "output_type": "stream",
          "name": "stderr",
          "text": [
            "Training: 100%|██████████| 19/19 [00:00<00:00, 276.49it/s, loss=7.19]\n"
          ]
        },
        {
          "output_type": "stream",
          "name": "stdout",
          "text": [
            "Epoch [79/300] Loss: 13.295060233065957\n",
            "Best model saved at epoch 79\n"
          ]
        },
        {
          "output_type": "stream",
          "name": "stderr",
          "text": [
            "Training: 100%|██████████| 19/19 [00:00<00:00, 288.41it/s, loss=9.02]\n"
          ]
        },
        {
          "output_type": "stream",
          "name": "stdout",
          "text": [
            "Epoch [80/300] Loss: 13.259712369818436\n",
            "Best model saved at epoch 80\n"
          ]
        },
        {
          "output_type": "stream",
          "name": "stderr",
          "text": [
            "Training: 100%|██████████| 19/19 [00:00<00:00, 307.79it/s, loss=9.82]\n"
          ]
        },
        {
          "output_type": "stream",
          "name": "stdout",
          "text": [
            "Epoch [81/300] Loss: 13.194826075905247\n",
            "Best model saved at epoch 81\n"
          ]
        },
        {
          "output_type": "stream",
          "name": "stderr",
          "text": [
            "Training: 100%|██████████| 19/19 [00:00<00:00, 278.24it/s, loss=19.9]\n"
          ]
        },
        {
          "output_type": "stream",
          "name": "stdout",
          "text": [
            "Epoch [82/300] Loss: 13.307342177943179\n"
          ]
        },
        {
          "output_type": "stream",
          "name": "stderr",
          "text": [
            "Training: 100%|██████████| 19/19 [00:00<00:00, 295.20it/s, loss=8.84]\n"
          ]
        },
        {
          "output_type": "stream",
          "name": "stdout",
          "text": [
            "Epoch [83/300] Loss: 12.996426456852964\n",
            "Best model saved at epoch 83\n"
          ]
        },
        {
          "output_type": "stream",
          "name": "stderr",
          "text": [
            "Training: 100%|██████████| 19/19 [00:00<00:00, 308.01it/s, loss=12.6]\n"
          ]
        },
        {
          "output_type": "stream",
          "name": "stdout",
          "text": [
            "Epoch [84/300] Loss: 12.964927246696071\n",
            "Best model saved at epoch 84\n"
          ]
        },
        {
          "output_type": "stream",
          "name": "stderr",
          "text": [
            "Training: 100%|██████████| 19/19 [00:00<00:00, 309.21it/s, loss=7.76]\n"
          ]
        },
        {
          "output_type": "stream",
          "name": "stdout",
          "text": [
            "Epoch [85/300] Loss: 12.81044074108726\n",
            "Best model saved at epoch 85\n"
          ]
        },
        {
          "output_type": "stream",
          "name": "stderr",
          "text": [
            "Training: 100%|██████████| 19/19 [00:00<00:00, 289.01it/s, loss=8.86]\n"
          ]
        },
        {
          "output_type": "stream",
          "name": "stdout",
          "text": [
            "Epoch [86/300] Loss: 12.72007377524125\n",
            "Best model saved at epoch 86\n"
          ]
        },
        {
          "output_type": "stream",
          "name": "stderr",
          "text": [
            "Training: 100%|██████████| 19/19 [00:00<00:00, 301.46it/s, loss=31]\n"
          ]
        },
        {
          "output_type": "stream",
          "name": "stdout",
          "text": [
            "Epoch [87/300] Loss: 13.065168029383608\n"
          ]
        },
        {
          "output_type": "stream",
          "name": "stderr",
          "text": [
            "Training: 100%|██████████| 19/19 [00:00<00:00, 278.07it/s, loss=13.9]\n"
          ]
        },
        {
          "output_type": "stream",
          "name": "stdout",
          "text": [
            "Epoch [88/300] Loss: 12.671665166553698\n",
            "Best model saved at epoch 88\n"
          ]
        },
        {
          "output_type": "stream",
          "name": "stderr",
          "text": [
            "Training: 100%|██████████| 19/19 [00:00<00:00, 280.68it/s, loss=24.9]\n"
          ]
        },
        {
          "output_type": "stream",
          "name": "stdout",
          "text": [
            "Epoch [89/300] Loss: 12.850779081645765\n"
          ]
        },
        {
          "output_type": "stream",
          "name": "stderr",
          "text": [
            "Training: 100%|██████████| 19/19 [00:00<00:00, 273.02it/s, loss=8.39]\n"
          ]
        },
        {
          "output_type": "stream",
          "name": "stdout",
          "text": [
            "Epoch [90/300] Loss: 12.395811884026779\n",
            "Best model saved at epoch 90\n"
          ]
        },
        {
          "output_type": "stream",
          "name": "stderr",
          "text": [
            "Training: 100%|██████████| 19/19 [00:00<00:00, 278.44it/s, loss=18.7]\n"
          ]
        },
        {
          "output_type": "stream",
          "name": "stdout",
          "text": [
            "Epoch [91/300] Loss: 12.60087665758635\n"
          ]
        },
        {
          "output_type": "stream",
          "name": "stderr",
          "text": [
            "Training: 100%|██████████| 19/19 [00:00<00:00, 286.74it/s, loss=13.1]\n"
          ]
        },
        {
          "output_type": "stream",
          "name": "stdout",
          "text": [
            "Epoch [92/300] Loss: 12.37172854574103\n",
            "Best model saved at epoch 92\n"
          ]
        },
        {
          "output_type": "stream",
          "name": "stderr",
          "text": [
            "Training: 100%|██████████| 19/19 [00:00<00:00, 283.32it/s, loss=19.2]\n"
          ]
        },
        {
          "output_type": "stream",
          "name": "stdout",
          "text": [
            "Epoch [93/300] Loss: 12.494683742523193\n"
          ]
        },
        {
          "output_type": "stream",
          "name": "stderr",
          "text": [
            "Training: 100%|██████████| 19/19 [00:00<00:00, 293.28it/s, loss=4.99]\n"
          ]
        },
        {
          "output_type": "stream",
          "name": "stdout",
          "text": [
            "Epoch [94/300] Loss: 12.074458824960809\n",
            "Best model saved at epoch 94\n"
          ]
        },
        {
          "output_type": "stream",
          "name": "stderr",
          "text": [
            "Training: 100%|██████████| 19/19 [00:00<00:00, 291.89it/s, loss=22.7]\n"
          ]
        },
        {
          "output_type": "stream",
          "name": "stdout",
          "text": [
            "Epoch [95/300] Loss: 12.444808759187397\n"
          ]
        },
        {
          "output_type": "stream",
          "name": "stderr",
          "text": [
            "Training: 100%|██████████| 19/19 [00:00<00:00, 284.20it/s, loss=17.8]\n"
          ]
        },
        {
          "output_type": "stream",
          "name": "stdout",
          "text": [
            "Epoch [96/300] Loss: 12.263632021452251\n"
          ]
        },
        {
          "output_type": "stream",
          "name": "stderr",
          "text": [
            "Training: 100%|██████████| 19/19 [00:00<00:00, 290.75it/s, loss=19.6]\n"
          ]
        },
        {
          "output_type": "stream",
          "name": "stdout",
          "text": [
            "Epoch [97/300] Loss: 12.23595360705727\n"
          ]
        },
        {
          "output_type": "stream",
          "name": "stderr",
          "text": [
            "Training: 100%|██████████| 19/19 [00:00<00:00, 301.21it/s, loss=13.7]\n"
          ]
        },
        {
          "output_type": "stream",
          "name": "stdout",
          "text": [
            "Epoch [98/300] Loss: 12.08424899452611\n"
          ]
        },
        {
          "output_type": "stream",
          "name": "stderr",
          "text": [
            "Training: 100%|██████████| 19/19 [00:00<00:00, 292.39it/s, loss=7.29]\n"
          ]
        },
        {
          "output_type": "stream",
          "name": "stdout",
          "text": [
            "Epoch [99/300] Loss: 11.890290887732254\n",
            "Best model saved at epoch 99\n"
          ]
        },
        {
          "output_type": "stream",
          "name": "stderr",
          "text": [
            "Training: 100%|██████████| 19/19 [00:00<00:00, 313.43it/s, loss=13.5]\n"
          ]
        },
        {
          "output_type": "stream",
          "name": "stdout",
          "text": [
            "Epoch [100/300] Loss: 11.959742696661698\n"
          ]
        },
        {
          "output_type": "stream",
          "name": "stderr",
          "text": [
            "Training: 100%|██████████| 19/19 [00:00<00:00, 284.08it/s, loss=10.9]\n"
          ]
        },
        {
          "output_type": "stream",
          "name": "stdout",
          "text": [
            "Epoch [101/300] Loss: 11.84585784610949\n",
            "Best model saved at epoch 101\n"
          ]
        },
        {
          "output_type": "stream",
          "name": "stderr",
          "text": [
            "Training: 100%|██████████| 19/19 [00:00<00:00, 296.14it/s, loss=20.2]\n"
          ]
        },
        {
          "output_type": "stream",
          "name": "stdout",
          "text": [
            "Epoch [102/300] Loss: 12.025408142491392\n"
          ]
        },
        {
          "output_type": "stream",
          "name": "stderr",
          "text": [
            "Training: 100%|██████████| 19/19 [00:00<00:00, 293.52it/s, loss=17.2]\n"
          ]
        },
        {
          "output_type": "stream",
          "name": "stdout",
          "text": [
            "Epoch [103/300] Loss: 11.93488449799387\n"
          ]
        },
        {
          "output_type": "stream",
          "name": "stderr",
          "text": [
            "Training: 100%|██████████| 19/19 [00:00<00:00, 292.04it/s, loss=12]\n"
          ]
        },
        {
          "output_type": "stream",
          "name": "stdout",
          "text": [
            "Epoch [104/300] Loss: 11.766863044939543\n",
            "Best model saved at epoch 104\n"
          ]
        },
        {
          "output_type": "stream",
          "name": "stderr",
          "text": [
            "Training: 100%|██████████| 19/19 [00:00<00:00, 299.37it/s, loss=23.9]\n"
          ]
        },
        {
          "output_type": "stream",
          "name": "stdout",
          "text": [
            "Epoch [105/300] Loss: 11.969657797562448\n"
          ]
        },
        {
          "output_type": "stream",
          "name": "stderr",
          "text": [
            "Training: 100%|██████████| 19/19 [00:00<00:00, 267.47it/s, loss=19.8]\n"
          ]
        },
        {
          "output_type": "stream",
          "name": "stdout",
          "text": [
            "Epoch [106/300] Loss: 11.854247419457687\n"
          ]
        },
        {
          "output_type": "stream",
          "name": "stderr",
          "text": [
            "Training: 100%|██████████| 19/19 [00:00<00:00, 273.76it/s, loss=10.6]\n"
          ]
        },
        {
          "output_type": "stream",
          "name": "stdout",
          "text": [
            "Epoch [107/300] Loss: 11.596562912589626\n",
            "Best model saved at epoch 107\n"
          ]
        },
        {
          "output_type": "stream",
          "name": "stderr",
          "text": [
            "Training: 100%|██████████| 19/19 [00:00<00:00, 254.62it/s, loss=10.4]\n"
          ]
        },
        {
          "output_type": "stream",
          "name": "stdout",
          "text": [
            "Epoch [108/300] Loss: 11.545561614789461\n",
            "Best model saved at epoch 108\n"
          ]
        },
        {
          "output_type": "stream",
          "name": "stderr",
          "text": [
            "Training: 100%|██████████| 19/19 [00:00<00:00, 284.78it/s, loss=8.82]\n"
          ]
        },
        {
          "output_type": "stream",
          "name": "stdout",
          "text": [
            "Epoch [109/300] Loss: 11.482040053919741\n",
            "Best model saved at epoch 109\n"
          ]
        },
        {
          "output_type": "stream",
          "name": "stderr",
          "text": [
            "Training: 100%|██████████| 19/19 [00:00<00:00, 279.66it/s, loss=11.5]\n"
          ]
        },
        {
          "output_type": "stream",
          "name": "stdout",
          "text": [
            "Epoch [110/300] Loss: 11.507130146026611\n"
          ]
        },
        {
          "output_type": "stream",
          "name": "stderr",
          "text": [
            "Training: 100%|██████████| 19/19 [00:00<00:00, 315.94it/s, loss=6.06]\n"
          ]
        },
        {
          "output_type": "stream",
          "name": "stdout",
          "text": [
            "Epoch [111/300] Loss: 11.389387607574463\n",
            "Best model saved at epoch 111\n"
          ]
        },
        {
          "output_type": "stream",
          "name": "stderr",
          "text": [
            "Training: 100%|██████████| 19/19 [00:00<00:00, 284.03it/s, loss=6.44]\n"
          ]
        },
        {
          "output_type": "stream",
          "name": "stdout",
          "text": [
            "Epoch [112/300] Loss: 11.346122214668675\n",
            "Best model saved at epoch 112\n"
          ]
        },
        {
          "output_type": "stream",
          "name": "stderr",
          "text": [
            "Training: 100%|██████████| 19/19 [00:00<00:00, 266.63it/s, loss=8.19]\n"
          ]
        },
        {
          "output_type": "stream",
          "name": "stdout",
          "text": [
            "Epoch [113/300] Loss: 11.35634560334055\n"
          ]
        },
        {
          "output_type": "stream",
          "name": "stderr",
          "text": [
            "Training: 100%|██████████| 19/19 [00:00<00:00, 297.63it/s, loss=14.6]\n"
          ]
        },
        {
          "output_type": "stream",
          "name": "stdout",
          "text": [
            "Epoch [114/300] Loss: 11.45885934327778\n"
          ]
        },
        {
          "output_type": "stream",
          "name": "stderr",
          "text": [
            "Training: 100%|██████████| 19/19 [00:00<00:00, 284.69it/s, loss=19.5]\n"
          ]
        },
        {
          "output_type": "stream",
          "name": "stdout",
          "text": [
            "Epoch [115/300] Loss: 11.515233039855957\n"
          ]
        },
        {
          "output_type": "stream",
          "name": "stderr",
          "text": [
            "Training: 100%|██████████| 19/19 [00:00<00:00, 314.09it/s, loss=6.62]\n"
          ]
        },
        {
          "output_type": "stream",
          "name": "stdout",
          "text": [
            "Epoch [116/300] Loss: 11.2204724362022\n",
            "Best model saved at epoch 116\n"
          ]
        },
        {
          "output_type": "stream",
          "name": "stderr",
          "text": [
            "Training: 100%|██████████| 19/19 [00:00<00:00, 297.32it/s, loss=20.4]\n"
          ]
        },
        {
          "output_type": "stream",
          "name": "stdout",
          "text": [
            "Epoch [117/300] Loss: 11.517502182408384\n"
          ]
        },
        {
          "output_type": "stream",
          "name": "stderr",
          "text": [
            "Training: 100%|██████████| 19/19 [00:00<00:00, 310.57it/s, loss=7.56]\n"
          ]
        },
        {
          "output_type": "stream",
          "name": "stdout",
          "text": [
            "Epoch [118/300] Loss: 11.185453264336838\n",
            "Best model saved at epoch 118\n"
          ]
        },
        {
          "output_type": "stream",
          "name": "stderr",
          "text": [
            "Training: 100%|██████████| 19/19 [00:00<00:00, 284.48it/s, loss=7.48]\n"
          ]
        },
        {
          "output_type": "stream",
          "name": "stdout",
          "text": [
            "Epoch [119/300] Loss: 11.152706572884007\n",
            "Best model saved at epoch 119\n"
          ]
        },
        {
          "output_type": "stream",
          "name": "stderr",
          "text": [
            "Training: 100%|██████████| 19/19 [00:00<00:00, 290.73it/s, loss=7.67]\n"
          ]
        },
        {
          "output_type": "stream",
          "name": "stdout",
          "text": [
            "Epoch [120/300] Loss: 11.161949760035464\n"
          ]
        },
        {
          "output_type": "stream",
          "name": "stderr",
          "text": [
            "Training: 100%|██████████| 19/19 [00:00<00:00, 306.65it/s, loss=5.48]\n"
          ]
        },
        {
          "output_type": "stream",
          "name": "stdout",
          "text": [
            "Epoch [121/300] Loss: 11.061515105398078\n",
            "Best model saved at epoch 121\n"
          ]
        },
        {
          "output_type": "stream",
          "name": "stderr",
          "text": [
            "Training: 100%|██████████| 19/19 [00:00<00:00, 300.23it/s, loss=10.5]\n"
          ]
        },
        {
          "output_type": "stream",
          "name": "stdout",
          "text": [
            "Epoch [122/300] Loss: 11.16665980690404\n"
          ]
        },
        {
          "output_type": "stream",
          "name": "stderr",
          "text": [
            "Training: 100%|██████████| 19/19 [00:00<00:00, 288.36it/s, loss=11.4]\n"
          ]
        },
        {
          "output_type": "stream",
          "name": "stdout",
          "text": [
            "Epoch [123/300] Loss: 11.122918128967285\n"
          ]
        },
        {
          "output_type": "stream",
          "name": "stderr",
          "text": [
            "Training: 100%|██████████| 19/19 [00:00<00:00, 290.49it/s, loss=9.96]\n"
          ]
        },
        {
          "output_type": "stream",
          "name": "stdout",
          "text": [
            "Epoch [124/300] Loss: 11.089085578918457\n"
          ]
        },
        {
          "output_type": "stream",
          "name": "stderr",
          "text": [
            "Training: 100%|██████████| 19/19 [00:00<00:00, 292.44it/s, loss=5]\n"
          ]
        },
        {
          "output_type": "stream",
          "name": "stdout",
          "text": [
            "Epoch [125/300] Loss: 10.970286996741043\n",
            "Best model saved at epoch 125\n"
          ]
        },
        {
          "output_type": "stream",
          "name": "stderr",
          "text": [
            "Training: 100%|██████████| 19/19 [00:00<00:00, 289.62it/s, loss=7.82]\n"
          ]
        },
        {
          "output_type": "stream",
          "name": "stdout",
          "text": [
            "Epoch [126/300] Loss: 11.00196123123169\n"
          ]
        },
        {
          "output_type": "stream",
          "name": "stderr",
          "text": [
            "Training: 100%|██████████| 19/19 [00:00<00:00, 289.09it/s, loss=4.55]\n"
          ]
        },
        {
          "output_type": "stream",
          "name": "stdout",
          "text": [
            "Epoch [127/300] Loss: 10.91454345301578\n",
            "Best model saved at epoch 127\n"
          ]
        },
        {
          "output_type": "stream",
          "name": "stderr",
          "text": [
            "Training: 100%|██████████| 19/19 [00:00<00:00, 298.37it/s, loss=13]\n"
          ]
        },
        {
          "output_type": "stream",
          "name": "stdout",
          "text": [
            "Epoch [128/300] Loss: 11.084686580457186\n"
          ]
        },
        {
          "output_type": "stream",
          "name": "stderr",
          "text": [
            "Training: 100%|██████████| 19/19 [00:00<00:00, 295.41it/s, loss=7.61]\n"
          ]
        },
        {
          "output_type": "stream",
          "name": "stdout",
          "text": [
            "Epoch [129/300] Loss: 10.926339500828794\n"
          ]
        },
        {
          "output_type": "stream",
          "name": "stderr",
          "text": [
            "Training: 100%|██████████| 19/19 [00:00<00:00, 297.85it/s, loss=17.1]\n"
          ]
        },
        {
          "output_type": "stream",
          "name": "stdout",
          "text": [
            "Epoch [130/300] Loss: 11.130653883281507\n"
          ]
        },
        {
          "output_type": "stream",
          "name": "stderr",
          "text": [
            "Training: 100%|██████████| 19/19 [00:00<00:00, 298.45it/s, loss=14]\n"
          ]
        },
        {
          "output_type": "stream",
          "name": "stdout",
          "text": [
            "Epoch [131/300] Loss: 11.032345696499473\n"
          ]
        },
        {
          "output_type": "stream",
          "name": "stderr",
          "text": [
            "Training: 100%|██████████| 19/19 [00:00<00:00, 285.78it/s, loss=15.2]\n"
          ]
        },
        {
          "output_type": "stream",
          "name": "stdout",
          "text": [
            "Epoch [132/300] Loss: 11.04310040724905\n"
          ]
        },
        {
          "output_type": "stream",
          "name": "stderr",
          "text": [
            "Training: 100%|██████████| 19/19 [00:00<00:00, 284.29it/s, loss=6.57]\n"
          ]
        },
        {
          "output_type": "stream",
          "name": "stdout",
          "text": [
            "Epoch [133/300] Loss: 10.829145933452406\n",
            "Best model saved at epoch 133\n"
          ]
        },
        {
          "output_type": "stream",
          "name": "stderr",
          "text": [
            "Training: 100%|██████████| 19/19 [00:00<00:00, 289.55it/s, loss=10.2]\n"
          ]
        },
        {
          "output_type": "stream",
          "name": "stdout",
          "text": [
            "Epoch [134/300] Loss: 10.915198175530685\n"
          ]
        },
        {
          "output_type": "stream",
          "name": "stderr",
          "text": [
            "Training: 100%|██████████| 19/19 [00:00<00:00, 282.21it/s, loss=16.4]\n"
          ]
        },
        {
          "output_type": "stream",
          "name": "stdout",
          "text": [
            "Epoch [135/300] Loss: 11.012752758829217\n"
          ]
        },
        {
          "output_type": "stream",
          "name": "stderr",
          "text": [
            "Training: 100%|██████████| 19/19 [00:00<00:00, 290.59it/s, loss=15.9]\n"
          ]
        },
        {
          "output_type": "stream",
          "name": "stdout",
          "text": [
            "Epoch [136/300] Loss: 10.99282673785561\n"
          ]
        },
        {
          "output_type": "stream",
          "name": "stderr",
          "text": [
            "Training: 100%|██████████| 19/19 [00:00<00:00, 301.04it/s, loss=6.21]\n"
          ]
        },
        {
          "output_type": "stream",
          "name": "stdout",
          "text": [
            "Epoch [137/300] Loss: 10.771305711645828\n",
            "Best model saved at epoch 137\n"
          ]
        },
        {
          "output_type": "stream",
          "name": "stderr",
          "text": [
            "Training: 100%|██████████| 19/19 [00:00<00:00, 276.22it/s, loss=14.1]\n"
          ]
        },
        {
          "output_type": "stream",
          "name": "stdout",
          "text": [
            "Epoch [138/300] Loss: 10.92721186186138\n"
          ]
        },
        {
          "output_type": "stream",
          "name": "stderr",
          "text": [
            "Training: 100%|██████████| 19/19 [00:00<00:00, 295.48it/s, loss=5.06]\n"
          ]
        },
        {
          "output_type": "stream",
          "name": "stdout",
          "text": [
            "Epoch [139/300] Loss: 10.730102388482345\n",
            "Best model saved at epoch 139\n"
          ]
        },
        {
          "output_type": "stream",
          "name": "stderr",
          "text": [
            "Training: 100%|██████████| 19/19 [00:00<00:00, 293.82it/s, loss=11.1]\n"
          ]
        },
        {
          "output_type": "stream",
          "name": "stdout",
          "text": [
            "Epoch [140/300] Loss: 10.838399811794883\n"
          ]
        },
        {
          "output_type": "stream",
          "name": "stderr",
          "text": [
            "Training: 100%|██████████| 19/19 [00:00<00:00, 281.73it/s, loss=5.28]\n"
          ]
        },
        {
          "output_type": "stream",
          "name": "stdout",
          "text": [
            "Epoch [141/300] Loss: 10.705592029973081\n",
            "Best model saved at epoch 141\n"
          ]
        },
        {
          "output_type": "stream",
          "name": "stderr",
          "text": [
            "Training: 100%|██████████| 19/19 [00:00<00:00, 295.10it/s, loss=7.63]\n"
          ]
        },
        {
          "output_type": "stream",
          "name": "stdout",
          "text": [
            "Epoch [142/300] Loss: 10.742872137772409\n"
          ]
        },
        {
          "output_type": "stream",
          "name": "stderr",
          "text": [
            "Training: 100%|██████████| 19/19 [00:00<00:00, 290.39it/s, loss=20.3]\n"
          ]
        },
        {
          "output_type": "stream",
          "name": "stdout",
          "text": [
            "Epoch [143/300] Loss: 10.99838864175897\n"
          ]
        },
        {
          "output_type": "stream",
          "name": "stderr",
          "text": [
            "Training: 100%|██████████| 19/19 [00:00<00:00, 294.13it/s, loss=16.8]\n"
          ]
        },
        {
          "output_type": "stream",
          "name": "stdout",
          "text": [
            "Epoch [144/300] Loss: 10.904145592137388\n"
          ]
        },
        {
          "output_type": "stream",
          "name": "stderr",
          "text": [
            "Training: 100%|██████████| 19/19 [00:00<00:00, 283.99it/s, loss=13.4]\n"
          ]
        },
        {
          "output_type": "stream",
          "name": "stdout",
          "text": [
            "Epoch [145/300] Loss: 10.821594740215101\n"
          ]
        },
        {
          "output_type": "stream",
          "name": "stderr",
          "text": [
            "Training: 100%|██████████| 19/19 [00:00<00:00, 290.13it/s, loss=4.65]\n"
          ]
        },
        {
          "output_type": "stream",
          "name": "stdout",
          "text": [
            "Epoch [146/300] Loss: 10.62670652489913\n",
            "Best model saved at epoch 146\n"
          ]
        },
        {
          "output_type": "stream",
          "name": "stderr",
          "text": [
            "Training: 100%|██████████| 19/19 [00:00<00:00, 305.44it/s, loss=10.5]\n"
          ]
        },
        {
          "output_type": "stream",
          "name": "stdout",
          "text": [
            "Epoch [147/300] Loss: 10.727592167101408\n"
          ]
        },
        {
          "output_type": "stream",
          "name": "stderr",
          "text": [
            "Training: 100%|██████████| 19/19 [00:00<00:00, 282.53it/s, loss=8.46]\n"
          ]
        },
        {
          "output_type": "stream",
          "name": "stdout",
          "text": [
            "Epoch [148/300] Loss: 10.683481994428133\n"
          ]
        },
        {
          "output_type": "stream",
          "name": "stderr",
          "text": [
            "Training: 100%|██████████| 19/19 [00:00<00:00, 292.74it/s, loss=6.49]\n"
          ]
        },
        {
          "output_type": "stream",
          "name": "stdout",
          "text": [
            "Epoch [149/300] Loss: 10.626713275909424\n"
          ]
        },
        {
          "output_type": "stream",
          "name": "stderr",
          "text": [
            "Training: 100%|██████████| 19/19 [00:00<00:00, 276.89it/s, loss=14.1]\n"
          ]
        },
        {
          "output_type": "stream",
          "name": "stdout",
          "text": [
            "Epoch [150/300] Loss: 10.768197009437962\n"
          ]
        },
        {
          "output_type": "stream",
          "name": "stderr",
          "text": [
            "Training: 100%|██████████| 19/19 [00:00<00:00, 283.41it/s, loss=17.4]\n"
          ]
        },
        {
          "output_type": "stream",
          "name": "stdout",
          "text": [
            "Epoch [151/300] Loss: 10.833203140058016\n"
          ]
        },
        {
          "output_type": "stream",
          "name": "stderr",
          "text": [
            "Training: 100%|██████████| 19/19 [00:00<00:00, 300.97it/s, loss=14.9]\n"
          ]
        },
        {
          "output_type": "stream",
          "name": "stdout",
          "text": [
            "Epoch [152/300] Loss: 10.759460298638595\n"
          ]
        },
        {
          "output_type": "stream",
          "name": "stderr",
          "text": [
            "Training: 100%|██████████| 19/19 [00:00<00:00, 278.14it/s, loss=4.86]\n"
          ]
        },
        {
          "output_type": "stream",
          "name": "stdout",
          "text": [
            "Epoch [153/300] Loss: 10.54354486967388\n",
            "Best model saved at epoch 153\n"
          ]
        },
        {
          "output_type": "stream",
          "name": "stderr",
          "text": [
            "Training: 100%|██████████| 19/19 [00:00<00:00, 285.42it/s, loss=35.1]\n"
          ]
        },
        {
          "output_type": "stream",
          "name": "stdout",
          "text": [
            "Epoch [154/300] Loss: 11.195950708891216\n"
          ]
        },
        {
          "output_type": "stream",
          "name": "stderr",
          "text": [
            "Training: 100%|██████████| 19/19 [00:00<00:00, 287.77it/s, loss=23.9]\n"
          ]
        },
        {
          "output_type": "stream",
          "name": "stdout",
          "text": [
            "Epoch [155/300] Loss: 10.941943419607062\n"
          ]
        },
        {
          "output_type": "stream",
          "name": "stderr",
          "text": [
            "Training: 100%|██████████| 19/19 [00:00<00:00, 294.98it/s, loss=15.7]\n"
          ]
        },
        {
          "output_type": "stream",
          "name": "stdout",
          "text": [
            "Epoch [156/300] Loss: 10.749091073086387\n"
          ]
        },
        {
          "output_type": "stream",
          "name": "stderr",
          "text": [
            "Training: 100%|██████████| 19/19 [00:00<00:00, 279.28it/s, loss=4.53]\n"
          ]
        },
        {
          "output_type": "stream",
          "name": "stdout",
          "text": [
            "Epoch [157/300] Loss: 10.513927861263877\n",
            "Best model saved at epoch 157\n"
          ]
        },
        {
          "output_type": "stream",
          "name": "stderr",
          "text": [
            "Training: 100%|██████████| 19/19 [00:00<00:00, 291.38it/s, loss=6.45]\n"
          ]
        },
        {
          "output_type": "stream",
          "name": "stdout",
          "text": [
            "Epoch [158/300] Loss: 10.545409604122764\n"
          ]
        },
        {
          "output_type": "stream",
          "name": "stderr",
          "text": [
            "Training: 100%|██████████| 19/19 [00:00<00:00, 294.27it/s, loss=12.6]\n"
          ]
        },
        {
          "output_type": "stream",
          "name": "stdout",
          "text": [
            "Epoch [159/300] Loss: 10.652555817051939\n"
          ]
        },
        {
          "output_type": "stream",
          "name": "stderr",
          "text": [
            "Training: 100%|██████████| 19/19 [00:00<00:00, 300.43it/s, loss=8.67]\n"
          ]
        },
        {
          "output_type": "stream",
          "name": "stdout",
          "text": [
            "Epoch [160/300] Loss: 10.565937995910645\n"
          ]
        },
        {
          "output_type": "stream",
          "name": "stderr",
          "text": [
            "Training: 100%|██████████| 19/19 [00:00<00:00, 311.68it/s, loss=18.3]\n"
          ]
        },
        {
          "output_type": "stream",
          "name": "stdout",
          "text": [
            "Epoch [161/300] Loss: 10.767792751914577\n"
          ]
        },
        {
          "output_type": "stream",
          "name": "stderr",
          "text": [
            "Training: 100%|██████████| 19/19 [00:00<00:00, 278.35it/s, loss=9.99]\n"
          ]
        },
        {
          "output_type": "stream",
          "name": "stdout",
          "text": [
            "Epoch [162/300] Loss: 10.588011842024954\n"
          ]
        },
        {
          "output_type": "stream",
          "name": "stderr",
          "text": [
            "Training: 100%|██████████| 19/19 [00:00<00:00, 268.15it/s, loss=18.9]\n"
          ]
        },
        {
          "output_type": "stream",
          "name": "stdout",
          "text": [
            "Epoch [163/300] Loss: 10.767608115547581\n"
          ]
        },
        {
          "output_type": "stream",
          "name": "stderr",
          "text": [
            "Training: 100%|██████████| 19/19 [00:00<00:00, 284.73it/s, loss=14.8]\n"
          ]
        },
        {
          "output_type": "stream",
          "name": "stdout",
          "text": [
            "Epoch [164/300] Loss: 10.668439338081761\n"
          ]
        },
        {
          "output_type": "stream",
          "name": "stderr",
          "text": [
            "Training: 100%|██████████| 19/19 [00:00<00:00, 302.57it/s, loss=11.3]\n"
          ]
        },
        {
          "output_type": "stream",
          "name": "stdout",
          "text": [
            "Epoch [165/300] Loss: 10.59271468614277\n"
          ]
        },
        {
          "output_type": "stream",
          "name": "stderr",
          "text": [
            "Training: 100%|██████████| 19/19 [00:00<00:00, 294.25it/s, loss=7.86]\n"
          ]
        },
        {
          "output_type": "stream",
          "name": "stdout",
          "text": [
            "Epoch [166/300] Loss: 10.510764699233206\n",
            "Best model saved at epoch 166\n"
          ]
        },
        {
          "output_type": "stream",
          "name": "stderr",
          "text": [
            "Training: 100%|██████████| 19/19 [00:00<00:00, 285.28it/s, loss=12.2]\n"
          ]
        },
        {
          "output_type": "stream",
          "name": "stdout",
          "text": [
            "Epoch [167/300] Loss: 10.583305835723877\n"
          ]
        },
        {
          "output_type": "stream",
          "name": "stderr",
          "text": [
            "Training: 100%|██████████| 19/19 [00:00<00:00, 308.16it/s, loss=12.3]\n"
          ]
        },
        {
          "output_type": "stream",
          "name": "stdout",
          "text": [
            "Epoch [168/300] Loss: 10.583456491169176\n"
          ]
        },
        {
          "output_type": "stream",
          "name": "stderr",
          "text": [
            "Training: 100%|██████████| 19/19 [00:00<00:00, 273.61it/s, loss=7.76]\n"
          ]
        },
        {
          "output_type": "stream",
          "name": "stdout",
          "text": [
            "Epoch [169/300] Loss: 10.484707631562886\n",
            "Best model saved at epoch 169\n"
          ]
        },
        {
          "output_type": "stream",
          "name": "stderr",
          "text": [
            "Training: 100%|██████████| 19/19 [00:00<00:00, 290.48it/s, loss=7.13]\n"
          ]
        },
        {
          "output_type": "stream",
          "name": "stdout",
          "text": [
            "Epoch [170/300] Loss: 10.468954437657407\n",
            "Best model saved at epoch 170\n"
          ]
        },
        {
          "output_type": "stream",
          "name": "stderr",
          "text": [
            "Training: 100%|██████████| 19/19 [00:00<00:00, 296.64it/s, loss=7.77]\n"
          ]
        },
        {
          "output_type": "stream",
          "name": "stdout",
          "text": [
            "Epoch [171/300] Loss: 10.476303351552863\n"
          ]
        },
        {
          "output_type": "stream",
          "name": "stderr",
          "text": [
            "Training: 100%|██████████| 19/19 [00:00<00:00, 288.44it/s, loss=18.7]\n"
          ]
        },
        {
          "output_type": "stream",
          "name": "stdout",
          "text": [
            "Epoch [172/300] Loss: 10.720331919820685\n"
          ]
        },
        {
          "output_type": "stream",
          "name": "stderr",
          "text": [
            "Training: 100%|██████████| 19/19 [00:00<00:00, 295.89it/s, loss=8.93]\n"
          ]
        },
        {
          "output_type": "stream",
          "name": "stdout",
          "text": [
            "Epoch [173/300] Loss: 10.497637949491802\n"
          ]
        },
        {
          "output_type": "stream",
          "name": "stderr",
          "text": [
            "Training: 100%|██████████| 19/19 [00:00<00:00, 280.54it/s, loss=5.99]\n"
          ]
        },
        {
          "output_type": "stream",
          "name": "stdout",
          "text": [
            "Epoch [174/300] Loss: 10.426529934531764\n",
            "Best model saved at epoch 174\n"
          ]
        },
        {
          "output_type": "stream",
          "name": "stderr",
          "text": [
            "Training: 100%|██████████| 19/19 [00:00<00:00, 272.58it/s, loss=8.36]\n"
          ]
        },
        {
          "output_type": "stream",
          "name": "stdout",
          "text": [
            "Epoch [175/300] Loss: 10.475812234376606\n"
          ]
        },
        {
          "output_type": "stream",
          "name": "stderr",
          "text": [
            "Training: 100%|██████████| 19/19 [00:00<00:00, 267.01it/s, loss=11.2]\n"
          ]
        },
        {
          "output_type": "stream",
          "name": "stdout",
          "text": [
            "Epoch [176/300] Loss: 10.534464660443758\n"
          ]
        },
        {
          "output_type": "stream",
          "name": "stderr",
          "text": [
            "Training: 100%|██████████| 19/19 [00:00<00:00, 290.29it/s, loss=8.82]\n"
          ]
        },
        {
          "output_type": "stream",
          "name": "stdout",
          "text": [
            "Epoch [177/300] Loss: 10.469820022583008\n"
          ]
        },
        {
          "output_type": "stream",
          "name": "stderr",
          "text": [
            "Training: 100%|██████████| 19/19 [00:00<00:00, 290.02it/s, loss=11]\n"
          ]
        },
        {
          "output_type": "stream",
          "name": "stdout",
          "text": [
            "Epoch [178/300] Loss: 10.524668442575555\n"
          ]
        },
        {
          "output_type": "stream",
          "name": "stderr",
          "text": [
            "Training: 100%|██████████| 19/19 [00:00<00:00, 311.56it/s, loss=5.39]\n"
          ]
        },
        {
          "output_type": "stream",
          "name": "stdout",
          "text": [
            "Epoch [179/300] Loss: 10.382661267330771\n",
            "Best model saved at epoch 179\n"
          ]
        },
        {
          "output_type": "stream",
          "name": "stderr",
          "text": [
            "Training: 100%|██████████| 19/19 [00:00<00:00, 290.94it/s, loss=4.74]\n"
          ]
        },
        {
          "output_type": "stream",
          "name": "stdout",
          "text": [
            "Epoch [180/300] Loss: 10.365275232415451\n",
            "Best model saved at epoch 180\n"
          ]
        },
        {
          "output_type": "stream",
          "name": "stderr",
          "text": [
            "Training: 100%|██████████| 19/19 [00:00<00:00, 297.93it/s, loss=19.8]\n"
          ]
        },
        {
          "output_type": "stream",
          "name": "stdout",
          "text": [
            "Epoch [181/300] Loss: 10.680971572273656\n"
          ]
        },
        {
          "output_type": "stream",
          "name": "stderr",
          "text": [
            "Training: 100%|██████████| 19/19 [00:00<00:00, 283.01it/s, loss=7.02]\n"
          ]
        },
        {
          "output_type": "stream",
          "name": "stdout",
          "text": [
            "Epoch [182/300] Loss: 10.409299900657253\n"
          ]
        },
        {
          "output_type": "stream",
          "name": "stderr",
          "text": [
            "Training: 100%|██████████| 19/19 [00:00<00:00, 282.70it/s, loss=3.83]\n"
          ]
        },
        {
          "output_type": "stream",
          "name": "stdout",
          "text": [
            "Epoch [183/300] Loss: 10.342773362209922\n",
            "Best model saved at epoch 183\n"
          ]
        },
        {
          "output_type": "stream",
          "name": "stderr",
          "text": [
            "Training: 100%|██████████| 19/19 [00:00<00:00, 296.54it/s, loss=11.8]\n"
          ]
        },
        {
          "output_type": "stream",
          "name": "stdout",
          "text": [
            "Epoch [184/300] Loss: 10.488670148347554\n"
          ]
        },
        {
          "output_type": "stream",
          "name": "stderr",
          "text": [
            "Training: 100%|██████████| 19/19 [00:00<00:00, 283.04it/s, loss=19]\n"
          ]
        },
        {
          "output_type": "stream",
          "name": "stdout",
          "text": [
            "Epoch [185/300] Loss: 10.659011514563309\n"
          ]
        },
        {
          "output_type": "stream",
          "name": "stderr",
          "text": [
            "Training: 100%|██████████| 19/19 [00:00<00:00, 302.22it/s, loss=17.9]\n"
          ]
        },
        {
          "output_type": "stream",
          "name": "stdout",
          "text": [
            "Epoch [186/300] Loss: 10.625277694902922\n"
          ]
        },
        {
          "output_type": "stream",
          "name": "stderr",
          "text": [
            "Training: 100%|██████████| 19/19 [00:00<00:00, 285.51it/s, loss=4.35]\n"
          ]
        },
        {
          "output_type": "stream",
          "name": "stdout",
          "text": [
            "Epoch [187/300] Loss: 10.337351648431076\n",
            "Best model saved at epoch 187\n"
          ]
        },
        {
          "output_type": "stream",
          "name": "stderr",
          "text": [
            "Training: 100%|██████████| 19/19 [00:00<00:00, 288.54it/s, loss=6.8]\n"
          ]
        },
        {
          "output_type": "stream",
          "name": "stdout",
          "text": [
            "Epoch [188/300] Loss: 10.377563100112113\n"
          ]
        },
        {
          "output_type": "stream",
          "name": "stderr",
          "text": [
            "Training: 100%|██████████| 19/19 [00:00<00:00, 295.25it/s, loss=4.77]\n"
          ]
        },
        {
          "output_type": "stream",
          "name": "stdout",
          "text": [
            "Epoch [189/300] Loss: 10.32452016127737\n",
            "Best model saved at epoch 189\n"
          ]
        },
        {
          "output_type": "stream",
          "name": "stderr",
          "text": [
            "Training: 100%|██████████| 19/19 [00:00<00:00, 275.77it/s, loss=13.4]\n"
          ]
        },
        {
          "output_type": "stream",
          "name": "stdout",
          "text": [
            "Epoch [190/300] Loss: 10.514057862131219\n"
          ]
        },
        {
          "output_type": "stream",
          "name": "stderr",
          "text": [
            "Training: 100%|██████████| 19/19 [00:00<00:00, 267.49it/s, loss=16.3]\n"
          ]
        },
        {
          "output_type": "stream",
          "name": "stdout",
          "text": [
            "Epoch [191/300] Loss: 10.571907670874344\n"
          ]
        },
        {
          "output_type": "stream",
          "name": "stderr",
          "text": [
            "Training: 100%|██████████| 19/19 [00:00<00:00, 293.03it/s, loss=4.82]\n"
          ]
        },
        {
          "output_type": "stream",
          "name": "stdout",
          "text": [
            "Epoch [192/300] Loss: 10.31916103864971\n",
            "Best model saved at epoch 192\n"
          ]
        },
        {
          "output_type": "stream",
          "name": "stderr",
          "text": [
            "Training: 100%|██████████| 19/19 [00:00<00:00, 307.70it/s, loss=12.4]\n"
          ]
        },
        {
          "output_type": "stream",
          "name": "stdout",
          "text": [
            "Epoch [193/300] Loss: 10.487612197273656\n"
          ]
        },
        {
          "output_type": "stream",
          "name": "stderr",
          "text": [
            "Training: 100%|██████████| 19/19 [00:00<00:00, 298.98it/s, loss=8.23]\n"
          ]
        },
        {
          "output_type": "stream",
          "name": "stdout",
          "text": [
            "Epoch [194/300] Loss: 10.39944056460732\n"
          ]
        },
        {
          "output_type": "stream",
          "name": "stderr",
          "text": [
            "Training: 100%|██████████| 19/19 [00:00<00:00, 250.73it/s, loss=11.7]\n"
          ]
        },
        {
          "output_type": "stream",
          "name": "stdout",
          "text": [
            "Epoch [195/300] Loss: 10.456961757258364\n"
          ]
        },
        {
          "output_type": "stream",
          "name": "stderr",
          "text": [
            "Training: 100%|██████████| 19/19 [00:00<00:00, 250.11it/s, loss=22.5]\n"
          ]
        },
        {
          "output_type": "stream",
          "name": "stdout",
          "text": [
            "Epoch [196/300] Loss: 10.695324345638877\n"
          ]
        },
        {
          "output_type": "stream",
          "name": "stderr",
          "text": [
            "Training: 100%|██████████| 19/19 [00:00<00:00, 255.12it/s, loss=7.57]\n"
          ]
        },
        {
          "output_type": "stream",
          "name": "stdout",
          "text": [
            "Epoch [197/300] Loss: 10.363989604146857\n"
          ]
        },
        {
          "output_type": "stream",
          "name": "stderr",
          "text": [
            "Training: 100%|██████████| 19/19 [00:00<00:00, 268.26it/s, loss=5.15]\n"
          ]
        },
        {
          "output_type": "stream",
          "name": "stdout",
          "text": [
            "Epoch [198/300] Loss: 10.320912787788792\n"
          ]
        },
        {
          "output_type": "stream",
          "name": "stderr",
          "text": [
            "Training: 100%|██████████| 19/19 [00:00<00:00, 262.44it/s, loss=14.4]\n"
          ]
        },
        {
          "output_type": "stream",
          "name": "stdout",
          "text": [
            "Epoch [199/300] Loss: 10.50680943539268\n"
          ]
        },
        {
          "output_type": "stream",
          "name": "stderr",
          "text": [
            "Training: 100%|██████████| 19/19 [00:00<00:00, 271.74it/s, loss=4.37]\n"
          ]
        },
        {
          "output_type": "stream",
          "name": "stdout",
          "text": [
            "Epoch [200/300] Loss: 10.287825182864541\n",
            "Best model saved at epoch 200\n"
          ]
        },
        {
          "output_type": "stream",
          "name": "stderr",
          "text": [
            "Training: 100%|██████████| 19/19 [00:00<00:00, 287.31it/s, loss=12.7]\n"
          ]
        },
        {
          "output_type": "stream",
          "name": "stdout",
          "text": [
            "Epoch [201/300] Loss: 10.467015266418457\n"
          ]
        },
        {
          "output_type": "stream",
          "name": "stderr",
          "text": [
            "Training: 100%|██████████| 19/19 [00:00<00:00, 261.72it/s, loss=20.9]\n"
          ]
        },
        {
          "output_type": "stream",
          "name": "stdout",
          "text": [
            "Epoch [202/300] Loss: 10.643368470041375\n"
          ]
        },
        {
          "output_type": "stream",
          "name": "stderr",
          "text": [
            "Training: 100%|██████████| 19/19 [00:00<00:00, 263.43it/s, loss=9.98]\n"
          ]
        },
        {
          "output_type": "stream",
          "name": "stdout",
          "text": [
            "Epoch [203/300] Loss: 10.3949808572468\n"
          ]
        },
        {
          "output_type": "stream",
          "name": "stderr",
          "text": [
            "Training: 100%|██████████| 19/19 [00:00<00:00, 259.31it/s, loss=19.2]\n"
          ]
        },
        {
          "output_type": "stream",
          "name": "stdout",
          "text": [
            "Epoch [204/300] Loss: 10.59766791996203\n"
          ]
        },
        {
          "output_type": "stream",
          "name": "stderr",
          "text": [
            "Training: 100%|██████████| 19/19 [00:00<00:00, 284.49it/s, loss=9.86]\n"
          ]
        },
        {
          "output_type": "stream",
          "name": "stdout",
          "text": [
            "Epoch [205/300] Loss: 10.401737639778538\n"
          ]
        },
        {
          "output_type": "stream",
          "name": "stderr",
          "text": [
            "Training: 100%|██████████| 19/19 [00:00<00:00, 277.73it/s, loss=10.6]\n"
          ]
        },
        {
          "output_type": "stream",
          "name": "stdout",
          "text": [
            "Epoch [206/300] Loss: 10.408238310562936\n"
          ]
        },
        {
          "output_type": "stream",
          "name": "stderr",
          "text": [
            "Training: 100%|██████████| 19/19 [00:00<00:00, 257.70it/s, loss=10.2]\n"
          ]
        },
        {
          "output_type": "stream",
          "name": "stdout",
          "text": [
            "Epoch [207/300] Loss: 10.396301093854403\n"
          ]
        },
        {
          "output_type": "stream",
          "name": "stderr",
          "text": [
            "Training: 100%|██████████| 19/19 [00:00<00:00, 266.40it/s, loss=4.94]\n"
          ]
        },
        {
          "output_type": "stream",
          "name": "stdout",
          "text": [
            "Epoch [208/300] Loss: 10.284111876236764\n",
            "Best model saved at epoch 208\n"
          ]
        },
        {
          "output_type": "stream",
          "name": "stderr",
          "text": [
            "Training: 100%|██████████| 19/19 [00:00<00:00, 260.94it/s, loss=16.7]\n"
          ]
        },
        {
          "output_type": "stream",
          "name": "stdout",
          "text": [
            "Epoch [209/300] Loss: 10.535609270396986\n"
          ]
        },
        {
          "output_type": "stream",
          "name": "stderr",
          "text": [
            "Training: 100%|██████████| 19/19 [00:00<00:00, 277.43it/s, loss=13.4]\n"
          ]
        },
        {
          "output_type": "stream",
          "name": "stdout",
          "text": [
            "Epoch [210/300] Loss: 10.454133761556525\n"
          ]
        },
        {
          "output_type": "stream",
          "name": "stderr",
          "text": [
            "Training: 100%|██████████| 19/19 [00:00<00:00, 266.41it/s, loss=15.5]\n"
          ]
        },
        {
          "output_type": "stream",
          "name": "stdout",
          "text": [
            "Epoch [211/300] Loss: 10.499414594549881\n"
          ]
        },
        {
          "output_type": "stream",
          "name": "stderr",
          "text": [
            "Training: 100%|██████████| 19/19 [00:00<00:00, 257.84it/s, loss=7.27]\n"
          ]
        },
        {
          "output_type": "stream",
          "name": "stdout",
          "text": [
            "Epoch [212/300] Loss: 10.327836438229209\n"
          ]
        },
        {
          "output_type": "stream",
          "name": "stderr",
          "text": [
            "Training: 100%|██████████| 19/19 [00:00<00:00, 292.83it/s, loss=5.74]\n"
          ]
        },
        {
          "output_type": "stream",
          "name": "stdout",
          "text": [
            "Epoch [213/300] Loss: 10.293593758030942\n"
          ]
        },
        {
          "output_type": "stream",
          "name": "stderr",
          "text": [
            "Training: 100%|██████████| 19/19 [00:00<00:00, 275.03it/s, loss=11.6]\n"
          ]
        },
        {
          "output_type": "stream",
          "name": "stdout",
          "text": [
            "Epoch [214/300] Loss: 10.42263620778134\n"
          ]
        },
        {
          "output_type": "stream",
          "name": "stderr",
          "text": [
            "Training: 100%|██████████| 19/19 [00:00<00:00, 272.32it/s, loss=10.2]\n"
          ]
        },
        {
          "output_type": "stream",
          "name": "stdout",
          "text": [
            "Epoch [215/300] Loss: 10.383882196326004\n"
          ]
        },
        {
          "output_type": "stream",
          "name": "stderr",
          "text": [
            "Training: 100%|██████████| 19/19 [00:00<00:00, 257.27it/s, loss=6.08]\n"
          ]
        },
        {
          "output_type": "stream",
          "name": "stdout",
          "text": [
            "Epoch [216/300] Loss: 10.295756063963237\n"
          ]
        },
        {
          "output_type": "stream",
          "name": "stderr",
          "text": [
            "Training: 100%|██████████| 19/19 [00:00<00:00, 264.46it/s, loss=9.04]\n"
          ]
        },
        {
          "output_type": "stream",
          "name": "stdout",
          "text": [
            "Epoch [217/300] Loss: 10.35216067966662\n"
          ]
        },
        {
          "output_type": "stream",
          "name": "stderr",
          "text": [
            "Training: 100%|██████████| 19/19 [00:00<00:00, 272.04it/s, loss=8.15]\n"
          ]
        },
        {
          "output_type": "stream",
          "name": "stdout",
          "text": [
            "Epoch [218/300] Loss: 10.332815772608706\n"
          ]
        },
        {
          "output_type": "stream",
          "name": "stderr",
          "text": [
            "Training: 100%|██████████| 19/19 [00:00<00:00, 276.90it/s, loss=9.21]\n"
          ]
        },
        {
          "output_type": "stream",
          "name": "stdout",
          "text": [
            "Epoch [219/300] Loss: 10.351329903853568\n"
          ]
        },
        {
          "output_type": "stream",
          "name": "stderr",
          "text": [
            "Training: 100%|██████████| 19/19 [00:00<00:00, 254.44it/s, loss=11.2]\n"
          ]
        },
        {
          "output_type": "stream",
          "name": "stdout",
          "text": [
            "Epoch [220/300] Loss: 10.395354220741673\n"
          ]
        },
        {
          "output_type": "stream",
          "name": "stderr",
          "text": [
            "Training: 100%|██████████| 19/19 [00:00<00:00, 295.80it/s, loss=7.94]\n"
          ]
        },
        {
          "output_type": "stream",
          "name": "stdout",
          "text": [
            "Epoch [221/300] Loss: 10.328531842482718\n"
          ]
        },
        {
          "output_type": "stream",
          "name": "stderr",
          "text": [
            "Training: 100%|██████████| 19/19 [00:00<00:00, 271.80it/s, loss=5.23]\n"
          ]
        },
        {
          "output_type": "stream",
          "name": "stdout",
          "text": [
            "Epoch [222/300] Loss: 10.265177689100566\n",
            "Best model saved at epoch 222\n"
          ]
        },
        {
          "output_type": "stream",
          "name": "stderr",
          "text": [
            "Training: 100%|██████████| 19/19 [00:00<00:00, 271.78it/s, loss=10.3]\n"
          ]
        },
        {
          "output_type": "stream",
          "name": "stdout",
          "text": [
            "Epoch [223/300] Loss: 10.374158884349622\n"
          ]
        },
        {
          "output_type": "stream",
          "name": "stderr",
          "text": [
            "Training: 100%|██████████| 19/19 [00:00<00:00, 276.10it/s, loss=8.43]\n"
          ]
        },
        {
          "output_type": "stream",
          "name": "stdout",
          "text": [
            "Epoch [224/300] Loss: 10.333440479479338\n"
          ]
        },
        {
          "output_type": "stream",
          "name": "stderr",
          "text": [
            "Training: 100%|██████████| 19/19 [00:00<00:00, 270.22it/s, loss=9.65]\n"
          ]
        },
        {
          "output_type": "stream",
          "name": "stdout",
          "text": [
            "Epoch [225/300] Loss: 10.351955790268747\n"
          ]
        },
        {
          "output_type": "stream",
          "name": "stderr",
          "text": [
            "Training: 100%|██████████| 19/19 [00:00<00:00, 265.83it/s, loss=8.71]\n"
          ]
        },
        {
          "output_type": "stream",
          "name": "stdout",
          "text": [
            "Epoch [226/300] Loss: 10.339806832765278\n"
          ]
        },
        {
          "output_type": "stream",
          "name": "stderr",
          "text": [
            "Training: 100%|██████████| 19/19 [00:00<00:00, 263.53it/s, loss=13.4]\n"
          ]
        },
        {
          "output_type": "stream",
          "name": "stdout",
          "text": [
            "Epoch [227/300] Loss: 10.432127852188913\n"
          ]
        },
        {
          "output_type": "stream",
          "name": "stderr",
          "text": [
            "Training: 100%|██████████| 19/19 [00:00<00:00, 291.33it/s, loss=9.35]\n"
          ]
        },
        {
          "output_type": "stream",
          "name": "stdout",
          "text": [
            "Epoch [228/300] Loss: 10.345608435179058\n"
          ]
        },
        {
          "output_type": "stream",
          "name": "stderr",
          "text": [
            "Training: 100%|██████████| 19/19 [00:00<00:00, 284.20it/s, loss=5.92]\n"
          ]
        },
        {
          "output_type": "stream",
          "name": "stdout",
          "text": [
            "Epoch [229/300] Loss: 10.276304219898424\n"
          ]
        },
        {
          "output_type": "stream",
          "name": "stderr",
          "text": [
            "Training: 100%|██████████| 19/19 [00:00<00:00, 283.82it/s, loss=7.8]\n"
          ]
        },
        {
          "output_type": "stream",
          "name": "stdout",
          "text": [
            "Epoch [230/300] Loss: 10.305233604029604\n"
          ]
        },
        {
          "output_type": "stream",
          "name": "stderr",
          "text": [
            "Training: 100%|██████████| 19/19 [00:00<00:00, 283.40it/s, loss=15.2]\n"
          ]
        },
        {
          "output_type": "stream",
          "name": "stdout",
          "text": [
            "Epoch [231/300] Loss: 10.465593463496157\n"
          ]
        },
        {
          "output_type": "stream",
          "name": "stderr",
          "text": [
            "Training: 100%|██████████| 19/19 [00:00<00:00, 280.34it/s, loss=19]\n"
          ]
        },
        {
          "output_type": "stream",
          "name": "stdout",
          "text": [
            "Epoch [232/300] Loss: 10.556987762451172\n"
          ]
        },
        {
          "output_type": "stream",
          "name": "stderr",
          "text": [
            "Training: 100%|██████████| 19/19 [00:00<00:00, 289.23it/s, loss=6.15]\n"
          ]
        },
        {
          "output_type": "stream",
          "name": "stdout",
          "text": [
            "Epoch [233/300] Loss: 10.272359270798532\n"
          ]
        },
        {
          "output_type": "stream",
          "name": "stderr",
          "text": [
            "Training: 100%|██████████| 19/19 [00:00<00:00, 293.36it/s, loss=8.98]\n"
          ]
        },
        {
          "output_type": "stream",
          "name": "stdout",
          "text": [
            "Epoch [234/300] Loss: 10.328356015054803\n"
          ]
        },
        {
          "output_type": "stream",
          "name": "stderr",
          "text": [
            "Training: 100%|██████████| 19/19 [00:00<00:00, 288.76it/s, loss=4.24]\n"
          ]
        },
        {
          "output_type": "stream",
          "name": "stdout",
          "text": [
            "Epoch [235/300] Loss: 10.237212933992085\n",
            "Best model saved at epoch 235\n"
          ]
        },
        {
          "output_type": "stream",
          "name": "stderr",
          "text": [
            "Training: 100%|██████████| 19/19 [00:00<00:00, 284.31it/s, loss=6.65]\n"
          ]
        },
        {
          "output_type": "stream",
          "name": "stdout",
          "text": [
            "Epoch [236/300] Loss: 10.278854872051038\n"
          ]
        },
        {
          "output_type": "stream",
          "name": "stderr",
          "text": [
            "Training: 100%|██████████| 19/19 [00:00<00:00, 271.16it/s, loss=12.6]\n"
          ]
        },
        {
          "output_type": "stream",
          "name": "stdout",
          "text": [
            "Epoch [237/300] Loss: 10.406360325060392\n"
          ]
        },
        {
          "output_type": "stream",
          "name": "stderr",
          "text": [
            "Training: 100%|██████████| 19/19 [00:00<00:00, 273.89it/s, loss=4.27]\n"
          ]
        },
        {
          "output_type": "stream",
          "name": "stdout",
          "text": [
            "Epoch [238/300] Loss: 10.226196816093044\n",
            "Best model saved at epoch 238\n"
          ]
        },
        {
          "output_type": "stream",
          "name": "stderr",
          "text": [
            "Training: 100%|██████████| 19/19 [00:00<00:00, 293.88it/s, loss=15.5]\n"
          ]
        },
        {
          "output_type": "stream",
          "name": "stdout",
          "text": [
            "Epoch [239/300] Loss: 10.46365697760331\n"
          ]
        },
        {
          "output_type": "stream",
          "name": "stderr",
          "text": [
            "Training: 100%|██████████| 19/19 [00:00<00:00, 280.19it/s, loss=7.17]\n"
          ]
        },
        {
          "output_type": "stream",
          "name": "stdout",
          "text": [
            "Epoch [240/300] Loss: 10.295182980989155\n"
          ]
        },
        {
          "output_type": "stream",
          "name": "stderr",
          "text": [
            "Training: 100%|██████████| 19/19 [00:00<00:00, 277.70it/s, loss=6.06]\n"
          ]
        },
        {
          "output_type": "stream",
          "name": "stdout",
          "text": [
            "Epoch [241/300] Loss: 10.271939905066239\n"
          ]
        },
        {
          "output_type": "stream",
          "name": "stderr",
          "text": [
            "Training: 100%|██████████| 19/19 [00:00<00:00, 293.74it/s, loss=8.18]\n"
          ]
        },
        {
          "output_type": "stream",
          "name": "stdout",
          "text": [
            "Epoch [242/300] Loss: 10.315617059406481\n"
          ]
        },
        {
          "output_type": "stream",
          "name": "stderr",
          "text": [
            "Training: 100%|██████████| 19/19 [00:00<00:00, 267.60it/s, loss=13.7]\n"
          ]
        },
        {
          "output_type": "stream",
          "name": "stdout",
          "text": [
            "Epoch [243/300] Loss: 10.422753986559416\n"
          ]
        },
        {
          "output_type": "stream",
          "name": "stderr",
          "text": [
            "Training: 100%|██████████| 19/19 [00:00<00:00, 269.88it/s, loss=8.97]\n"
          ]
        },
        {
          "output_type": "stream",
          "name": "stdout",
          "text": [
            "Epoch [244/300] Loss: 10.318031687485544\n"
          ]
        },
        {
          "output_type": "stream",
          "name": "stderr",
          "text": [
            "Training: 100%|██████████| 19/19 [00:00<00:00, 279.22it/s, loss=5.19]\n"
          ]
        },
        {
          "output_type": "stream",
          "name": "stdout",
          "text": [
            "Epoch [245/300] Loss: 10.23452545467176\n"
          ]
        },
        {
          "output_type": "stream",
          "name": "stderr",
          "text": [
            "Training: 100%|██████████| 19/19 [00:00<00:00, 268.26it/s, loss=7.58]\n"
          ]
        },
        {
          "output_type": "stream",
          "name": "stdout",
          "text": [
            "Epoch [246/300] Loss: 10.28721422898142\n"
          ]
        },
        {
          "output_type": "stream",
          "name": "stderr",
          "text": [
            "Training: 100%|██████████| 19/19 [00:00<00:00, 254.68it/s, loss=23.5]\n"
          ]
        },
        {
          "output_type": "stream",
          "name": "stdout",
          "text": [
            "Epoch [247/300] Loss: 10.636239378075851\n"
          ]
        },
        {
          "output_type": "stream",
          "name": "stderr",
          "text": [
            "Training: 100%|██████████| 19/19 [00:00<00:00, 238.77it/s, loss=21]\n"
          ]
        },
        {
          "output_type": "stream",
          "name": "stdout",
          "text": [
            "Epoch [248/300] Loss: 10.576714038848877\n"
          ]
        },
        {
          "output_type": "stream",
          "name": "stderr",
          "text": [
            "Training: 100%|██████████| 19/19 [00:00<00:00, 265.65it/s, loss=21]\n"
          ]
        },
        {
          "output_type": "stream",
          "name": "stdout",
          "text": [
            "Epoch [249/300] Loss: 10.570877802999396\n"
          ]
        },
        {
          "output_type": "stream",
          "name": "stderr",
          "text": [
            "Training: 100%|██████████| 19/19 [00:00<00:00, 272.93it/s, loss=21.6]\n"
          ]
        },
        {
          "output_type": "stream",
          "name": "stdout",
          "text": [
            "Epoch [250/300] Loss: 10.589151382446289\n"
          ]
        },
        {
          "output_type": "stream",
          "name": "stderr",
          "text": [
            "Training: 100%|██████████| 19/19 [00:00<00:00, 272.44it/s, loss=7.3]\n"
          ]
        },
        {
          "output_type": "stream",
          "name": "stdout",
          "text": [
            "Epoch [251/300] Loss: 10.275993547941509\n"
          ]
        },
        {
          "output_type": "stream",
          "name": "stderr",
          "text": [
            "Training: 100%|██████████| 19/19 [00:00<00:00, 279.92it/s, loss=6.66]\n"
          ]
        },
        {
          "output_type": "stream",
          "name": "stdout",
          "text": [
            "Epoch [252/300] Loss: 10.27458607523065\n"
          ]
        },
        {
          "output_type": "stream",
          "name": "stderr",
          "text": [
            "Training: 100%|██████████| 19/19 [00:00<00:00, 281.98it/s, loss=9.02]\n"
          ]
        },
        {
          "output_type": "stream",
          "name": "stdout",
          "text": [
            "Epoch [253/300] Loss: 10.315611236973814\n"
          ]
        },
        {
          "output_type": "stream",
          "name": "stderr",
          "text": [
            "Training: 100%|██████████| 19/19 [00:00<00:00, 289.67it/s, loss=20.9]\n"
          ]
        },
        {
          "output_type": "stream",
          "name": "stdout",
          "text": [
            "Epoch [254/300] Loss: 10.576613589336997\n"
          ]
        },
        {
          "output_type": "stream",
          "name": "stderr",
          "text": [
            "Training: 100%|██████████| 19/19 [00:00<00:00, 275.54it/s, loss=4.02]\n"
          ]
        },
        {
          "output_type": "stream",
          "name": "stdout",
          "text": [
            "Epoch [255/300] Loss: 10.206844731381064\n",
            "Best model saved at epoch 255\n"
          ]
        },
        {
          "output_type": "stream",
          "name": "stderr",
          "text": [
            "Training: 100%|██████████| 19/19 [00:00<00:00, 266.17it/s, loss=5.32]\n"
          ]
        },
        {
          "output_type": "stream",
          "name": "stdout",
          "text": [
            "Epoch [256/300] Loss: 10.238108383981805\n"
          ]
        },
        {
          "output_type": "stream",
          "name": "stderr",
          "text": [
            "Training: 100%|██████████| 19/19 [00:00<00:00, 274.32it/s, loss=15.7]\n"
          ]
        },
        {
          "output_type": "stream",
          "name": "stdout",
          "text": [
            "Epoch [257/300] Loss: 10.456403004495721\n"
          ]
        },
        {
          "output_type": "stream",
          "name": "stderr",
          "text": [
            "Training: 100%|██████████| 19/19 [00:00<00:00, 267.23it/s, loss=20.3]\n"
          ]
        },
        {
          "output_type": "stream",
          "name": "stdout",
          "text": [
            "Epoch [258/300] Loss: 10.549075703871878\n"
          ]
        },
        {
          "output_type": "stream",
          "name": "stderr",
          "text": [
            "Training: 100%|██████████| 19/19 [00:00<00:00, 283.73it/s, loss=7.83]\n"
          ]
        },
        {
          "output_type": "stream",
          "name": "stdout",
          "text": [
            "Epoch [259/300] Loss: 10.285386010220176\n"
          ]
        },
        {
          "output_type": "stream",
          "name": "stderr",
          "text": [
            "Training: 100%|██████████| 19/19 [00:00<00:00, 274.67it/s, loss=4.12]\n"
          ]
        },
        {
          "output_type": "stream",
          "name": "stdout",
          "text": [
            "Epoch [260/300] Loss: 10.20611067822105\n",
            "Best model saved at epoch 260\n"
          ]
        },
        {
          "output_type": "stream",
          "name": "stderr",
          "text": [
            "Training: 100%|██████████| 19/19 [00:00<00:00, 284.49it/s, loss=5.6]\n"
          ]
        },
        {
          "output_type": "stream",
          "name": "stdout",
          "text": [
            "Epoch [261/300] Loss: 10.240632508930407\n"
          ]
        },
        {
          "output_type": "stream",
          "name": "stderr",
          "text": [
            "Training: 100%|██████████| 19/19 [00:00<00:00, 274.70it/s, loss=5.6]\n"
          ]
        },
        {
          "output_type": "stream",
          "name": "stdout",
          "text": [
            "Epoch [262/300] Loss: 10.236169162549471\n"
          ]
        },
        {
          "output_type": "stream",
          "name": "stderr",
          "text": [
            "Training: 100%|██████████| 19/19 [00:00<00:00, 278.90it/s, loss=21.1]\n"
          ]
        },
        {
          "output_type": "stream",
          "name": "stdout",
          "text": [
            "Epoch [263/300] Loss: 10.571127966830606\n"
          ]
        },
        {
          "output_type": "stream",
          "name": "stderr",
          "text": [
            "Training: 100%|██████████| 19/19 [00:00<00:00, 287.19it/s, loss=16.9]\n"
          ]
        },
        {
          "output_type": "stream",
          "name": "stdout",
          "text": [
            "Epoch [264/300] Loss: 10.477202440563001\n"
          ]
        },
        {
          "output_type": "stream",
          "name": "stderr",
          "text": [
            "Training: 100%|██████████| 19/19 [00:00<00:00, 280.60it/s, loss=12.9]\n"
          ]
        },
        {
          "output_type": "stream",
          "name": "stdout",
          "text": [
            "Epoch [265/300] Loss: 10.392396098689028\n"
          ]
        },
        {
          "output_type": "stream",
          "name": "stderr",
          "text": [
            "Training: 100%|██████████| 19/19 [00:00<00:00, 310.40it/s, loss=19.9]\n"
          ]
        },
        {
          "output_type": "stream",
          "name": "stdout",
          "text": [
            "Epoch [266/300] Loss: 10.543512093393426\n"
          ]
        },
        {
          "output_type": "stream",
          "name": "stderr",
          "text": [
            "Training: 100%|██████████| 19/19 [00:00<00:00, 280.05it/s, loss=12]\n"
          ]
        },
        {
          "output_type": "stream",
          "name": "stdout",
          "text": [
            "Epoch [267/300] Loss: 10.379864943654914\n"
          ]
        },
        {
          "output_type": "stream",
          "name": "stderr",
          "text": [
            "Training: 100%|██████████| 19/19 [00:00<00:00, 269.77it/s, loss=13.9]\n"
          ]
        },
        {
          "output_type": "stream",
          "name": "stdout",
          "text": [
            "Epoch [268/300] Loss: 10.410758018493652\n"
          ]
        },
        {
          "output_type": "stream",
          "name": "stderr",
          "text": [
            "Training: 100%|██████████| 19/19 [00:00<00:00, 262.57it/s, loss=7.32]\n"
          ]
        },
        {
          "output_type": "stream",
          "name": "stdout",
          "text": [
            "Epoch [269/300] Loss: 10.278642328161942\n"
          ]
        },
        {
          "output_type": "stream",
          "name": "stderr",
          "text": [
            "Training: 100%|██████████| 19/19 [00:00<00:00, 230.93it/s, loss=10.3]\n"
          ]
        },
        {
          "output_type": "stream",
          "name": "stdout",
          "text": [
            "Epoch [270/300] Loss: 10.335771886925949\n"
          ]
        },
        {
          "output_type": "stream",
          "name": "stderr",
          "text": [
            "Training: 100%|██████████| 19/19 [00:00<00:00, 247.25it/s, loss=6.23]\n"
          ]
        },
        {
          "output_type": "stream",
          "name": "stdout",
          "text": [
            "Epoch [271/300] Loss: 10.256377220153809\n"
          ]
        },
        {
          "output_type": "stream",
          "name": "stderr",
          "text": [
            "Training: 100%|██████████| 19/19 [00:00<00:00, 240.18it/s, loss=6.24]\n"
          ]
        },
        {
          "output_type": "stream",
          "name": "stdout",
          "text": [
            "Epoch [272/300] Loss: 10.251399692736173\n"
          ]
        },
        {
          "output_type": "stream",
          "name": "stderr",
          "text": [
            "Training: 100%|██████████| 19/19 [00:00<00:00, 258.22it/s, loss=10.3]\n"
          ]
        },
        {
          "output_type": "stream",
          "name": "stdout",
          "text": [
            "Epoch [273/300] Loss: 10.32980223705894\n"
          ]
        },
        {
          "output_type": "stream",
          "name": "stderr",
          "text": [
            "Training: 100%|██████████| 19/19 [00:00<00:00, 252.39it/s, loss=6.1]\n"
          ]
        },
        {
          "output_type": "stream",
          "name": "stdout",
          "text": [
            "Epoch [274/300] Loss: 10.24423064683613\n"
          ]
        },
        {
          "output_type": "stream",
          "name": "stderr",
          "text": [
            "Training: 100%|██████████| 19/19 [00:00<00:00, 250.65it/s, loss=4.98]\n"
          ]
        },
        {
          "output_type": "stream",
          "name": "stdout",
          "text": [
            "Epoch [275/300] Loss: 10.223719421185946\n"
          ]
        },
        {
          "output_type": "stream",
          "name": "stderr",
          "text": [
            "Training: 100%|██████████| 19/19 [00:00<00:00, 228.21it/s, loss=22.5]\n"
          ]
        },
        {
          "output_type": "stream",
          "name": "stdout",
          "text": [
            "Epoch [276/300] Loss: 10.59291480716906\n"
          ]
        },
        {
          "output_type": "stream",
          "name": "stderr",
          "text": [
            "Training: 100%|██████████| 19/19 [00:00<00:00, 200.46it/s, loss=4.76]\n"
          ]
        },
        {
          "output_type": "stream",
          "name": "stdout",
          "text": [
            "Epoch [277/300] Loss: 10.218542902093185\n"
          ]
        },
        {
          "output_type": "stream",
          "name": "stderr",
          "text": [
            "Training: 100%|██████████| 19/19 [00:00<00:00, 252.63it/s, loss=8.31]\n"
          ]
        },
        {
          "output_type": "stream",
          "name": "stdout",
          "text": [
            "Epoch [278/300] Loss: 10.29673531180934\n"
          ]
        },
        {
          "output_type": "stream",
          "name": "stderr",
          "text": [
            "Training: 100%|██████████| 19/19 [00:00<00:00, 252.69it/s, loss=6.24]\n"
          ]
        },
        {
          "output_type": "stream",
          "name": "stdout",
          "text": [
            "Epoch [279/300] Loss: 10.240713897504305\n"
          ]
        },
        {
          "output_type": "stream",
          "name": "stderr",
          "text": [
            "Training: 100%|██████████| 19/19 [00:00<00:00, 254.01it/s, loss=8.47]\n"
          ]
        },
        {
          "output_type": "stream",
          "name": "stdout",
          "text": [
            "Epoch [280/300] Loss: 10.29002332687378\n"
          ]
        },
        {
          "output_type": "stream",
          "name": "stderr",
          "text": [
            "Training: 100%|██████████| 19/19 [00:00<00:00, 243.10it/s, loss=18.1]\n"
          ]
        },
        {
          "output_type": "stream",
          "name": "stdout",
          "text": [
            "Epoch [281/300] Loss: 10.499146160326505\n"
          ]
        },
        {
          "output_type": "stream",
          "name": "stderr",
          "text": [
            "Training: 100%|██████████| 19/19 [00:00<00:00, 236.92it/s, loss=8.07]\n"
          ]
        },
        {
          "output_type": "stream",
          "name": "stdout",
          "text": [
            "Epoch [282/300] Loss: 10.280773363615337\n"
          ]
        },
        {
          "output_type": "stream",
          "name": "stderr",
          "text": [
            "Training: 100%|██████████| 19/19 [00:00<00:00, 224.08it/s, loss=4.84]\n"
          ]
        },
        {
          "output_type": "stream",
          "name": "stdout",
          "text": [
            "Epoch [283/300] Loss: 10.218972833533035\n"
          ]
        },
        {
          "output_type": "stream",
          "name": "stderr",
          "text": [
            "Training: 100%|██████████| 19/19 [00:00<00:00, 240.61it/s, loss=7.26]\n"
          ]
        },
        {
          "output_type": "stream",
          "name": "stdout",
          "text": [
            "Epoch [284/300] Loss: 10.262910842895508\n"
          ]
        },
        {
          "output_type": "stream",
          "name": "stderr",
          "text": [
            "Training: 100%|██████████| 19/19 [00:00<00:00, 212.49it/s, loss=19.9]\n"
          ]
        },
        {
          "output_type": "stream",
          "name": "stdout",
          "text": [
            "Epoch [285/300] Loss: 10.543020900927091\n"
          ]
        },
        {
          "output_type": "stream",
          "name": "stderr",
          "text": [
            "Training: 100%|██████████| 19/19 [00:00<00:00, 255.29it/s, loss=15.8]\n"
          ]
        },
        {
          "output_type": "stream",
          "name": "stdout",
          "text": [
            "Epoch [286/300] Loss: 10.449678797470895\n"
          ]
        },
        {
          "output_type": "stream",
          "name": "stderr",
          "text": [
            "Training: 100%|██████████| 19/19 [00:00<00:00, 255.32it/s, loss=9.38]\n"
          ]
        },
        {
          "output_type": "stream",
          "name": "stdout",
          "text": [
            "Epoch [287/300] Loss: 10.307509447398939\n"
          ]
        },
        {
          "output_type": "stream",
          "name": "stderr",
          "text": [
            "Training: 100%|██████████| 19/19 [00:00<00:00, 243.60it/s, loss=10]\n"
          ]
        },
        {
          "output_type": "stream",
          "name": "stdout",
          "text": [
            "Epoch [288/300] Loss: 10.327388763427734\n"
          ]
        },
        {
          "output_type": "stream",
          "name": "stderr",
          "text": [
            "Training: 100%|██████████| 19/19 [00:00<00:00, 244.18it/s, loss=16.8]\n"
          ]
        },
        {
          "output_type": "stream",
          "name": "stdout",
          "text": [
            "Epoch [289/300] Loss: 10.465161524320903\n"
          ]
        },
        {
          "output_type": "stream",
          "name": "stderr",
          "text": [
            "Training: 100%|██████████| 19/19 [00:00<00:00, 250.28it/s, loss=7.72]\n"
          ]
        },
        {
          "output_type": "stream",
          "name": "stdout",
          "text": [
            "Epoch [290/300] Loss: 10.271820269132915\n"
          ]
        },
        {
          "output_type": "stream",
          "name": "stderr",
          "text": [
            "Training: 100%|██████████| 19/19 [00:00<00:00, 244.41it/s, loss=5.54]\n"
          ]
        },
        {
          "output_type": "stream",
          "name": "stdout",
          "text": [
            "Epoch [291/300] Loss: 10.231592579891807\n"
          ]
        },
        {
          "output_type": "stream",
          "name": "stderr",
          "text": [
            "Training: 100%|██████████| 19/19 [00:00<00:00, 243.20it/s, loss=10.5]\n"
          ]
        },
        {
          "output_type": "stream",
          "name": "stdout",
          "text": [
            "Epoch [292/300] Loss: 10.348632511339689\n"
          ]
        },
        {
          "output_type": "stream",
          "name": "stderr",
          "text": [
            "Training: 100%|██████████| 19/19 [00:00<00:00, 257.80it/s, loss=9.04]\n"
          ]
        },
        {
          "output_type": "stream",
          "name": "stdout",
          "text": [
            "Epoch [293/300] Loss: 10.293858252073589\n"
          ]
        },
        {
          "output_type": "stream",
          "name": "stderr",
          "text": [
            "Training: 100%|██████████| 19/19 [00:00<00:00, 243.02it/s, loss=3.85]\n"
          ]
        },
        {
          "output_type": "stream",
          "name": "stdout",
          "text": [
            "Epoch [294/300] Loss: 10.195558108781514\n",
            "Best model saved at epoch 294\n"
          ]
        },
        {
          "output_type": "stream",
          "name": "stderr",
          "text": [
            "Training: 100%|██████████| 19/19 [00:00<00:00, 269.24it/s, loss=7.82]\n"
          ]
        },
        {
          "output_type": "stream",
          "name": "stdout",
          "text": [
            "Epoch [295/300] Loss: 10.274540499637002\n"
          ]
        },
        {
          "output_type": "stream",
          "name": "stderr",
          "text": [
            "Training: 100%|██████████| 19/19 [00:00<00:00, 288.26it/s, loss=8.33]\n"
          ]
        },
        {
          "output_type": "stream",
          "name": "stdout",
          "text": [
            "Epoch [296/300] Loss: 10.283127282795153\n"
          ]
        },
        {
          "output_type": "stream",
          "name": "stderr",
          "text": [
            "Training: 100%|██████████| 19/19 [00:00<00:00, 278.20it/s, loss=11]\n"
          ]
        },
        {
          "output_type": "stream",
          "name": "stdout",
          "text": [
            "Epoch [297/300] Loss: 10.344743967056274\n"
          ]
        },
        {
          "output_type": "stream",
          "name": "stderr",
          "text": [
            "Training: 100%|██████████| 19/19 [00:00<00:00, 278.20it/s, loss=8.04]\n"
          ]
        },
        {
          "output_type": "stream",
          "name": "stdout",
          "text": [
            "Epoch [298/300] Loss: 10.277929807964124\n"
          ]
        },
        {
          "output_type": "stream",
          "name": "stderr",
          "text": [
            "Training: 100%|██████████| 19/19 [00:00<00:00, 267.91it/s, loss=6]\n"
          ]
        },
        {
          "output_type": "stream",
          "name": "stdout",
          "text": [
            "Epoch [299/300] Loss: 10.237283756858425\n"
          ]
        },
        {
          "output_type": "stream",
          "name": "stderr",
          "text": [
            "Training: 100%|██████████| 19/19 [00:00<00:00, 274.56it/s, loss=13.9]\n"
          ]
        },
        {
          "output_type": "stream",
          "name": "stdout",
          "text": [
            "Epoch [300/300] Loss: 10.406094074249268\n",
            "Final model saved at epoch 300\n"
          ]
        }
      ]
    },
    {
      "cell_type": "markdown",
      "source": [
        "#### Export Embedding matrix\n",
        "\n",
        "- Since each character has its own context and target embedding, the question is which one we use for inferencing, we use an average of context embedding and target embeding of that character"
      ],
      "metadata": {
        "id": "jAdb7H5XPI7I"
      }
    },
    {
      "cell_type": "code",
      "source": [
        "model.context_embedding"
      ],
      "metadata": {
        "colab": {
          "base_uri": "https://localhost:8080/"
        },
        "id": "Gjl2Q3SfQnaF",
        "outputId": "9a02f92f-1a00-4996-a0ac-31a1cf298e8a"
      },
      "execution_count": null,
      "outputs": [
        {
          "output_type": "execute_result",
          "data": {
            "text/plain": [
              "Embedding(69, 32)"
            ]
          },
          "metadata": {},
          "execution_count": 127
        }
      ]
    },
    {
      "cell_type": "code",
      "source": [
        "# Export weight matrix from model\n",
        "context_embedding = model.context_embedding.weight.data.cpu().numpy()\n",
        "target_embedding = model.target_embedding.weight.data.cpu().numpy()\n",
        "embedding = (context_embedding + target_embedding) / 2\n",
        "print(f\"{embedding.shape = }\")"
      ],
      "metadata": {
        "colab": {
          "base_uri": "https://localhost:8080/"
        },
        "id": "neYkKsDDQvI1",
        "outputId": "10a30164-44a0-4a30-bbeb-162d9779ec6b"
      },
      "execution_count": null,
      "outputs": [
        {
          "output_type": "stream",
          "name": "stdout",
          "text": [
            "embedding.shape = (69, 32)\n"
          ]
        }
      ]
    },
    {
      "cell_type": "code",
      "source": [
        "import numpy as np\n",
        "from scipy.spatial import distance\n",
        "\n",
        "def check_similarity(char:str,\n",
        "                     vocabulary:Dict[int,str],\n",
        "                     top_k:int=5,\n",
        "                     metric=\"euclidean\",\n",
        "                     emb_matrix=embedding):\n",
        "\n",
        "  # Initiate reverse vocabulary\n",
        "  reverse_vocabulary = {v: k for k, v in vocabulary.items()}\n",
        "\n",
        "  char_id = vocabulary[char]\n",
        "  # GEt row vector of particular char_id\n",
        "  char_vector = emb_matrix[[char_id],:]\n",
        "\n",
        "  # Calculate the pairwise Euclidean distances\n",
        "  distances = distance.cdist(emb_matrix,\n",
        "                             char_vector,\n",
        "                             metric=\"euclidean\")\n",
        "\n",
        "  # Get the row indices sorted by minima\n",
        "  sorted_indices = np.argsort(distances.flatten())\n",
        "  sorted_distance = np.sort(distances.flatten())\n",
        "\n",
        "  # The top_k rows with the smallest minima\n",
        "  top_k_indices = sorted_indices[:top_k+1]\n",
        "  top_k_distances = sorted_distance[:top_k+1]\n",
        "\n",
        "  result = dict()\n",
        "  for index,dist in zip(top_k_indices,top_k_distances):\n",
        "    char_word = reverse_vocabulary[index]\n",
        "    result.update({char_word : dist})\n",
        "  return result\n",
        "\n",
        "print(check_similarity(\"ิ\",vocabulary,10))\n",
        "print(check_similarity(\"ก\",vocabulary,10))\n",
        "print(check_similarity(\"เ\",vocabulary,10))\n",
        "print(check_similarity(\"ส\",vocabulary,10))"
      ],
      "metadata": {
        "id": "Q_lJLeVxID_j",
        "colab": {
          "base_uri": "https://localhost:8080/"
        },
        "outputId": "790d0a41-f356-400d-a0a2-b4e80f963176"
      },
      "execution_count": null,
      "outputs": [
        {
          "output_type": "stream",
          "name": "stdout",
          "text": [
            "{'ิ': 0.0, '๊': 2.973110631923862, 'เ': 3.094202160536447, 'ฤ': 3.1539502696953967, 'ฝ': 3.195534963617502, 'ผ': 3.3168545634140356, 'ค': 3.3666002202798757, 'ฒ': 3.3846263385205524, 'ห': 3.4237474890263253, 'ด': 3.52618020920503, '๋': 3.5609357448697154}\n",
            "{'ก': 0.0, 'ใ': 3.3385567020853735, 'จ': 3.385761956205591, 'ค': 3.674098509288511, 'ถ': 3.6753669011582595, 'ช': 3.694738365395765, 'ร': 3.728371169998718, 'ข': 3.7329491413720253, 'ิ': 3.7341691964823887, 'ฒ': 3.7630725647011154, 'เ': 3.796240049330273}\n",
            "{'เ': 0.0, 'ป': 2.297287073339639, 'ผ': 2.738675191969186, 'ฒ': 2.8137238206866853, 'ช': 2.9682015525861, '๊': 2.9824831423591216, 'ำ': 2.9837452858743125, 'อ': 2.9944669691927293, 'ณ': 3.0189173829124156, 'ษ': 3.06539859398068, 'ร': 3.0877061835056656}\n",
            "{'ส': 0.0, 'ู': 2.9704404950968413, '๋': 3.009716793181586, 'ฒ': 3.0528315556839662, 'ข': 3.088074389021517, 'ื': 3.1222292726319156, 'พ': 3.352003106755741, 'ฉ': 3.3652308404109434, 'ล': 3.390370356355161, 'ฮ': 3.4212979872262177, 'ภ': 3.4381599872582544}\n"
          ]
        }
      ]
    },
    {
      "cell_type": "code",
      "source": [
        "embedding"
      ],
      "metadata": {
        "id": "wczWKePmNOtT",
        "colab": {
          "base_uri": "https://localhost:8080/"
        },
        "outputId": "f1e4eff2-5859-4b4a-f59c-48576dfd4176"
      },
      "execution_count": null,
      "outputs": [
        {
          "output_type": "execute_result",
          "data": {
            "text/plain": [
              "array([[ 0.15581387,  0.1431417 ,  0.44284114, ...,  0.15342152,\n",
              "         0.00453062,  0.8228752 ],\n",
              "       [ 0.24427465, -0.16295636, -0.47832355, ..., -0.4804779 ,\n",
              "         0.45345765,  0.94942254],\n",
              "       [-0.23046917, -0.14013077,  0.08715141, ..., -0.34462816,\n",
              "        -0.27488604,  0.04552346],\n",
              "       ...,\n",
              "       [ 0.14586331, -0.32998466,  0.7742264 , ..., -0.37993333,\n",
              "         1.1077611 ,  0.29004058],\n",
              "       [ 0.22525868, -0.6630054 , -0.22961305, ..., -0.8664666 ,\n",
              "         0.07013226,  0.14525671],\n",
              "       [-0.12767416,  0.11092621, -0.5826497 , ...,  0.48762727,\n",
              "        -0.24496958,  0.1897187 ]], dtype=float32)"
            ]
          },
          "metadata": {},
          "execution_count": 159
        }
      ]
    },
    {
      "cell_type": "markdown",
      "source": [
        "### Visualize embedding vector in low dimensional space"
      ],
      "metadata": {
        "id": "2nJHPe3UNgKD"
      }
    },
    {
      "cell_type": "code",
      "source": [
        "from sklearn.manifold import TSNE\n",
        "import pandas as pd\n",
        "\n",
        "tsne_embedded = TSNE(n_components=2,\n",
        "                  learning_rate='auto',\n",
        "                  init='pca',\n",
        "                  n_iter=10000,\n",
        "                  perplexity=5).fit_transform(embedding)\n",
        "\n",
        "print(f\"{tsne_embedded.shape=}\")"
      ],
      "metadata": {
        "id": "t0OtRiaOAyoc",
        "colab": {
          "base_uri": "https://localhost:8080/"
        },
        "outputId": "b223b733-5d5a-4b32-9f04-f35f5300c89e"
      },
      "execution_count": null,
      "outputs": [
        {
          "output_type": "stream",
          "name": "stdout",
          "text": [
            "tsne_embedded.shape=(69, 2)\n"
          ]
        }
      ]
    },
    {
      "cell_type": "code",
      "source": [
        "tsne_data = {\n",
        "    'x': tsne_embedded[:, 0],\n",
        "    'y': tsne_embedded[:, 1],\n",
        "    'label': [reverse_vocabulary[i] for i in range(len(tsne_embedded))]\n",
        "}\n",
        "\n",
        "tsne_df = pd.DataFrame(tsne_data)"
      ],
      "metadata": {
        "id": "fjFiyqTXPU6h"
      },
      "execution_count": null,
      "outputs": []
    },
    {
      "cell_type": "code",
      "source": [
        "# Let's ignore row with <unk> and <pad>\n",
        "tsne_df = tsne_df[~tsne_df['label'].isin(['<unk>', '<pad>'])].reset_index(drop=True)"
      ],
      "metadata": {
        "id": "97IkTgWOSlIt"
      },
      "execution_count": null,
      "outputs": []
    },
    {
      "cell_type": "code",
      "source": [
        "thai_category_char = {\n",
        "    \"consonants\" : list(\"กขฃคฅฆงจฉชซฌญฎฏฐฑฒณดตถทธนบปผฝพฟภมยรลวศษสหฬอฮ\"),\n",
        "    \"tonemarks\" : list(\"่้๊๋\"),\n",
        "    \"vowels\" : list(\"ฤฦะัาำิีึืุูเแโใไๅํ็\"),\n",
        "    \"others\" : list(\"์\")\n",
        "}\n",
        "\n",
        "def categorize_char(char):\n",
        "    if char in thai_category_char[\"consonants\"]:\n",
        "        return 'Consonant'\n",
        "    elif char in thai_category_char[\"tonemarks\"]:\n",
        "        return 'Tonemark'\n",
        "    elif char in thai_category_char[\"vowels\"]:\n",
        "        return 'Vowel'\n",
        "    elif char in thai_category_char[\"others\"]:\n",
        "        return 'Other'\n",
        "    else:\n",
        "        return 'Unknown'"
      ],
      "metadata": {
        "id": "GfyGGvYR4FLU"
      },
      "execution_count": null,
      "outputs": []
    },
    {
      "cell_type": "code",
      "source": [
        "from sklearn.manifold import TSNE\n",
        "import matplotlib.pyplot as plt\n",
        "import seaborn as sns\n",
        "\n",
        "def plot_tsne_from_embed_matrix(emb_matrix,\n",
        "                                blacklist_chars:List=['<unk>', '<pad>'],\n",
        "                                perplexity=5,\n",
        "                                model_name=\"GloVe window size : 1\"):\n",
        "  # Crate tsne embed matrix\n",
        "  tsne_embedded = TSNE(n_components=2,\n",
        "                  learning_rate='auto',\n",
        "                  init='pca',\n",
        "                  n_iter=100000000,\n",
        "                  perplexity=perplexity).fit_transform(emb_matrix)\n",
        "\n",
        "  # Format tsne matrix to dataframe\n",
        "  tsne_data = {\n",
        "    'x': tsne_embedded[:, 0],\n",
        "    'y': tsne_embedded[:, 1],\n",
        "    'label': [reverse_vocabulary[i] for i in range(len(tsne_embedded))],\n",
        "  }\n",
        "\n",
        "  tsne_df = pd.DataFrame(tsne_data)\n",
        "  tsne_df['category'] = tsne_df['label'].apply(categorize_char)\n",
        "\n",
        "  # Drop row with blacklist char\n",
        "  tsne_df = tsne_df[~tsne_df['label'].isin(blacklist_chars)].reset_index(drop=True)\n",
        "  # Plot\n",
        "  ax = sns.scatterplot(x='x', y='y', hue='category', data=tsne_df, palette='tab10')\n",
        "\n",
        "  # Annotate the points with labels\n",
        "  plt.title(f\"TSNE {model_name} with perplexity: {perplexity}\")\n",
        "  for line in range(0, tsne_df.shape[0]):\n",
        "      plt.text(tsne_df.x[line], tsne_df.y[line], tsne_df.label[line],\n",
        "               horizontalalignment='left', fontsize=9, color='black')\n",
        "\n",
        "  # Move the legend outside of the plot\n",
        "  ax.legend(loc='center left', bbox_to_anchor=(1, 0.5))\n",
        "\n",
        "  plt.show()\n",
        "\n",
        "\n"
      ],
      "metadata": {
        "id": "k1amsjyIndu5"
      },
      "execution_count": null,
      "outputs": []
    },
    {
      "cell_type": "code",
      "source": [
        "plot_tsne_from_embed_matrix(embedding,\n",
        "                            perplexity=8,\n",
        "                            model_name=f\"GloVe({window_size=},{emb_size=})\"\n",
        "                            )"
      ],
      "metadata": {
        "colab": {
          "base_uri": "https://localhost:8080/",
          "height": 516
        },
        "id": "V0gXRR7Qse5j",
        "outputId": "f53cae48-5282-46a9-a07b-e2aad1c25117"
      },
      "execution_count": null,
      "outputs": [
        {
          "output_type": "display_data",
          "data": {
            "text/plain": [
              "<Figure size 640x480 with 1 Axes>"
            ],
            "image/png": "[encoded data removed]"
          },
          "metadata": {}
        }
      ]
    },
    {
      "cell_type": "code",
      "source": [
        "import json\n",
        "# Lastly, we ignore\n",
        "# Save emb matrix as numpy array (.npz)\n",
        "print(f\"{embedding.shape = }\")\n",
        "np.savez(\"glove_emb_matrix.npz\",embedding)\n",
        "\n",
        "with open(\"vocabulary.json\",\"w\",encoding=\"utf-8\") as f:\n",
        "  json.dump(vocabulary,f,ensure_ascii=False)"
      ],
      "metadata": {
        "colab": {
          "base_uri": "https://localhost:8080/"
        },
        "id": "fipgUszMDUgO",
        "outputId": "32aa42fc-78cb-4ba2-b537-38a7cb24eb22"
      },
      "execution_count": null,
      "outputs": [
        {
          "output_type": "stream",
          "name": "stdout",
          "text": [
            "embedding.shape = (69, 32)\n"
          ]
        }
      ]
    }
  ]
}